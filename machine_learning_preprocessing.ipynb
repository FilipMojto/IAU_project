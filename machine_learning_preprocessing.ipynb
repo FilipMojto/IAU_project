{
 "cells": [
  {
   "cell_type": "markdown",
   "id": "31586e95-42b8-4f7c-a166-1ef66c9fbf6e",
   "metadata": {},
   "source": [
    "# Predspracovanie údajov"
   ]
  },
  {
   "cell_type": "markdown",
   "id": "8e4a343b-68ee-4a48-90cd-3b5d9e272222",
   "metadata": {},
   "source": [
    "- Na začiatok si naimportujeme niektoré dôležité knižnice, s ktorými budeme v tejto správe pracovať."
   ]
  },
  {
   "cell_type": "code",
   "execution_count": 130,
   "id": "2a493f6b-6279-4c4d-9600-1806182a9c0e",
   "metadata": {},
   "outputs": [],
   "source": [
    "import pandas as pd\n",
    "import scipy\n",
    "import math\n",
    "import matplotlib.pyplot as plt\n",
    "import random as rn"
   ]
  },
  {
   "cell_type": "markdown",
   "id": "28b3ba56-4928-4714-bb3a-f2020293cca7",
   "metadata": {},
   "source": [
    "- Teraz otvoríme všetky 3 súbory a uložíme ich ako dataframe."
   ]
  },
  {
   "cell_type": "code",
   "execution_count": 301,
   "id": "4cc2184e-addc-4b3f-b764-825a5078b65e",
   "metadata": {},
   "outputs": [],
   "source": [
    "PRODUCT_FILE_PATH = \"resources/product.csv\"\n",
    "USER_FILE_PATH = \"resources/user.csv\"\n",
    "SESSION_FILE_PATH = \"resources/session.csv\"\n",
    "\n",
    "prod_df = pd.read_csv(PRODUCT_FILE_PATH, delimiter='\\t')\n",
    "user_df = pd.read_csv(USER_FILE_PATH, delimiter='\\t')\n",
    "sess_df = pd.read_csv(SESSION_FILE_PATH, delimiter='\\t')"
   ]
  },
  {
   "cell_type": "markdown",
   "id": "e59d42a0-7e0a-424e-8cb9-a370a3747f00",
   "metadata": {},
   "source": [
    "## Integrácia a čistenie dát\n",
    "\n",
    "### Spracovanie chýbajúcich údajov\n",
    "- V tejto časti sa venujeme nešpecifikovaným hodnotám (NaN). Na spracovanie všetkých 3 datasetov používame funkciu *process_missing_vals(df, limit)*. Táto funkcia spracúva daný dataframe po jednotlivých stĺpcoch. Ak je v danom stĺpci počet hodnôt NaN pod limitom (teda je akceptovateľný), tak sú dané riadky odstránené. Na určenie miery akceptovateľnosti sa používa atribút *limit*, ktorý predstavuje percento akceptovateľnosti. V prípade, že hodnoty sú nad limitom, tak sú nahradené:\n",
    "\n",
    "    1. __modusom__ (najčastejšia hodnota) v prípade __nenumerických__ dát\n",
    "    2. __mediánom__ v prípade __numerických__ dát\n",
    "\n",
    "- Je nutné pripomenúť, že funkcia priamo mení dané datasety, takže pri opätovných pokusoch o spustenie bunky nižšie budú výsledky také, že všetky stĺpce neobsahujú žiadne NaN."
   ]
  },
  {
   "cell_type": "code",
   "execution_count": 302,
   "id": "2592c859-4557-4687-903a-0601324a54ad",
   "metadata": {},
   "outputs": [
    {
     "name": "stdout",
     "output_type": "stream",
     "text": [
      "Original Length: 14967\n",
      "\n",
      "starting the process...\n",
      "Limit: 150\n",
      "Column 'location': No NaN values initially.\n",
      "Column 'product_ean': No NaN values initially.\n",
      "Column 'store_name': No NaN values initially.\n",
      "Column 'code': Dropping NaN values...\n",
      "NaN count before - 22, after - 0\n",
      "Process done!\n",
      "\n",
      "New Length: 14945\n",
      "Original Length: 2533\n",
      "\n",
      "starting the process...\n",
      "Limit: 26\n",
      "Column 'address': Too many NaN values... Imputing the most common value...\n",
      "NaN count before - 380, after - 0\n",
      "Column 'name': No NaN values initially.\n",
      "Column 'race': Too many NaN values... Imputing the most common value...\n",
      "NaN count before - 1773, after - 0\n",
      "Column 'registration': No NaN values initially.\n",
      "Column 'username': No NaN values initially.\n",
      "Column 'current_location': Too many NaN values... Imputing the most common value...\n",
      "NaN count before - 127, after - 0\n",
      "Column 'sex': Too many NaN values... Imputing the most common value...\n",
      "NaN count before - 1266, after - 0\n",
      "Column 'birthdate': Too many NaN values... Imputing the most common value...\n",
      "NaN count before - 1140, after - 0\n",
      "Column 'mail': No NaN values initially.\n",
      "Column 'user_id': No NaN values initially.\n",
      "Column 'job': Too many NaN values... Imputing the most common value...\n",
      "NaN count before - 1520, after - 0\n",
      "Process done!\n",
      "\n",
      "New Length: 2533\n",
      "Original Length: 11099\n",
      "\n",
      "starting the process...\n",
      "Limit: 111\n",
      "Column 'browser_name': No NaN values initially.\n",
      "Column 'pct_input': Dropping NaN values...\n",
      "NaN count before - 11, after - 0\n",
      "Column 'wild_mouse_duration': Dropping NaN values...\n",
      "NaN count before - 11, after - 0\n",
      "Column 'pct_scroll_move_duration': Dropping NaN values...\n",
      "NaN count before - 11, after - 0\n",
      "Column 'pct_wild_mouse': Dropping NaN values...\n",
      "NaN count before - 11, after - 0\n",
      "Column 'session_start': No NaN values initially.\n",
      "Column 'pct_doubleclick': Dropping NaN values...\n",
      "NaN count before - 11, after - 0\n",
      "Column 'pct_rage_click': Dropping NaN values...\n",
      "NaN count before - 11, after - 0\n",
      "Column 'pct_click': Dropping NaN values...\n",
      "NaN count before - 11, after - 0\n",
      "Column 'page_activity_duration': Dropping NaN values...\n",
      "NaN count before - 11, after - 0\n",
      "Column 'product_ean': No NaN values initially.\n",
      "Column 'pct_scrandom': Dropping NaN values...\n",
      "NaN count before - 10, after - 0\n",
      "Column 'mouse_move_total_rel_distance': Dropping NaN values...\n",
      "NaN count before - 11, after - 0\n",
      "Column 'pct_click_product_info': Dropping NaN values...\n",
      "NaN count before - 11, after - 0\n",
      "Column 'scroll_move_total_rel_distance': Dropping NaN values...\n",
      "NaN count before - 11, after - 0\n",
      "Column 'session_id': No NaN values initially.\n",
      "Column 'pct_mouse_click': Dropping NaN values...\n",
      "NaN count before - 11, after - 0\n",
      "Column 'pct_scroll_move': Dropping NaN values...\n",
      "NaN count before - 11, after - 0\n",
      "Column 'user_id': No NaN values initially.\n",
      "Column 'screen_width': No NaN values initially.\n",
      "Column 'session_duration': No NaN values initially.\n",
      "Column 'screen_height': No NaN values initially.\n",
      "Column 'total_load_time': No NaN values initially.\n",
      "Column 'ack': No NaN values initially.\n",
      "Column 'pct_mouse_move': Dropping NaN values...\n",
      "NaN count before - 11, after - 0\n",
      "Process done!\n",
      "\n",
      "New Length: 10935\n"
     ]
    }
   ],
   "source": [
    "def process_missing_vals(dataframe, limit=1):\n",
    "    print(f'\\nstarting the process...')\n",
    "\n",
    "    #Here we calculate the actual limit for NaNs which can be dropped\n",
    "    limit_count = math.ceil((len(dataframe) / 100) * limit)\n",
    "    print(f'Limit: {limit_count}')\n",
    "    \n",
    "    for col in dataframe.columns:\n",
    "        na_count_before = dataframe[col].isna().sum()\n",
    "\n",
    "        #If there are no NaNs in the current column, we move to the next one\n",
    "        if na_count_before == 0:\n",
    "            print(f\"Column '{col}': No NaN values initially.\")\n",
    "            continue\n",
    "\n",
    "        #If the count of NaNs is acceptable, we remove the rows containing them\n",
    "        if na_count_before <= limit_count:\n",
    "            print(f\"Column '{col}': Dropping NaN values...\")\n",
    "            dataframe.dropna(subset=[col], inplace=True)\n",
    "        #else we apply different strategies for numeric and non-numeric data\n",
    "        else:\n",
    "            print(f\"Column '{col}': Too many NaN values...\", end=\" \")\n",
    "            is_numeric = pd.to_numeric(dataframe[col], errors='coerce').notna().all()\n",
    "            \n",
    "            if not is_numeric:\n",
    "                print(\"Imputing the most common value...\")\n",
    "                most_common_value = dataframe[col].mode()[0]  # Get the most common value\n",
    "                dataframe[col].fillna(most_common_value, inplace=True)\n",
    "            else:\n",
    "                print(\"Imputing the median value...)\")\n",
    "                median = dataframe[col].median()\n",
    "                dataframe[col].fillna(median, inplace=True)    \n",
    "        \n",
    "        na_count_after = dataframe[col].isna().sum()\n",
    "        print(f\"NaN count before - {na_count_before}, after - {na_count_after}\")\n",
    "\n",
    "    print(f'Process done!\\n')\n",
    "\n",
    "#Processing product dataframe\n",
    "print(\"Original Length:\", len(prod_df))\n",
    "process_missing_vals(prod_df)\n",
    "print(\"New Length:\", len(prod_df))\n",
    "\n",
    "#Processing user dataframe\n",
    "print(\"Original Length:\", len(user_df))\n",
    "process_missing_vals(user_df)\n",
    "print(\"New Length:\", len(user_df))\n",
    "\n",
    "#Processing session dataframe\n",
    "print(\"Original Length:\", len(sess_df))\n",
    "process_missing_vals(sess_df)\n",
    "print(\"New Length:\", len(sess_df))"
   ]
  },
  {
   "cell_type": "markdown",
   "id": "5e78c094-4356-4d06-af5b-ad6af4b8a51f",
   "metadata": {},
   "source": [
    "- Teraz sa môžme ísť pozrieť na výsledky spracovávania. Vidno, že súbor s produktami mal najmenej nešpecifikovaných hodnôt, a to len 22 v prípade atribútu code. Keďže ide o zanedbateľné množstvo, tak boli tieto hodnoty odstránené. V prípade __datasetu s používateľmi__, tak tam bolo naopak najviac nešpecifikovaných hodnôt. Vždy bol prekročený aj limit akceptovateľnosti, takže žiadny riadok nebol v tomto prípade odstránený, ale nahradený najčastejšou hodnotou, nakoľko išlo o nenumerické dáta. V prípade posledného súboru išlo vždy o zanedbateľné množstvá NaN hodnôt, takže všetky boli odstránené.\n",
    "- Nižšie sme si zadefinovali funkcie na zobrazovenie distribúcií rozdelení na grafoch. Nižšie vypisujeme niektoré zaujímavé prípady."
   ]
  },
  {
   "cell_type": "code",
   "execution_count": 144,
   "id": "f1bbc534-522e-4bc2-a8c3-c4da2ae2a793",
   "metadata": {},
   "outputs": [],
   "source": [
    "def plt_dis(df, name = 'unknown', bar_limit = 25):\n",
    "    counts = df.value_counts().head(bar_limit)\n",
    "\n",
    "    colors = ['Red', 'Blue', 'Green', 'Black', 'Yellow', 'Orange', 'Purple', 'Pink']\n",
    "    rn.shuffle(colors)\n",
    "    \n",
    "    counts.plot(kind='bar', color=colors, alpha=1)\n",
    "    plt.ylim(0, max(counts) + 10*(max(counts)/100))\n",
    "    plt.xlabel(f'{name}')\n",
    "    plt.ylabel('Count')\n",
    "    plt.title(f\"'{name}' distribution\")\n",
    "    plt.show()\n",
    "\n",
    "def plt_table_dis(df, bar_limit = 25):\n",
    "    \n",
    "    for col in df:\n",
    "        plot_distribution(df[col], col)"
   ]
  },
  {
   "cell_type": "code",
   "execution_count": 149,
   "id": "a6725c82-2637-49a7-81d6-fa818e36a1a4",
   "metadata": {},
   "outputs": [
    {
     "data": {
      "image/png": "[encoded data removed]",
      "text/plain": [
       "<Figure size 432x288 with 1 Axes>"
      ]
     },
     "metadata": {
      "needs_background": "light"
     },
     "output_type": "display_data"
    },
    {
     "data": {
      "image/png": "[encoded data removed]",
      "text/plain": [
       "<Figure size 432x288 with 1 Axes>"
      ]
     },
     "metadata": {
      "needs_background": "light"
     },
     "output_type": "display_data"
    },
    {
     "data": {
      "image/png": "[encoded data removed]",
      "text/plain": [
       "<Figure size 432x288 with 1 Axes>"
      ]
     },
     "metadata": {
      "needs_background": "light"
     },
     "output_type": "display_data"
    }
   ],
   "source": [
    "#plt_table_dis(user_df)\n",
    "\n",
    "plt_dis(user_df['sex'], 'gender')\n",
    "plt_dis(user_df['race'], 'race')\n",
    "plt_dis(user_df['birthdate'], 'birthdate')"
   ]
  },
  {
   "cell_type": "markdown",
   "id": "55485ba4-2411-4b13-937e-f01144ec292c",
   "metadata": {},
   "source": [
    "- Dané distribúcie pochádzajú z datasetu užívateľov, ktorý súčasne obsahuje najväčší výskyt nešpecifikovaných hodnôt. V prvom grafe vidíme, že v prípade pohlaví je teraz oveľa viac zastúpené ženské pohlavie, pretože to bolo v pôvodnom datasete najčastejšie sa vyskytujúca hodnota. V druhom prípade sa to isté uplatnilo na atribút 'unspecified', čo je ale tentokrát lepšie, pretože žiadna hodnota nie je nadmerne preferovaná. Najhorší prípade je posledný, kedy obrovkské množstvo nešpecifikovaných hodnôt preferuje hodnotu modus. Stále sme ale aspoň neprišli o veľké množstvo dát, ak by sme tieto hodnoty vypustili z datasetu."
   ]
  },
  {
   "cell_type": "markdown",
   "id": "95892d37-1102-4be6-94a9-09ea39735ac4",
   "metadata": {},
   "source": [
    "### Spracovanie vychýlených hodnôt\n",
    "- V tejto časti spracovávame významne vychýlené dáta, tzv. __outliers__, tak, že ich buď:\n",
    "\n",
    "  1) __odstránime__, ak ide o zadedbateľné množstvo, inak\n",
    "  2) __nahradíme hraničnou hodnotou__\n",
    "\n",
    "- Najskôr si pre otestovanie, či náš systém spracovávania takýchto hodnôt funguje správne, vytvoríme niekoľko pomocných funkcií definovaných nižšie. Najdôležitejšia je v tomto prípade funkcia _top_outlier_data(df, limit)_, ktorá identifikuje stĺpce s najväčším počtom outlier-ov na základe atribútu _limit_. Následne vypíše ich distribúcie pomocou BoxPlot-ov, v ktorých sú zobrazené dané outlier-y."
   ]
  },
  {
   "cell_type": "code",
   "execution_count": 303,
   "id": "8beebcf6-46e6-423d-a617-68f4514ba34e",
   "metadata": {},
   "outputs": [
    {
     "name": "stdout",
     "output_type": "stream",
     "text": [
      "Column 'browser_name': Not numerical! Skipping...\n",
      "Column 'session_start': Not numerical! Skipping...\n",
      "Column 'screen_width': Not numerical! Skipping...\n",
      "Column 'screen_height': Not numerical! Skipping...\n"
     ]
    },
    {
     "data": {
      "image/png": "[encoded data removed]",
      "text/plain": [
       "<Figure size 432x288 with 1 Axes>"
      ]
     },
     "metadata": {
      "needs_background": "light"
     },
     "output_type": "display_data"
    },
    {
     "name": "stdout",
     "output_type": "stream",
     "text": [
      "Outliers: 179\n"
     ]
    },
    {
     "data": {
      "image/png": "[encoded data removed]",
      "text/plain": [
       "<Figure size 432x288 with 1 Axes>"
      ]
     },
     "metadata": {
      "needs_background": "light"
     },
     "output_type": "display_data"
    },
    {
     "name": "stdout",
     "output_type": "stream",
     "text": [
      "Outliers: 171\n"
     ]
    },
    {
     "data": {
      "image/png": "[encoded data removed]",
      "text/plain": [
       "<Figure size 432x288 with 1 Axes>"
      ]
     },
     "metadata": {
      "needs_background": "light"
     },
     "output_type": "display_data"
    },
    {
     "name": "stdout",
     "output_type": "stream",
     "text": [
      "Outliers: 89\n"
     ]
    }
   ],
   "source": [
    "def plt_outliers(df, name='unknown'):    \n",
    "    if not pd.to_numeric(df, errors='coerce').notna().all():\n",
    "        print(\"Detected non-numerical data!\")\n",
    "        return\n",
    "    \n",
    "    plt.boxplot(sess_df['wild_mouse_duration'], labels=[name])\n",
    "    plt.title(f\"Outliers for {name}\")\n",
    "    plt.show()\n",
    "\n",
    "def plt_table_outliers(df):\n",
    "    for col in df:\n",
    "        plt_outliers(df[col], col)\n",
    "\n",
    "def top_outlier_data(df, limit = 3):\n",
    "    max = []\n",
    "    \n",
    "    for col in df:\n",
    "        if not pd.to_numeric(df[col], errors='coerce').notna().all():\n",
    "            print(f\"Column '{col}': Not numerical! Skipping...\")\n",
    "            continue\n",
    "\n",
    "        z_scores = (df[col] - df[col].mean()) / df[col].std()\n",
    "        outliers = len(df[col][abs(z_scores) > threshold])\n",
    "        \n",
    "        if outliers > 0:\n",
    "            if len(max) == 0 or len(max) < limit:\n",
    "                max.append({'col': col, 'outliers': outliers})\n",
    "                continue\n",
    "\n",
    "            remove = -1\n",
    "            rate = -1\n",
    "            for i in range(0, limit):\n",
    "                if max[i]['outliers'] < outliers and (rate == -1 or outliers - max[i]['outliers'] > rate):\n",
    "                    remove = i\n",
    "                    rate = outliers - max[i]['outliers']\n",
    "\n",
    "            if remove > -1:\n",
    "                max[remove] = {'col': col, 'outliers': outliers}\n",
    "\n",
    "    #for m in max:\n",
    "      #  plt_outliers(df[m['col']], m['col'])\n",
    "       # print(f\"Counts: {m['outliers']}\")\n",
    "\n",
    "    return max\n",
    "            \n",
    "    \n",
    "\n",
    "#plt_table_outliers(sess_df)\n",
    "top_outliers = top_outlier_data(sess_df)\n",
    "\n",
    "for o in top_outliers:\n",
    "    plt_outliers(sess_df[o['col']], o['col'])\n",
    "    print(f\"Outliers: {o['outliers']}\")\n",
    "\n",
    "#plt_outliers(sess_df['wild_mouse_duration'], 'wild_mouse_duration')"
   ]
  },
  {
   "cell_type": "markdown",
   "id": "421c4e1c-770e-4137-9770-1457db3113e1",
   "metadata": {},
   "source": [
    "- Identifikovali sme 3 distribúcie s najväčším počtom vychýlených hodnôt. Aj tie teraz spracujeme pomocou funkcie _process_outliers()_ a otestujeme, či dané outlier-y sú skutočne preč."
   ]
  },
  {
   "cell_type": "code",
   "execution_count": 315,
   "id": "bf48a23a-f74c-427c-92ef-51b4f2b1254d",
   "metadata": {},
   "outputs": [
    {
     "name": "stdout",
     "output_type": "stream",
     "text": [
      "\n",
      "starting the process...\n",
      "Limit: 111\n",
      "Column 'browser_name': No NaN values initially.\n",
      "Column 'pct_input': Dropping NaN values...\n",
      "NaN count before - 11, after - 0\n",
      "Column 'wild_mouse_duration': Dropping NaN values...\n",
      "NaN count before - 11, after - 0\n",
      "Column 'pct_scroll_move_duration': Dropping NaN values...\n",
      "NaN count before - 11, after - 0\n",
      "Column 'pct_wild_mouse': Dropping NaN values...\n",
      "NaN count before - 11, after - 0\n",
      "Column 'session_start': No NaN values initially.\n",
      "Column 'pct_doubleclick': Dropping NaN values...\n",
      "NaN count before - 11, after - 0\n",
      "Column 'pct_rage_click': Dropping NaN values...\n",
      "NaN count before - 11, after - 0\n",
      "Column 'pct_click': Dropping NaN values...\n",
      "NaN count before - 11, after - 0\n",
      "Column 'page_activity_duration': Dropping NaN values...\n",
      "NaN count before - 11, after - 0\n",
      "Column 'product_ean': No NaN values initially.\n",
      "Column 'pct_scrandom': Dropping NaN values...\n",
      "NaN count before - 10, after - 0\n",
      "Column 'mouse_move_total_rel_distance': Dropping NaN values...\n",
      "NaN count before - 11, after - 0\n",
      "Column 'pct_click_product_info': Dropping NaN values...\n",
      "NaN count before - 11, after - 0\n",
      "Column 'scroll_move_total_rel_distance': Dropping NaN values...\n",
      "NaN count before - 11, after - 0\n",
      "Column 'session_id': No NaN values initially.\n",
      "Column 'pct_mouse_click': Dropping NaN values...\n",
      "NaN count before - 11, after - 0\n",
      "Column 'pct_scroll_move': Dropping NaN values...\n",
      "NaN count before - 11, after - 0\n",
      "Column 'user_id': No NaN values initially.\n",
      "Column 'screen_width': No NaN values initially.\n",
      "Column 'session_duration': No NaN values initially.\n",
      "Column 'screen_height': No NaN values initially.\n",
      "Column 'total_load_time': No NaN values initially.\n",
      "Column 'ack': No NaN values initially.\n",
      "Column 'pct_mouse_move': Dropping NaN values...\n",
      "NaN count before - 11, after - 0\n",
      "Process done!\n",
      "\n",
      "\n",
      "Starting process...\n",
      "Column 'browser_name': Not numerical! Skipping...\n",
      "Column 'pct_input': Detected 179 outliers! Processing... Replacing with a limit value...\n",
      "Remaining rows after removing outliers: 10935\n",
      "Column 'wild_mouse_duration': Detected 4 outliers! Processing... Removing outliers...\n",
      "Remaining rows after removing outliers: 10931\n",
      "Column 'pct_scroll_move_duration': Detected 24 outliers! Processing... Removing outliers...\n",
      "Remaining rows after removing outliers: 10907\n",
      "Column 'pct_wild_mouse': Detected 32 outliers! Processing... Removing outliers...\n",
      "Remaining rows after removing outliers: 10875\n",
      "Column 'session_start': Not numerical! Skipping...\n",
      "Column 'pct_doubleclick': Detected 20 outliers! Processing... Removing outliers...\n",
      "Remaining rows after removing outliers: 10855\n",
      "Column 'pct_rage_click': Detected 33 outliers! Processing... Removing outliers...\n",
      "Remaining rows after removing outliers: 10822\n",
      "Column 'pct_click': Detected 10 outliers! Processing... Removing outliers...\n",
      "Remaining rows after removing outliers: 10812\n",
      "Column 'page_activity_duration': Detected 0 outliers! Processing... Removing outliers...\n",
      "Remaining rows after removing outliers: 10812\n",
      "Column 'product_ean': Detected 0 outliers! Processing... Removing outliers...\n",
      "Remaining rows after removing outliers: 10812\n",
      "Column 'pct_scrandom': Detected 33 outliers! Processing... Removing outliers...\n",
      "Remaining rows after removing outliers: 10779\n",
      "Column 'mouse_move_total_rel_distance': Detected 20 outliers! Processing... Removing outliers...\n",
      "Remaining rows after removing outliers: 10759\n",
      "Column 'pct_click_product_info': Detected 25 outliers! Processing... Removing outliers...\n",
      "Remaining rows after removing outliers: 10734\n",
      "Column 'scroll_move_total_rel_distance': Detected 21 outliers! Processing... Removing outliers...\n",
      "Remaining rows after removing outliers: 10713\n",
      "Column 'session_id': Detected 0 outliers! Processing... Removing outliers...\n",
      "Remaining rows after removing outliers: 10713\n",
      "Column 'pct_mouse_click': Detected 25 outliers! Processing... Removing outliers...\n",
      "Remaining rows after removing outliers: 10688\n",
      "Column 'pct_scroll_move': Detected 31 outliers! Processing... Removing outliers...\n",
      "Remaining rows after removing outliers: 10657\n",
      "Column 'user_id': Detected 0 outliers! Processing... Removing outliers...\n",
      "Remaining rows after removing outliers: 10657\n",
      "Column 'screen_width': Not numerical! Skipping...\n",
      "Column 'session_duration': Detected 37 outliers! Processing... Removing outliers...\n",
      "Remaining rows after removing outliers: 10620\n",
      "Column 'screen_height': Not numerical! Skipping...\n",
      "Column 'total_load_time': Detected 166 outliers! Processing... Replacing with a limit value...\n",
      "Remaining rows after removing outliers: 10620\n",
      "Column 'ack': Detected 0 outliers! Processing... Removing outliers...\n",
      "Remaining rows after removing outliers: 10620\n",
      "Column 'pct_mouse_move': Detected 68 outliers! Processing... Removing outliers...\n",
      "Remaining rows after removing outliers: 10552\n",
      "Ending process...\n",
      "\n"
     ]
    }
   ],
   "source": [
    "sess_df = pd.read_csv(SESSION_FILE_PATH, delimiter='\\t')\n",
    "process_missing_vals(sess_df)\n",
    "\n",
    "def process_outliers(df, limit = 1, threshold=3):\n",
    "    print(\"\\nStarting process...\")\n",
    "\n",
    "    for col in df.columns:\n",
    "        is_numeric = pd.to_numeric(df[col], errors='coerce').notna().all()\n",
    "\n",
    "        if not is_numeric:\n",
    "            print(f\"Column '{col}': Not numerical! Skipping...\")\n",
    "            continue\n",
    "\n",
    "        z_scores = (df[col] - df[col].mean()) / df[col].std()\n",
    "        outliers_mask = abs(z_scores) > threshold\n",
    "        outliers_c = outliers_mask.sum()\n",
    "        print(f\"Column '{col}': Detected {outliers_c} outliers! Processing...\", end=\" \")\n",
    "        \n",
    "        if outliers_c <= math.ceil((len(df)/100) * limit):\n",
    "            print(f\"Removing outliers...\")\n",
    "            df = df.loc[~outliers_mask]\n",
    "        else:\n",
    "            print(f\"Replacing with a limit value...\")\n",
    "            p5 = df[col].quantile(0.05)\n",
    "            p95 = df[col].quantile(0.95)\n",
    "\n",
    "            p5 = df[col].quantile(0.05)\n",
    "            p95 = df[col].quantile(0.95)\n",
    "            \n",
    "            df.loc[df[col] > p95, col] = p95\n",
    "            df.loc[df[col] < p5, col] = p5\n",
    "            \n",
    "        print(f\"Remaining rows after removing outliers: {len(df)}\")\n",
    "\n",
    "    print(\"Ending process...\\n\")\n",
    "\n",
    "    return df\n",
    "\n",
    "sess_df = process_outliers(sess_df)"
   ]
  },
  {
   "cell_type": "markdown",
   "id": "9a76d09d-2c29-4b77-ac3d-6cd303e6d387",
   "metadata": {},
   "source": [
    "- Vyššie možno vidieť výpis zo spracovania vychýlených hodnôt. Funkcia na spracovanie pracovala tak, že tam, kde bol výskyt outlier-ov pod 1 percento, tak tam boli tieto dáta odstránené, inak ale boli nahradené hraničnou hodnotou. Druhý prípad bol realizovaný tak, že hodnoty nad 95-tným kvantilom boli nahradené hodnotou na 95 percentnom kvantile. Podobne to boli aj s hodnotami pod 5 percentným kvantilom."
   ]
  },
  {
   "cell_type": "code",
   "execution_count": 316,
   "id": "4b0906a5-0c1e-4080-be7a-6a96c76151ae",
   "metadata": {},
   "outputs": [
    {
     "data": {
      "image/png": "[encoded data removed]",
      "text/plain": [
       "<Figure size 432x288 with 1 Axes>"
      ]
     },
     "metadata": {
      "needs_background": "light"
     },
     "output_type": "display_data"
    },
    {
     "data": {
      "image/png": "[encoded data removed]",
      "text/plain": [
       "<Figure size 432x288 with 1 Axes>"
      ]
     },
     "metadata": {
      "needs_background": "light"
     },
     "output_type": "display_data"
    },
    {
     "data": {
      "image/png": "[encoded data removed]",
      "text/plain": [
       "<Figure size 432x288 with 1 Axes>"
      ]
     },
     "metadata": {
      "needs_background": "light"
     },
     "output_type": "display_data"
    }
   ],
   "source": [
    "for o in top_outliers:\n",
    "    plt_outliers(sess_df[o['col']], o['col'])"
   ]
  },
  {
   "cell_type": "markdown",
   "id": "9b01f30f-b029-4923-9152-1219c0acb1ad",
   "metadata": {},
   "source": [
    "- Z grafov vidno, že outlier-y boli z testovacích datasetov úspešne odstránené. "
   ]
  }
 ],
 "metadata": {
  "kernelspec": {
   "display_name": "Python 3 (ipykernel)",
   "language": "python",
   "name": "python3"
  },
  "language_info": {
   "codemirror_mode": {
    "name": "ipython",
    "version": 3
   },
   "file_extension": ".py",
   "mimetype": "text/x-python",
   "name": "python",
   "nbconvert_exporter": "python",
   "pygments_lexer": "ipython3",
   "version": "3.10.12"
  }
 },
 "nbformat": 4,
 "nbformat_minor": 5
}
