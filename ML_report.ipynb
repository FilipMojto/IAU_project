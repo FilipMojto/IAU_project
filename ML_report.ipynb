{
 "cells": [
  {
   "cell_type": "markdown",
   "metadata": {},
   "source": [
    "# Strojové učenie\n",
    "\n"
   ]
  },
  {
   "cell_type": "markdown",
   "metadata": {},
   "source": [
    "#### Použité knižnice"
   ]
  },
  {
   "cell_type": "code",
   "execution_count": 1,
   "metadata": {},
   "outputs": [],
   "source": [
    "import pandas as pd\n",
    "from IDA_utils import *\n",
    "from scipy.stats import shapiro\n",
    "from typing import Literal"
   ]
  },
  {
   "cell_type": "markdown",
   "metadata": {},
   "source": [
    "#### Predpríprava dát\n",
    "\n",
    "- Najskôr je nutné načítať zdrojové súbory do Pandas datasetov.\n",
    "- Ďalej je vhodné rozdeliť si dáta na __trénovací__ a __testovací dataset__ pomocou funcie *split_data()*. Ďalej budeme pracovať iba s trénovacími datasetmi."
   ]
  },
  {
   "cell_type": "code",
   "execution_count": 2,
   "metadata": {},
   "outputs": [],
   "source": [
    "PRODUCT_FILE_PATH = \"resources/product.csv\"\n",
    "USER_FILE_PATH = \"resources/user.csv\"\n",
    "SESSION_FILE_PATH = \"resources/session.csv\"\n",
    "\n",
    "prod_df = pd.read_csv(PRODUCT_FILE_PATH, delimiter='\\t')\n",
    "user_df = pd.read_csv(USER_FILE_PATH, delimiter='\\t')\n",
    "sess_df = pd.read_csv(SESSION_FILE_PATH, delimiter='\\t')\n",
    "\n",
    "prod_train_df, prod_test_df = split_data(prod_df, 0.8)\n",
    "user_train_df, user_test_df = split_data(user_df, 0.8)\n",
    "sess_train_df, sess_test_df = split_data(sess_df, 0.8)"
   ]
  },
  {
   "cell_type": "markdown",
   "metadata": {},
   "source": [
    "- Teraz sa môžme vysporiadať z nešpecifikovanými hodnotami a vychýlenými hodnotami. Budeme postupovať rovnako ako v minulej fáze, použijeme funkcie zo súboru __IDA_utils.py__."
   ]
  },
  {
   "cell_type": "code",
   "execution_count": 3,
   "metadata": {},
   "outputs": [
    {
     "name": "stdout",
     "output_type": "stream",
     "text": [
      "\n",
      "starting the process...\n",
      "Limit: 120\n",
      "Column 'location': No NaN values initially.\n",
      "Column 'product_ean': No NaN values initially.\n",
      "Column 'store_name': No NaN values initially.\n",
      "Column 'code': Dropping NaN values...\n",
      "NaN count before - 19, after - 0\n",
      "Process done!\n",
      "\n",
      "\n",
      "starting the process...\n",
      "Limit: 21\n",
      "Column 'address': Too many NaN values... Imputing the most common value...\n",
      "NaN count before - 296, after - 0\n",
      "Column 'name': No NaN values initially.\n",
      "Column 'race': Too many NaN values... Imputing the most common value...\n",
      "NaN count before - 1420, after - 0\n",
      "Column 'registration': No NaN values initially.\n",
      "Column 'username': No NaN values initially.\n",
      "Column 'current_location': Too many NaN values... Imputing the most common value...\n",
      "NaN count before - 102, after - 0\n",
      "Column 'sex': Too many NaN values... Imputing the most common value...\n",
      "NaN count before - 995, after - 0\n",
      "Column 'birthdate': Too many NaN values... Imputing the most common value...\n",
      "NaN count before - 902, after - 0\n",
      "Column 'mail': No NaN values initially.\n",
      "Column 'user_id': No NaN values initially.\n",
      "Column 'job': Too many NaN values... Imputing the most common value...\n",
      "NaN count before - 1224, after - 0\n",
      "Process done!\n",
      "\n",
      "\n",
      "starting the process...\n",
      "Limit: 89\n",
      "Column 'browser_name': No NaN values initially.\n",
      "Column 'pct_input': Dropping NaN values...\n",
      "NaN count before - 11, after - 0\n",
      "Column 'wild_mouse_duration': Dropping NaN values...\n",
      "NaN count before - 10, after - 0\n",
      "Column 'pct_scroll_move_duration': Dropping NaN values...\n",
      "NaN count before - 7, after - 0\n",
      "Column 'pct_wild_mouse': Dropping NaN values...\n",
      "NaN count before - 11, after - 0\n",
      "Column 'session_start': No NaN values initially.\n",
      "Column 'pct_doubleclick': Dropping NaN values...\n",
      "NaN count before - 5, after - 0\n",
      "Column 'pct_rage_click': Dropping NaN values...\n",
      "NaN count before - 9, after - 0\n",
      "Column 'pct_click': Dropping NaN values...\n",
      "NaN count before - 7, after - 0\n",
      "Column 'page_activity_duration': Dropping NaN values...\n",
      "NaN count before - 7, after - 0\n",
      "Column 'product_ean': No NaN values initially.\n",
      "Column 'pct_scrandom': Dropping NaN values...\n",
      "NaN count before - 8, after - 0\n",
      "Column 'mouse_move_total_rel_distance': Dropping NaN values...\n",
      "NaN count before - 10, after - 0\n",
      "Column 'pct_click_product_info': Dropping NaN values...\n",
      "NaN count before - 8, after - 0\n",
      "Column 'scroll_move_total_rel_distance': Dropping NaN values...\n",
      "NaN count before - 10, after - 0\n",
      "Column 'session_id': No NaN values initially.\n",
      "Column 'pct_mouse_click': Dropping NaN values...\n",
      "NaN count before - 11, after - 0\n",
      "Column 'pct_scroll_move': Dropping NaN values...\n",
      "NaN count before - 9, after - 0\n",
      "Column 'user_id': No NaN values initially.\n",
      "Column 'screen_width': No NaN values initially.\n",
      "Column 'session_duration': No NaN values initially.\n",
      "Column 'screen_height': No NaN values initially.\n",
      "Column 'total_load_time': No NaN values initially.\n",
      "Column 'ack': No NaN values initially.\n",
      "Column 'pct_mouse_move': Dropping NaN values...\n",
      "NaN count before - 9, after - 0\n",
      "Process done!\n",
      "\n",
      "\n",
      "Starting process...\n",
      "Column 'location': Not numerical! Skipping...\n",
      "Column 'product_ean': Detected 0 outliers! Processing... Removing outliers...\n",
      "Remaining rows after removing outliers: 11954\n",
      "Column 'store_name': Not numerical! Skipping...\n",
      "Column 'code': Not numerical! Skipping...\n",
      "Ending process...\n",
      "\n",
      "\n",
      "Starting process...\n",
      "Column 'address': Not numerical! Skipping...\n",
      "Column 'name': Not numerical! Skipping...\n",
      "Column 'race': Not numerical! Skipping...\n",
      "Column 'registration': Not numerical! Skipping...\n",
      "Column 'username': Not numerical! Skipping...\n",
      "Column 'current_location': Not numerical! Skipping...\n",
      "Column 'sex': Not numerical! Skipping...\n",
      "Column 'birthdate': Not numerical! Skipping...\n",
      "Column 'mail': Not numerical! Skipping...\n",
      "Column 'user_id': Detected 0 outliers! Processing... Removing outliers...\n",
      "Remaining rows after removing outliers: 2026\n",
      "Column 'job': Not numerical! Skipping...\n",
      "Ending process...\n",
      "\n",
      "\n",
      "Starting process...\n",
      "Column 'browser_name': Not numerical! Skipping...\n",
      "Column 'pct_input': Detected 169 outliers! Processing... Replacing with a limit value...\n",
      "Remaining rows after removing outliers: 8747\n",
      "Column 'wild_mouse_duration': Detected 2 outliers! Processing... Removing outliers...\n",
      "Remaining rows after removing outliers: 8745\n",
      "Column 'pct_scroll_move_duration': Detected 19 outliers! Processing... Removing outliers...\n",
      "Remaining rows after removing outliers: 8726\n",
      "Column 'pct_wild_mouse': Detected 28 outliers! Processing... Removing outliers...\n",
      "Remaining rows after removing outliers: 8698\n",
      "Column 'session_start': Not numerical! Skipping...\n",
      "Column 'pct_doubleclick': Detected 16 outliers! Processing... Removing outliers...\n",
      "Remaining rows after removing outliers: 8682\n",
      "Column 'pct_rage_click': Detected 27 outliers! Processing... Removing outliers...\n",
      "Remaining rows after removing outliers: 8655\n",
      "Column 'pct_click': Detected 9 outliers! Processing... Removing outliers...\n",
      "Remaining rows after removing outliers: 8646\n",
      "Column 'page_activity_duration': Detected 0 outliers! Processing... Removing outliers...\n",
      "Remaining rows after removing outliers: 8646\n",
      "Column 'product_ean': Detected 0 outliers! Processing... Removing outliers...\n",
      "Remaining rows after removing outliers: 8646\n",
      "Column 'pct_scrandom': Detected 23 outliers! Processing... Removing outliers...\n",
      "Remaining rows after removing outliers: 8623\n",
      "Column 'mouse_move_total_rel_distance': Detected 19 outliers! Processing... Removing outliers...\n",
      "Remaining rows after removing outliers: 8604\n",
      "Column 'pct_click_product_info': Detected 20 outliers! Processing... Removing outliers...\n",
      "Remaining rows after removing outliers: 8584\n",
      "Column 'scroll_move_total_rel_distance': Detected 17 outliers! Processing... Removing outliers...\n",
      "Remaining rows after removing outliers: 8567\n",
      "Column 'session_id': Detected 0 outliers! Processing... Removing outliers...\n",
      "Remaining rows after removing outliers: 8567\n",
      "Column 'pct_mouse_click': Detected 19 outliers! Processing... Removing outliers...\n",
      "Remaining rows after removing outliers: 8548\n",
      "Column 'pct_scroll_move': Detected 29 outliers! Processing... Removing outliers...\n",
      "Remaining rows after removing outliers: 8519\n",
      "Column 'user_id': Detected 0 outliers! Processing... Removing outliers...\n",
      "Remaining rows after removing outliers: 8519\n",
      "Column 'screen_width': Not numerical! Skipping...\n",
      "Column 'session_duration': Detected 29 outliers! Processing... Removing outliers...\n",
      "Remaining rows after removing outliers: 8490\n",
      "Column 'screen_height': Not numerical! Skipping...\n",
      "Column 'total_load_time': Detected 129 outliers! Processing... Replacing with a limit value...\n",
      "Remaining rows after removing outliers: 8490\n",
      "Column 'ack': Detected 0 outliers! Processing... Removing outliers...\n",
      "Remaining rows after removing outliers: 8490\n",
      "Column 'pct_mouse_move': Detected 54 outliers! Processing... Removing outliers...\n",
      "Remaining rows after removing outliers: 8436\n",
      "Ending process...\n",
      "\n"
     ]
    }
   ],
   "source": [
    "process_missing_vals(prod_train_df)\n",
    "process_missing_vals(user_train_df)\n",
    "process_missing_vals(sess_train_df)\n",
    "\n",
    "process_outliers(prod_train_df)\n",
    "process_outliers(user_train_df)\n",
    "process_outliers(sess_train_df)"
   ]
  },
  {
   "cell_type": "markdown",
   "metadata": {},
   "source": [
    "## Jednoduchý klasifikátor na základe závislostí v dátach"
   ]
  },
  {
   "cell_type": "markdown",
   "metadata": {},
   "source": [
    "- V tejto časti implementujeme jednoduchý __OneR algoritmus__, ktorý nám s určitou presnosťou určí klasifikuje výsledok skúmaného atribútu pri jednotlivých prediktoroch. Celková funkcionalita je implementovaní pomocou nasledovných funkcií:\n",
    "    \n",
    "    a) *frequency_tables()*\n",
    "    \n",
    "    b) *one_rule_alg()*\n",
    "\n",
    "- Prvá z funkcí vracia pre jednotlivé prediktory __tabuľky frekvencií__ vo vzťahu so skúmaných atribútom. V podstate ide o zoskupenie všetkých unikátnych hodnôt a uvedenie ich počtov. Výsledok je vrátený ako mapa, kde kľúče sú názvy prediktorov a hodnoty samotné tabuľky. Druhá funkcia akceptuje ako parameter takúto mapu, kde pre každý prediktor určí pravidlo, či platí hodnota A alebo B a s akou presnosťou to možno určiť."
   ]
  },
  {
   "cell_type": "code",
   "execution_count": 17,
   "metadata": {},
   "outputs": [],
   "source": [
    "def frequency_tables(df: pd.DataFrame, target_column: str, predictors: tuple[str]):\n",
    "    if len(predictors) == 0:\n",
    "        raise ValueError(\"At least one predictor needed!\")\n",
    "\n",
    "    result = {}\n",
    "\n",
    "    for predictor in predictors:\n",
    "        freq_table = pd.crosstab(df[predictor], df[target_column])\n",
    "        result[predictor] = freq_table\n",
    "\n",
    "    return result\n",
    "\n",
    "\n",
    "def one_rule_alg(freq_tables: Dict[str, pd.DataFrame], metric: Literal['accuracy', 'precision', 'recall'] = 'accuracy'):\n",
    "    accuracies = {}\n",
    "    rules = {}\n",
    "\n",
    "    for table in freq_tables:\n",
    "        positive = [0, 0]\n",
    "        negative = [0, 0]\n",
    "\n",
    "        for index, row in freq_tables[table].iterrows():\n",
    "\n",
    "            row_vals = row.items()\n",
    "            row_vals = list(row_vals)      \n",
    "            if row_vals[0][1] > row_vals[1][1]:\n",
    "                rules[table] = freq_tables[table].columns[0]\n",
    "                positive[0] +=  row_vals[0][1]\n",
    "                positive[1] += row_vals[1][1]\n",
    "            else:\n",
    "                rules[table] = freq_tables[table].columns[1]\n",
    "                negative[0] +=  row_vals[0][1]\n",
    "                negative[1] += row_vals[1][1]\n",
    "        \n",
    "        try:\n",
    "            if metric == 'accuracy':\n",
    "                accuracies[table] = ((positive[0] + negative[1])/(positive[0] + positive[1] + negative[0] + negative[1]))\n",
    "            elif metric == 'precision':\n",
    "                accuracies[table] = ((positive[0])/(positive[0] + positive[1]))\n",
    "            elif metric == 'recall':\n",
    "                accuracies[table] = ((positive[0])/(positive[0] + negative[0]))\n",
    "        except ZeroDivisionError:\n",
    "            accuracies[table] = -1\n",
    "\n",
    "            \n",
    "    return rules, accuracies, {'used_metric': metric}\n"
   ]
  },
  {
   "cell_type": "markdown",
   "metadata": {},
   "source": [
    "- Teraz, keď máme algoritmus implementovaný, môžeme ho ísť otestovať na zvolenom testovacom atribúte a na prediktoroch. V prípade tohto algoritmu sú pravidlá binárne, platí buď hodnota A testoného atribútu alebo B. Preto sme sa rozhodli zvoliť si atribút __ack__ v datasete __sess_train_df__ a budeme skúmať s akou presnosťou by sa stroj rozhodol pre klasifikáciu ďalšieho sedenia na kúpu či nekúpu. Teraz aplikujeme algoritmus na všetky atribúty, o ktorých má zmysel uvažovať ako o možných prediktoroch - vylúčime __ID atribúty__.\n",
    "- Väčšina atribútov zo spimínaného datasetu je však numerická a nadobúda množstvo rôznych hodnôt. Prediktory by mali mať kategorické hodnoty, preto je nutné rozdeliť ich do niekokoľkých kategórií, a to dokáže nasledovná funkcia:"
   ]
  },
  {
   "cell_type": "code",
   "execution_count": 5,
   "metadata": {},
   "outputs": [],
   "source": [
    "def num_to_category(df: pd.DataFrame, col: str, num_bins: int = None):\n",
    "\n",
    "    if not num_bins:\n",
    "        num_bins = math.floor(df[col].max())        \n",
    "\n",
    "    df[col] = pd.cut(df[col], bins=num_bins, labels=False)\n",
    "    df.drop(col, axis=1)\n",
    "\n",
    "def timestamp_to_category(df: pd.DataFrame, col: str, mode: Literal['day', 'month', 'year'] = 'month'):\n",
    "    df[col] = pd.to_datetime(df[col])\n",
    "    # Extract month and create a new column 'month'\n",
    "    df[col] = df[col].dt.month"
   ]
  },
  {
   "cell_type": "markdown",
   "metadata": {},
   "source": [
    "- Táto funkcia kategorizuje dataset na základe počtu kategórií v atribúte num_bins. Ak táto hodnota nie je špecifikovaná, je nastavená na maximálnu hodnotu v datasete. Funkcia mení dataset priamo."
   ]
  },
  {
   "cell_type": "code",
   "execution_count": 6,
   "metadata": {},
   "outputs": [],
   "source": [
    "predictors = ('browser_name', 'pct_input', 'wild_mouse_duration', 'pct_scroll_move_duration', 'pct_wild_mouse', 'session_start',\n",
    "              'pct_doubleclick', 'pct_rage_click', 'pct_click', 'page_activity_duration', 'pct_scrandom', 'mouse_move_total_rel_distance',\n",
    "              'pct_click_product_info', 'scroll_move_total_rel_distance', 'pct_mouse_click')\n",
    "\n",
    "sess_train_df_copy = sess_train_df.copy()\n",
    "\n",
    "for predictor in predictors:\n",
    "    if predictor == 'browser_name':\n",
    "        continue\n",
    "    elif predictor == 'session_start':\n",
    "        timestamp_to_category(sess_train_df_copy, col=predictor)\n",
    "    else:\n",
    "        num_to_category(sess_train_df_copy, col=predictor)"
   ]
  },
  {
   "cell_type": "markdown",
   "metadata": {},
   "source": [
    "### Rozhodnutie na základe jedného atribútu\n",
    "- Najskôr uskutočníme klasifikáciu našej predikovanej premennej __ack__ len na základe jedného prediktora. Klasifikácie budeme realizovať za použitia rôznych nasledovných metrík:\n",
    "\n",
    "    a) __accuracy__\n",
    "\n",
    "    b) __precision__\n",
    "    \n",
    "    c) __recall__\n",
    "\n",
    "\n",
    " Zvolme si pravdepodobný prediktor __pct_doubleclick__, ktorý by podľa nás mohol dosahovať vysokú hodnotu accurracy s hodnotou ACK=0."
   ]
  },
  {
   "cell_type": "code",
   "execution_count": 14,
   "metadata": {},
   "outputs": [
    {
     "name": "stdout",
     "output_type": "stream",
     "text": [
      "({'pct_doubleclick': 0.0}, {'pct_doubleclick': 0.689493540642506}, {'used_metric': 'accuracy'})\n",
      "({'pct_doubleclick': 0.0}, {'pct_doubleclick': 0.7717055971793741}, {'used_metric': 'precision'})\n",
      "({'pct_doubleclick': 0.0}, {'pct_doubleclick': 0.4434033932641175}, {'used_metric': 'recall'})\n"
     ]
    }
   ],
   "source": [
    "freq_table = frequency_tables(df=sess_train_df_copy, target_column='ack', predictors=('pct_doubleclick',))\n",
    "\n",
    "print(one_rule_alg(freq_tables=freq_table, metric='accuracy'))\n",
    "print(one_rule_alg(freq_tables=freq_table, metric='precision'))\n",
    "print(one_rule_alg(freq_tables=freq_table, metric='recall'))\n"
   ]
  },
  {
   "cell_type": "markdown",
   "metadata": {},
   "source": [
    "- Pre tento prípad sa teda z 44 až 77 percentnou presnosťou rozhodujeme, že sedenie bude zahŕňať kúpu produktu. Teraz zapojíme ostatné prediktory a rozhodneme sa na základe celkovej presnosti."
   ]
  },
  {
   "cell_type": "code",
   "execution_count": 18,
   "metadata": {},
   "outputs": [
    {
     "name": "stdout",
     "output_type": "stream",
     "text": [
      "({'browser_name': 1.0, 'pct_input': 1.0, 'wild_mouse_duration': 1.0, 'pct_scroll_move_duration': 1.0, 'pct_wild_mouse': 0.0, 'session_start': 1.0, 'pct_doubleclick': 0.0, 'pct_rage_click': 1.0, 'pct_click': 0.0, 'page_activity_duration': 0.0, 'pct_scrandom': 1.0, 'mouse_move_total_rel_distance': 0.0, 'pct_click_product_info': 0.0, 'scroll_move_total_rel_distance': 1.0, 'pct_mouse_click': 1.0}, {'browser_name': 0.5485309248885332, 'pct_input': 0.6076369040813994, 'wild_mouse_duration': 0.658168514919401, 'pct_scroll_move_duration': 0.549559849091117, 'pct_wild_mouse': 0.5553904195724249, 'session_start': 0.5485309248885332, 'pct_doubleclick': 0.689493540642506, 'pct_rage_click': 0.5520749971418772, 'pct_click': 0.6777180747684921, 'page_activity_duration': 0.5486452497999315, 'pct_scrandom': 0.5621355893449183, 'mouse_move_total_rel_distance': 0.6707442551732022, 'pct_click_product_info': 0.5599634160283525, 'scroll_move_total_rel_distance': 0.6367897564879387, 'pct_mouse_click': 0.5485309248885332}, {'used_metric': 'accuracy'})\n",
      "({'browser_name': 1.0, 'pct_input': 1.0, 'wild_mouse_duration': 1.0, 'pct_scroll_move_duration': 1.0, 'pct_wild_mouse': 0.0, 'session_start': 1.0, 'pct_doubleclick': 0.0, 'pct_rage_click': 1.0, 'pct_click': 0.0, 'page_activity_duration': 0.0, 'pct_scrandom': 1.0, 'mouse_move_total_rel_distance': 0.0, 'pct_click_product_info': 0.0, 'scroll_move_total_rel_distance': 1.0, 'pct_mouse_click': 1.0}, {'browser_name': -1, 'pct_input': 0.5368181170773394, 'wild_mouse_duration': 0.582402474652002, 'pct_scroll_move_duration': 0.5412844036697247, 'pct_wild_mouse': 0.5337837837837838, 'session_start': -1, 'pct_doubleclick': 0.7717055971793741, 'pct_rage_click': 0.5580524344569289, 'pct_click': 0.7563520871143375, 'page_activity_duration': 0.6, 'pct_scrandom': 0.5343731946851531, 'mouse_move_total_rel_distance': 0.5923621911180231, 'pct_click_product_info': 0.5338753387533876, 'scroll_move_total_rel_distance': 0.5685369318181818, 'pct_mouse_click': -1}, {'used_metric': 'precision'})\n",
      "({'browser_name': 1.0, 'pct_input': 1.0, 'wild_mouse_duration': 1.0, 'pct_scroll_move_duration': 1.0, 'pct_wild_mouse': 0.0, 'session_start': 1.0, 'pct_doubleclick': 0.0, 'pct_rage_click': 1.0, 'pct_click': 0.0, 'page_activity_duration': 0.0, 'pct_scrandom': 1.0, 'mouse_move_total_rel_distance': 0.0, 'pct_click_product_info': 0.0, 'scroll_move_total_rel_distance': 1.0, 'pct_mouse_click': 1.0}, {'browser_name': 0.0, 'pct_input': 0.9544188402127121, 'wild_mouse_duration': 0.8581919473284376, 'pct_scroll_move_duration': 0.014940491263611041, 'pct_wild_mouse': 0.1200303874398582, 'session_start': 0.0, 'pct_doubleclick': 0.4434033932641175, 'pct_rage_click': 0.037731071157255, 'pct_click': 0.42213218536338315, 'page_activity_duration': 0.0007596859964547987, 'pct_scrandom': 0.23423651557356293, 'mouse_move_total_rel_distance': 0.8680678652823499, 'pct_click_product_info': 0.19954418840212712, 'scroll_move_total_rel_distance': 0.8108381868827551, 'pct_mouse_click': 0.0}, {'used_metric': 'recall'})\n"
     ]
    }
   ],
   "source": [
    "freq_tables = frequency_tables(df=sess_train_df_copy, target_column='ack', predictors=predictors)\n",
    "\n",
    "print(one_rule_alg(freq_tables=freq_tables, metric='accuracy'))\n",
    "print(one_rule_alg(freq_tables=freq_tables, metric='precision'))\n",
    "print(one_rule_alg(freq_tables=freq_tables, metric='recall'))\n",
    "\n"
   ]
  },
  {
   "cell_type": "markdown",
   "metadata": {},
   "source": [
    "- Z výsledkov vidno, že testovaná hodnota __ack__ by bola v 9 prípadoch z 15 klasifikovaná ako kúpa. Hodnota istoty sa pohybovala na úrovni od __0 percent__ (*pct_mouse_click* pri metrike recall) až po takmer __77__ percent pri prediktore _pct_doubleclick_ a metóde Precision. 0 percent pri Recall metóde znamená, že neboli namerané žiadne skutočne pozitívne hodnoty. Vidíme, že ten istý atribút pri metóde Precision spôsobil __delenie nulou__ (preto hodnota -1).\n",
    "- Nakoľko sú počet klasifikácií predikovaného atribútu ako kúpa aj ich presnosť väčšie, na základe viacerých atribútov sa __rozhodujeme sa opäť pre ACK=1__."
   ]
  },
  {
   "cell_type": "markdown",
   "metadata": {},
   "source": [
    "### Vyhodnotenie klasifikátora na základe dostupných metrík\n",
    "- Teraz vyhodnotíme náš algoritmus na základe nasledovných metrík:\n",
    "\n",
    "    a) __Accurracy__\n",
    "    b) __Precision__\n",
    "    c) __Recall__\n",
    "\n",
    "- Prvú z nich sme implementovali v samotnom algoritme. "
   ]
  },
  {
   "cell_type": "markdown",
   "metadata": {},
   "source": [
    "## Trénovanie a vyhodnotenie klasifikátorov strojového učenia"
   ]
  },
  {
   "cell_type": "markdown",
   "metadata": {},
   "source": [
    "## Optimializácia alias hyperparameter tuning"
   ]
  },
  {
   "cell_type": "markdown",
   "metadata": {},
   "source": [
    "## Vyhodnotenie vplyvu zvolenej stratégie riešenia na klasifikáciu"
   ]
  },
  {
   "cell_type": "markdown",
   "metadata": {},
   "source": []
  }
 ],
 "metadata": {
  "kernelspec": {
   "display_name": "iau",
   "language": "python",
   "name": "python3"
  },
  "language_info": {
   "codemirror_mode": {
    "name": "ipython",
    "version": 3
   },
   "file_extension": ".py",
   "mimetype": "text/x-python",
   "name": "python",
   "nbconvert_exporter": "python",
   "pygments_lexer": "ipython3",
   "version": "3.11.5"
  }
 },
 "nbformat": 4,
 "nbformat_minor": 2
}
