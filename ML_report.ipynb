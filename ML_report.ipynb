{
 "cells": [
  {
   "cell_type": "markdown",
   "metadata": {},
   "source": [
    "# Strojové učenie\n",
    "\n"
   ]
  },
  {
   "cell_type": "markdown",
   "metadata": {},
   "source": [
    "#### Použité knižnice"
   ]
  },
  {
   "cell_type": "code",
   "execution_count": 1,
   "metadata": {},
   "outputs": [],
   "source": [
    "import pandas as pd\n",
    "from IDA_utils import *\n",
    "from scipy.stats import shapiro, kstest\n",
    "from typing import Literal\n",
    "from sklearn.preprocessing import StandardScaler, MinMaxScaler\n",
    "from sklearn.ensemble import RandomForestClassifier\n",
    "from sklearn.model_selection import GridSearchCV\n",
    "from sklearn.metrics import accuracy_score"
   ]
  },
  {
   "cell_type": "markdown",
   "metadata": {},
   "source": [
    "#### Predpríprava dát\n",
    "\n",
    "- Najskôr je nutné načítať zdrojové súbory do Pandas datasetov. Následne sa môžme vysporiadať z nešpecifikovanými hodnotami a vychýlenými hodnotami. Budeme postupovať rovnako ako v minulej fáze, použijeme funkcie zo súboru __IDA_utils.py__.\n",
    "- Ďalej je vhodné rozdeliť si dáta na __trénovací__ a __testovací dataset__ pomocou funcie *split_data()*. Ďalej budeme pracovať iba s trénovacími datasetmi."
   ]
  },
  {
   "cell_type": "code",
   "execution_count": 2,
   "metadata": {},
   "outputs": [
    {
     "name": "stdout",
     "output_type": "stream",
     "text": [
      "NaN count before - 22, after - 0\n",
      "NaN count before - 380, after - 0\n",
      "NaN count before - 1773, after - 0\n",
      "NaN count before - 127, after - 0\n",
      "NaN count before - 1266, after - 0\n",
      "NaN count before - 1140, after - 0\n",
      "NaN count before - 1520, after - 0\n",
      "NaN count before - 11, after - 0\n",
      "NaN count before - 11, after - 0\n",
      "NaN count before - 11, after - 0\n",
      "NaN count before - 11, after - 0\n",
      "NaN count before - 11, after - 0\n",
      "NaN count before - 11, after - 0\n",
      "NaN count before - 11, after - 0\n",
      "NaN count before - 11, after - 0\n",
      "NaN count before - 10, after - 0\n",
      "NaN count before - 11, after - 0\n",
      "NaN count before - 11, after - 0\n",
      "NaN count before - 11, after - 0\n",
      "NaN count before - 11, after - 0\n",
      "NaN count before - 11, after - 0\n",
      "NaN count before - 11, after - 0\n"
     ]
    }
   ],
   "source": [
    "PRODUCT_FILE_PATH = \"resources/product.csv\"\n",
    "USER_FILE_PATH = \"resources/user.csv\"\n",
    "SESSION_FILE_PATH = \"resources/session.csv\"\n",
    "\n",
    "prod_df = pd.read_csv(PRODUCT_FILE_PATH, delimiter='\\t')\n",
    "user_df = pd.read_csv(USER_FILE_PATH, delimiter='\\t')\n",
    "sess_df = pd.read_csv(SESSION_FILE_PATH, delimiter='\\t')\n",
    "\n",
    "process_missing_vals(prod_df)\n",
    "process_missing_vals(user_df)\n",
    "process_missing_vals(sess_df)\n",
    "\n",
    "process_outliers(prod_df)\n",
    "process_outliers(user_df)\n",
    "process_outliers(sess_df)\n",
    "\n",
    "prod_train_df, prod_test_df = split_data(prod_df, 0.8)\n",
    "user_train_df, user_test_df = split_data(user_df, 0.8)\n",
    "sess_train_df, sess_test_df = split_data(sess_df, 0.8)"
   ]
  },
  {
   "cell_type": "markdown",
   "metadata": {},
   "source": [
    "## Jednoduchý klasifikátor na základe závislostí v dátach"
   ]
  },
  {
   "cell_type": "markdown",
   "metadata": {},
   "source": [
    "- V tejto časti implementujeme jednoduchý __OneR algoritmus__, ktorý nám s určitou presnosťou určí klasifikuje výsledok skúmaného atribútu pri jednotlivých prediktoroch. Celková funkcionalita je implementovaní pomocou nasledovných funkcií:\n",
    "    \n",
    "    a) *frequency_tables()*\n",
    "    \n",
    "    b) *one_rule_alg()*\n",
    "\n",
    "- Prvá z funkcí vracia pre jednotlivé prediktory __tabuľky frekvencií__ vo vzťahu so skúmaných atribútom. V podstate ide o zoskupenie všetkých unikátnych hodnôt a uvedenie ich počtov. Výsledok je vrátený ako mapa, kde kľúče sú názvy prediktorov a hodnoty samotné tabuľky. Druhá funkcia akceptuje ako parameter takúto mapu, kde pre každý prediktor určí pravidlo, či platí hodnota A alebo B a s akou presnosťou to možno určiť."
   ]
  },
  {
   "cell_type": "code",
   "execution_count": 3,
   "metadata": {},
   "outputs": [],
   "source": [
    "def frequency_tables(df: pd.DataFrame, target_column: str, predictors: tuple[str]):\n",
    "    if len(predictors) == 0:\n",
    "        raise ValueError(\"At least one predictor needed!\")\n",
    "\n",
    "    result = {}\n",
    "\n",
    "    for predictor in predictors:\n",
    "        freq_table = pd.crosstab(df[predictor], df[target_column])\n",
    "        result[predictor] = freq_table\n",
    "\n",
    "    return result\n",
    "\n",
    "\n",
    "def one_rule_alg(freq_tables: Dict[str, pd.DataFrame], metric: Literal['accuracy', 'precision', 'recall'] = 'accuracy'):\n",
    "    accuracies = {}\n",
    "    rules = {}\n",
    "\n",
    "    for table in freq_tables:\n",
    "        positive = [0, 0]\n",
    "        negative = [0, 0]\n",
    "\n",
    "        for index, row in freq_tables[table].iterrows():\n",
    "\n",
    "            row_vals = row.items()\n",
    "            row_vals = list(row_vals)      \n",
    "            if row_vals[0][1] > row_vals[1][1]:\n",
    "                rules[table] = freq_tables[table].columns[0]\n",
    "                positive[0] +=  row_vals[0][1]\n",
    "                positive[1] += row_vals[1][1]\n",
    "            else:\n",
    "                rules[table] = freq_tables[table].columns[1]\n",
    "                negative[0] +=  row_vals[0][1]\n",
    "                negative[1] += row_vals[1][1]\n",
    "        \n",
    "        try:\n",
    "            if metric == 'accuracy':\n",
    "                accuracies[table] = ((positive[0] + negative[1])/(positive[0] + positive[1] + negative[0] + negative[1]))\n",
    "            elif metric == 'precision':\n",
    "                accuracies[table] = ((positive[0])/(positive[0] + positive[1]))\n",
    "            elif metric == 'recall':\n",
    "                accuracies[table] = ((positive[0])/(positive[0] + negative[0]))\n",
    "        except ZeroDivisionError:\n",
    "            accuracies[table] = -1\n",
    "\n",
    "            \n",
    "    return rules, accuracies, {'used_metric': metric}"
   ]
  },
  {
   "cell_type": "markdown",
   "metadata": {},
   "source": [
    "- Teraz, keď máme algoritmus implementovaný, môžeme ho ísť otestovať na zvolenom testovacom atribúte a na prediktoroch. V prípade tohto algoritmu sú pravidlá binárne, platí buď hodnota A testoného atribútu alebo B. Preto sme sa rozhodli zvoliť si atribút __ack__ v datasete __sess_train_df__ a budeme skúmať s akou presnosťou by sa stroj rozhodol pre klasifikáciu ďalšieho sedenia na kúpu či nekúpu. Teraz aplikujeme algoritmus na všetky atribúty, o ktorých má zmysel uvažovať ako o možných prediktoroch - vylúčime __ID atribúty__.\n",
    "- Väčšina atribútov zo spimínaného datasetu je však numerická a nadobúda množstvo rôznych hodnôt. Prediktory by mali mať kategorické hodnoty, preto je nutné rozdeliť ich do niekokoľkých kategórií, a to dokáže nasledovná funkcia:"
   ]
  },
  {
   "cell_type": "code",
   "execution_count": 4,
   "metadata": {},
   "outputs": [],
   "source": [
    "def num_to_category(df: pd.DataFrame, col: str, num_bins: int = None):\n",
    "\n",
    "    if not num_bins:\n",
    "        num_bins = math.floor(df[col].max())        \n",
    "\n",
    "    df[col] = pd.cut(df[col], bins=num_bins, labels=False)\n",
    "    df.drop(col, axis=1)\n",
    "\n",
    "def timestamp_to_category(df: pd.DataFrame, col: str, mode: Literal['day', 'month', 'year'] = 'month'):\n",
    "    df[col] = pd.to_datetime(df[col])\n",
    "\n",
    "    if mode == 'day':\n",
    "        df[col] = df[col].dt.day\n",
    "    elif mode == 'month':\n",
    "        df[col] = df[col].dt.month\n",
    "    elif mode == 'year':\n",
    "        df[col] = df[col].dt.year"
   ]
  },
  {
   "cell_type": "markdown",
   "metadata": {},
   "source": [
    "- Táto funkcia kategorizuje dataset na základe počtu kategórií v atribúte num_bins. Ak táto hodnota nie je špecifikovaná, je nastavená na maximálnu hodnotu v datasete. Funkcia mení dataset priamo."
   ]
  },
  {
   "cell_type": "code",
   "execution_count": 5,
   "metadata": {},
   "outputs": [],
   "source": [
    "predictors = ('browser_name', 'pct_input', 'wild_mouse_duration', 'pct_scroll_move_duration', 'pct_wild_mouse', 'session_start',\n",
    "              'pct_doubleclick', 'pct_rage_click', 'pct_click', 'page_activity_duration', 'pct_scrandom', 'mouse_move_total_rel_distance',\n",
    "              'pct_click_product_info', 'scroll_move_total_rel_distance', 'pct_mouse_click', 'session_duration', 'total_load_time')\n",
    "\n",
    "sess_train_df_copy = sess_train_df.copy()\n",
    "\n",
    "for predictor in predictors:\n",
    "    if predictor == 'browser_name':\n",
    "        continue\n",
    "    elif predictor == 'session_start':\n",
    "        timestamp_to_category(sess_train_df_copy, col=predictor)\n",
    "    else:\n",
    "        num_to_category(sess_train_df_copy, col=predictor)"
   ]
  },
  {
   "cell_type": "markdown",
   "metadata": {},
   "source": [
    "### Rozhodnutie na základe jedného atribútu\n",
    "- Najskôr uskutočníme klasifikáciu našej predikovanej premennej __ack__ len na základe jedného prediktora. Klasifikácie budeme realizovať za použitia rôznych nasledovných metrík:\n",
    "\n",
    "    a) __accuracy__\n",
    "\n",
    "    b) __precision__\n",
    "    \n",
    "    c) __recall__\n",
    "\n",
    "\n",
    " Zvolme si pravdepodobný prediktor __pct_doubleclick__, ktorý by podľa nás mohol dosahovať vysokú hodnotu accurracy s hodnotou __ACK=1__."
   ]
  },
  {
   "cell_type": "code",
   "execution_count": 6,
   "metadata": {},
   "outputs": [
    {
     "name": "stdout",
     "output_type": "stream",
     "text": [
      "({'pct_input': 1.0}, {'pct_input': 0.6073388203017832}, {'used_metric': 'accuracy'})\n",
      "({'pct_input': 1.0}, {'pct_input': 0.5366235243919784}, {'used_metric': 'precision'})\n",
      "({'pct_input': 1.0}, {'pct_input': 0.9551898734177215}, {'used_metric': 'recall'})\n"
     ]
    }
   ],
   "source": [
    "freq_table = frequency_tables(df=sess_train_df_copy, target_column='ack', predictors=('pct_input',))\n",
    "\n",
    "print(one_rule_alg(freq_tables=freq_table, metric='accuracy'))\n",
    "print(one_rule_alg(freq_tables=freq_table, metric='precision'))\n",
    "print(one_rule_alg(freq_tables=freq_table, metric='recall'))"
   ]
  },
  {
   "cell_type": "markdown",
   "metadata": {},
   "source": [
    "- Pre tento prípad sa teda z 44 až 77 percentnou presnosťou rozhodujeme, že sedenie bude zahŕňať kúpu produktu. Teraz zapojíme ostatné prediktory a rozhodneme sa na základe celkovej presnosti."
   ]
  },
  {
   "cell_type": "markdown",
   "metadata": {},
   "source": [
    "### Rozhodnutie na základe viac atribútov"
   ]
  },
  {
   "cell_type": "code",
   "execution_count": 7,
   "metadata": {},
   "outputs": [
    {
     "name": "stdout",
     "output_type": "stream",
     "text": [
      "{'browser_name': 1.0, 'pct_input': 1.0, 'wild_mouse_duration': 1.0, 'pct_scroll_move_duration': 1.0, 'pct_wild_mouse': 0.0, 'session_start': 1.0, 'pct_doubleclick': 0.0, 'pct_rage_click': 1.0, 'pct_click': 0.0, 'page_activity_duration': 0.0, 'pct_scrandom': 1.0, 'mouse_move_total_rel_distance': 0.0, 'pct_click_product_info': 0.0, 'scroll_move_total_rel_distance': 1.0, 'pct_mouse_click': 1.0, 'session_duration': 1.0, 'total_load_time': 1.0}\n",
      "{'browser_name': 0.5484682213077274, 'pct_input': 0.6073388203017832, 'wild_mouse_duration': 0.6582075903063558, 'pct_scroll_move_duration': 0.5494970278920897, 'pct_wild_mouse': 0.5553269318701417, 'session_start': 0.5484682213077274, 'pct_doubleclick': 0.6895290352080475, 'pct_rage_click': 0.5520118884316415, 'pct_click': 0.6776406035665294, 'page_activity_duration': 0.5485825331504344, 'pct_scrandom': 0.5620713305898491, 'mouse_move_total_rel_distance': 0.6707818930041153, 'pct_click_product_info': 0.5598994055784179, 'scroll_move_total_rel_distance': 0.6368312757201646, 'pct_mouse_click': 0.5484682213077274, 'session_duration': 0.5780749885688158, 'total_load_time': 0.5484682213077274}\n",
      "\n",
      "{'browser_name': 1.0, 'pct_input': 1.0, 'wild_mouse_duration': 1.0, 'pct_scroll_move_duration': 1.0, 'pct_wild_mouse': 0.0, 'session_start': 1.0, 'pct_doubleclick': 0.0, 'pct_rage_click': 1.0, 'pct_click': 0.0, 'page_activity_duration': 0.0, 'pct_scrandom': 1.0, 'mouse_move_total_rel_distance': 0.0, 'pct_click_product_info': 0.0, 'scroll_move_total_rel_distance': 1.0, 'pct_mouse_click': 1.0, 'session_duration': 1.0, 'total_load_time': 1.0}\n",
      "{'browser_name': -1, 'pct_input': 0.5366235243919784, 'wild_mouse_duration': 0.5824742268041238, 'pct_scroll_move_duration': 0.5412844036697247, 'pct_wild_mouse': 0.5337837837837838, 'session_start': -1, 'pct_doubleclick': 0.771806167400881, 'pct_rage_click': 0.5580524344569289, 'pct_click': 0.7563520871143375, 'page_activity_duration': 0.6, 'pct_scrandom': 0.5343731946851531, 'mouse_move_total_rel_distance': 0.5924326192121631, 'pct_click_product_info': 0.5338753387533876, 'scroll_move_total_rel_distance': 0.5686135274276585, 'pct_mouse_click': -1, 'session_duration': 0.5783424077434967, 'total_load_time': -1}\n",
      "\n",
      "{'browser_name': 1.0, 'pct_input': 1.0, 'wild_mouse_duration': 1.0, 'pct_scroll_move_duration': 1.0, 'pct_wild_mouse': 0.0, 'session_start': 1.0, 'pct_doubleclick': 0.0, 'pct_rage_click': 1.0, 'pct_click': 0.0, 'page_activity_duration': 0.0, 'pct_scrandom': 1.0, 'mouse_move_total_rel_distance': 0.0, 'pct_click_product_info': 0.0, 'scroll_move_total_rel_distance': 1.0, 'pct_mouse_click': 1.0, 'session_duration': 1.0, 'total_load_time': 1.0}\n",
      "{'browser_name': 0.0, 'pct_input': 0.9551898734177215, 'wild_mouse_duration': 0.8582278481012658, 'pct_scroll_move_duration': 0.014936708860759493, 'pct_wild_mouse': 0.12, 'session_start': 0.0, 'pct_doubleclick': 0.44354430379746834, 'pct_rage_click': 0.03772151898734177, 'pct_click': 0.4220253164556962, 'page_activity_duration': 0.0007594936708860759, 'pct_scrandom': 0.23417721518987342, 'mouse_move_total_rel_distance': 0.8681012658227848, 'pct_click_product_info': 0.19949367088607595, 'scroll_move_total_rel_distance': 0.8108860759493671, 'pct_mouse_click': 0.0, 'session_duration': 0.2420253164556962, 'total_load_time': 0.0}\n"
     ]
    }
   ],
   "source": [
    "freq_tables = frequency_tables(df=sess_train_df_copy, target_column='ack', predictors=predictors)\n",
    "\n",
    "rules_a, accuracies, metric = one_rule_alg(freq_tables=freq_tables, metric='accuracy')\n",
    "rules_p, precisions, metric = one_rule_alg(freq_tables=freq_tables, metric='precision')\n",
    "rules_r, recalls, metric = one_rule_alg(freq_tables=freq_tables, metric='recall')\n",
    "\n",
    "print(rules_a)\n",
    "print(accuracies)\n",
    "print(\"\")\n",
    "\n",
    "print(rules_p)\n",
    "print(precisions)\n",
    "print(\"\")\n",
    "\n",
    "print(rules_r)\n",
    "print(recalls)"
   ]
  },
  {
   "cell_type": "markdown",
   "metadata": {},
   "source": [
    "- Z výsledkov vidno, že testovaná hodnota __ack__ by bola v __9__ prípadoch z __15__ klasifikovaná ako kúpa. Hodnota istoty sa pohybovala na úrovni od __0 percent__ (*pct_mouse_click* pri metrike recall) až po __95__ percent pri prediktore *pct_click* a metóde Precision. 0 percent pri Recall metóde znamená, že neboli namerané žiadne skutočne pozitívne hodnoty. Vidíme, že ten istý atribút pri metóde Precision spôsobil __delenie nulou__ (preto hodnota -1).\n",
    "- Nakoľko sú počet klasifikácií predikovaného atribútu ako kúpa aj ich presnosť väčšie, na základe viacerých atribútov sa __rozhodujeme sa opäť pre ACK=1__."
   ]
  },
  {
   "cell_type": "markdown",
   "metadata": {},
   "source": [
    "### Vyhodnotenie klasifikátora na základe dostupných metrík\n",
    "- Teraz vyhodnotíme náš algoritmus na základe nasledovných metrík:\n",
    "\n",
    "    a) __Accurracy__\n",
    "\n",
    "    b) __Precision__\n",
    "    \n",
    "    c) __Recall__\n",
    "\n",
    "- Prvú z nich sme implementovali v samotnom algoritme. "
   ]
  },
  {
   "cell_type": "markdown",
   "metadata": {},
   "source": [
    "## Trénovanie a vyhodnotenie klasifikátorov strojového učenia"
   ]
  },
  {
   "cell_type": "markdown",
   "metadata": {},
   "source": [
    "## Optimializácia alias hyperparameter tuning"
   ]
  },
  {
   "cell_type": "markdown",
   "metadata": {},
   "source": [
    "- V tejto časti sa najskôr detailnejšie pozrieme na jeden z našich vybraných stromových algoritmov z predchádzajúcej časti, kokrétne na __RandomForestClassifier__ z knižnice __scikit__. Rozhodovacie stromy vyžadujú dataset, na ktorom sa učia rozhodovať, konkrétne __klasifikovať__ pri kategoriách alebo vykonať regresiu pri __numerických hodnotách__.\n",
    "- __DecisionTreeClassifier__ je schopný klasifikovať dataset do niekoľkých tried, avšak použitie jeho samotného je náchylné na __overfitting__. Zato __RandomForesClassifer__ obsahuje viacero takýcho rozhodovacích stromov, čo rapídne redukuje možnosť overfittingu. Okrem toho, vďaka viacerým stromom sa zvyšuje aj celková __presnosť klasifikácie__. V neposlednom rade poskytuje  aj spoľahlivejší odhad __dôležitosti jednotlivých vstupných atribútov__.\n",
    "\n",
    "    a) __n_estimators__ - počet zahrnutých stromov\n",
    "\n",
    "    b) __criterion__ - funkcia na meranie kvality rozdelenia\n",
    "\n",
    "    b) __max_features__ - maximálny počet vstupných atribútov\n",
    "\n",
    "    c) __max_depth__ - maximálna hĺbka v strome\n",
    "\n",
    "    d) __min_sample_split__ - minimálny počet vo vzorke na rozdelenie uzla\n",
    "\n",
    "    e) __min_sample_leaf__ - minimálny počet vo vzorke na to, aby uzol mohol byť listom\n",
    "\n",
    "    ...\n",
    "\n",
    "#### Referencie\n",
    "\n",
    "[RandomForest vs DecisionTree web stránka](https://www.analyticsvidhya.com/blog/2020/05/decision-tree-vs-random-forest-algorithm/)\n",
    "\n",
    "[DecisionTreeClassifier - scikit web stránka](https://scikit-learn.org/stable/modules/generated/sklearn.tree.DecisionTreeClassifier.html)\n",
    "    "
   ]
  },
  {
   "cell_type": "markdown",
   "metadata": {},
   "source": [
    "- Teraz budeme skúšať rôzne hodnoty nami zvolených hyperparametrov (__tuning__) na RandomForestClassifier algoritme. Tuning budeme vykonávať na cieľovom atribúte _ack_ na vstupných nasledovných atribútoch:\n",
    "\n",
    "    a) *pct_input*\n",
    "    \n",
    "    b) *mouse_move_total_rel_distance*\n",
    "\n",
    "    c) *pct_scroll_move_duration*\n",
    "- Kombinácie modelov (__ensemble__) budeme realizovať pomocou __3 vzoriek__, čiže __base modelov__ z nášho trénovacieho modelu, pričom každá vzorka bude obsahovať __1000 náhodných riadkov__.\n",
    "- Nasledovná funkcia využíva __RandomForestClassifier__ a testuje ho na rôznych __vzorkách__ (rôznych basemodeloch, parameter *num_samples*), pričom takisto dostáva ako parameter aj nejaký tuning hyperparametrov spomínaného algoritmu. Funkcia využíva triedu __GridSearchCV__ na vyskúšanie všetkých parametrov a určenie tých najvhodnejších. Tie sa určia podľa hodnoty špecifkovanej metriky (v tomto prípade __accurracy__)."
   ]
  },
  {
   "cell_type": "code",
   "execution_count": 8,
   "metadata": {},
   "outputs": [],
   "source": [
    "\n",
    "features = ['pct_input', 'mouse_move_total_rel_distance', 'pct_scroll_move_duration']\n",
    "target_col = 'ack'\n",
    "\n",
    "def perform_tests(df: pd.DataFrame, feature_cols: List[str], target_col: str, param_grid: Dict[str, List], train_df: float = 0.8, num_samples: int = 3, samples: int = 1000, metric: Literal['accuracy', 'precision', 'recall'] = 'accuracy'):\n",
    "    \n",
    "    #firstly, the provided dataframe is split into training and testing dataset according to the specified proportion\n",
    "    train_df, test_df = split_data(df, proportion=train_df)\n",
    "\n",
    "    #now, a specific amount of samples are tested\n",
    "    for i in range(num_samples):\n",
    "        # feature atttributes and target are sampled consistently\n",
    "        sampled_data = train_df[feature_cols + [target_col]].sample(samples, random_state=42 + i)  # Adjust the random_state\n",
    "        features = sampled_data.drop(target_col, axis=1)\n",
    "        target = sampled_data[target_col]\n",
    "\n",
    "        # converting numerical features to categories\n",
    "        for col in features.columns:\n",
    "            num_to_category(df=features, col=col)\n",
    "\n",
    "        # initializing and configuring the classifier\n",
    "        rf_classifier = RandomForestClassifier(random_state=42)\n",
    "\n",
    "        # performing grid search\n",
    "        grid_search = GridSearchCV(estimator=rf_classifier, param_grid=param_grid, cv=5, scoring=metric)\n",
    "        grid_search.fit(features, target)\n",
    "\n",
    "        # getting best hyperparameters\n",
    "        best_params = grid_search.best_params_\n",
    "        print(f\"\\nSample {i + 1} - Best Hyperparameters:\", best_params)\n",
    "\n",
    "        # getting best model\n",
    "        best_model = grid_search.best_estimator_\n",
    "\n",
    "        # predicting on the training set\n",
    "        y_pred_train = best_model.predict(features)\n",
    "\n",
    "        # evaluating training accuracy\n",
    "        train_accuracy = accuracy_score(target, y_pred_train)\n",
    "        print(f\"Sample {i + 1} - Training Accuracy:\", train_accuracy)\n",
    "\n",
    "        # doing the same for the testing dataset\n",
    "        sampled_test_data = test_df[feature_cols + [target_col]].sample(samples, random_state=42 + i)\n",
    "        test_features = sampled_test_data.drop(target_col, axis=1)\n",
    "        test_target = sampled_test_data[target_col]\n",
    "\n",
    "        for col in test_features.columns:\n",
    "            num_to_category(df=test_features, col=col)\n",
    "\n",
    "        y_pred_test = best_model.predict(test_features)\n",
    "\n",
    "        test_accuracy = accuracy_score(test_target, y_pred_test)\n",
    "        print(f\"Sample {i + 1} - Test Accuracy:\", test_accuracy)\n"
   ]
  },
  {
   "cell_type": "markdown",
   "metadata": {},
   "source": [
    "- Najskôr si vytvoríme tzv. *param_grid*, ktorá bude obsahovať rôzne konfigurácie hyperparametrov. Najskôr špecifikujeme nízke hodnoty pri parametroch, ktoré sú menej náročné na __výkon__, zato majú negatívny vplyv na __celkovú presnosť__ klasifikácie. Sú tu najmä parametre __n_estimators__ a __max_depth__."
   ]
  },
  {
   "cell_type": "code",
   "execution_count": 9,
   "metadata": {},
   "outputs": [
    {
     "ename": "KeyboardInterrupt",
     "evalue": "",
     "output_type": "error",
     "traceback": [
      "\u001b[1;31m---------------------------------------------------------------------------\u001b[0m",
      "\u001b[1;31mKeyboardInterrupt\u001b[0m                         Traceback (most recent call last)",
      "Cell \u001b[1;32mIn[9], line 9\u001b[0m\n\u001b[0;32m      1\u001b[0m param_grid \u001b[38;5;241m=\u001b[39m {\n\u001b[0;32m      2\u001b[0m     \u001b[38;5;124m'\u001b[39m\u001b[38;5;124mn_estimators\u001b[39m\u001b[38;5;124m'\u001b[39m: [\u001b[38;5;241m1\u001b[39m, \u001b[38;5;241m3\u001b[39m, \u001b[38;5;241m5\u001b[39m],\n\u001b[0;32m      3\u001b[0m     \u001b[38;5;124m'\u001b[39m\u001b[38;5;124mmax_depth\u001b[39m\u001b[38;5;124m'\u001b[39m: [\u001b[38;5;241m2\u001b[39m, \u001b[38;5;241m5\u001b[39m, \u001b[38;5;241m7\u001b[39m],\n\u001b[1;32m   (...)\u001b[0m\n\u001b[0;32m      6\u001b[0m     \u001b[38;5;124m'\u001b[39m\u001b[38;5;124mmax_features\u001b[39m\u001b[38;5;124m'\u001b[39m: [\u001b[38;5;241m10\u001b[39m, \u001b[38;5;124m'\u001b[39m\u001b[38;5;124msqrt\u001b[39m\u001b[38;5;124m'\u001b[39m, \u001b[38;5;124m'\u001b[39m\u001b[38;5;124mlog2\u001b[39m\u001b[38;5;124m'\u001b[39m]\n\u001b[0;32m      7\u001b[0m }\n\u001b[1;32m----> 9\u001b[0m \u001b[43mperform_tests\u001b[49m\u001b[43m(\u001b[49m\u001b[43mdf\u001b[49m\u001b[38;5;241;43m=\u001b[39;49m\u001b[43msess_df\u001b[49m\u001b[43m,\u001b[49m\u001b[43m \u001b[49m\u001b[43mfeature_cols\u001b[49m\u001b[38;5;241;43m=\u001b[39;49m\u001b[43mfeatures\u001b[49m\u001b[43m,\u001b[49m\u001b[43m \u001b[49m\u001b[43mtarget_col\u001b[49m\u001b[38;5;241;43m=\u001b[39;49m\u001b[43mtarget_col\u001b[49m\u001b[43m,\u001b[49m\u001b[43m \u001b[49m\u001b[43mparam_grid\u001b[49m\u001b[38;5;241;43m=\u001b[39;49m\u001b[43mparam_grid\u001b[49m\u001b[43m,\u001b[49m\u001b[43m \u001b[49m\u001b[43mnum_samples\u001b[49m\u001b[38;5;241;43m=\u001b[39;49m\u001b[38;5;241;43m3\u001b[39;49m\u001b[43m,\u001b[49m\u001b[43m \u001b[49m\u001b[43msamples\u001b[49m\u001b[38;5;241;43m=\u001b[39;49m\u001b[38;5;241;43m1000\u001b[39;49m\u001b[43m,\u001b[49m\u001b[43m \u001b[49m\u001b[43mmetric\u001b[49m\u001b[38;5;241;43m=\u001b[39;49m\u001b[38;5;124;43m'\u001b[39;49m\u001b[38;5;124;43maccuracy\u001b[39;49m\u001b[38;5;124;43m'\u001b[39;49m\u001b[43m)\u001b[49m\n",
      "Cell \u001b[1;32mIn[8], line 25\u001b[0m, in \u001b[0;36mperform_tests\u001b[1;34m(df, feature_cols, target_col, param_grid, train_df, num_samples, samples, metric)\u001b[0m\n\u001b[0;32m     23\u001b[0m \u001b[38;5;66;03m# performing grid search\u001b[39;00m\n\u001b[0;32m     24\u001b[0m grid_search \u001b[38;5;241m=\u001b[39m GridSearchCV(estimator\u001b[38;5;241m=\u001b[39mrf_classifier, param_grid\u001b[38;5;241m=\u001b[39mparam_grid, cv\u001b[38;5;241m=\u001b[39m\u001b[38;5;241m5\u001b[39m, scoring\u001b[38;5;241m=\u001b[39mmetric)\n\u001b[1;32m---> 25\u001b[0m \u001b[43mgrid_search\u001b[49m\u001b[38;5;241;43m.\u001b[39;49m\u001b[43mfit\u001b[49m\u001b[43m(\u001b[49m\u001b[43mfeatures\u001b[49m\u001b[43m,\u001b[49m\u001b[43m \u001b[49m\u001b[43mtarget\u001b[49m\u001b[43m)\u001b[49m\n\u001b[0;32m     27\u001b[0m \u001b[38;5;66;03m# getting best hyperparameters\u001b[39;00m\n\u001b[0;32m     28\u001b[0m best_params \u001b[38;5;241m=\u001b[39m grid_search\u001b[38;5;241m.\u001b[39mbest_params_\n",
      "File \u001b[1;32mc:\\Users\\fmojt\\Documents\\school\\IAU\\.virenv\\iau\\Lib\\site-packages\\sklearn\\base.py:1152\u001b[0m, in \u001b[0;36m_fit_context.<locals>.decorator.<locals>.wrapper\u001b[1;34m(estimator, *args, **kwargs)\u001b[0m\n\u001b[0;32m   1145\u001b[0m     estimator\u001b[38;5;241m.\u001b[39m_validate_params()\n\u001b[0;32m   1147\u001b[0m \u001b[38;5;28;01mwith\u001b[39;00m config_context(\n\u001b[0;32m   1148\u001b[0m     skip_parameter_validation\u001b[38;5;241m=\u001b[39m(\n\u001b[0;32m   1149\u001b[0m         prefer_skip_nested_validation \u001b[38;5;129;01mor\u001b[39;00m global_skip_validation\n\u001b[0;32m   1150\u001b[0m     )\n\u001b[0;32m   1151\u001b[0m ):\n\u001b[1;32m-> 1152\u001b[0m     \u001b[38;5;28;01mreturn\u001b[39;00m \u001b[43mfit_method\u001b[49m\u001b[43m(\u001b[49m\u001b[43mestimator\u001b[49m\u001b[43m,\u001b[49m\u001b[43m \u001b[49m\u001b[38;5;241;43m*\u001b[39;49m\u001b[43margs\u001b[49m\u001b[43m,\u001b[49m\u001b[43m \u001b[49m\u001b[38;5;241;43m*\u001b[39;49m\u001b[38;5;241;43m*\u001b[39;49m\u001b[43mkwargs\u001b[49m\u001b[43m)\u001b[49m\n",
      "File \u001b[1;32mc:\\Users\\fmojt\\Documents\\school\\IAU\\.virenv\\iau\\Lib\\site-packages\\sklearn\\model_selection\\_search.py:898\u001b[0m, in \u001b[0;36mBaseSearchCV.fit\u001b[1;34m(self, X, y, groups, **fit_params)\u001b[0m\n\u001b[0;32m    892\u001b[0m     results \u001b[38;5;241m=\u001b[39m \u001b[38;5;28mself\u001b[39m\u001b[38;5;241m.\u001b[39m_format_results(\n\u001b[0;32m    893\u001b[0m         all_candidate_params, n_splits, all_out, all_more_results\n\u001b[0;32m    894\u001b[0m     )\n\u001b[0;32m    896\u001b[0m     \u001b[38;5;28;01mreturn\u001b[39;00m results\n\u001b[1;32m--> 898\u001b[0m \u001b[38;5;28;43mself\u001b[39;49m\u001b[38;5;241;43m.\u001b[39;49m\u001b[43m_run_search\u001b[49m\u001b[43m(\u001b[49m\u001b[43mevaluate_candidates\u001b[49m\u001b[43m)\u001b[49m\n\u001b[0;32m    900\u001b[0m \u001b[38;5;66;03m# multimetric is determined here because in the case of a callable\u001b[39;00m\n\u001b[0;32m    901\u001b[0m \u001b[38;5;66;03m# self.scoring the return type is only known after calling\u001b[39;00m\n\u001b[0;32m    902\u001b[0m first_test_score \u001b[38;5;241m=\u001b[39m all_out[\u001b[38;5;241m0\u001b[39m][\u001b[38;5;124m\"\u001b[39m\u001b[38;5;124mtest_scores\u001b[39m\u001b[38;5;124m\"\u001b[39m]\n",
      "File \u001b[1;32mc:\\Users\\fmojt\\Documents\\school\\IAU\\.virenv\\iau\\Lib\\site-packages\\sklearn\\model_selection\\_search.py:1422\u001b[0m, in \u001b[0;36mGridSearchCV._run_search\u001b[1;34m(self, evaluate_candidates)\u001b[0m\n\u001b[0;32m   1420\u001b[0m \u001b[38;5;28;01mdef\u001b[39;00m \u001b[38;5;21m_run_search\u001b[39m(\u001b[38;5;28mself\u001b[39m, evaluate_candidates):\n\u001b[0;32m   1421\u001b[0m \u001b[38;5;250m    \u001b[39m\u001b[38;5;124;03m\"\"\"Search all candidates in param_grid\"\"\"\u001b[39;00m\n\u001b[1;32m-> 1422\u001b[0m     \u001b[43mevaluate_candidates\u001b[49m\u001b[43m(\u001b[49m\u001b[43mParameterGrid\u001b[49m\u001b[43m(\u001b[49m\u001b[38;5;28;43mself\u001b[39;49m\u001b[38;5;241;43m.\u001b[39;49m\u001b[43mparam_grid\u001b[49m\u001b[43m)\u001b[49m\u001b[43m)\u001b[49m\n",
      "File \u001b[1;32mc:\\Users\\fmojt\\Documents\\school\\IAU\\.virenv\\iau\\Lib\\site-packages\\sklearn\\model_selection\\_search.py:845\u001b[0m, in \u001b[0;36mBaseSearchCV.fit.<locals>.evaluate_candidates\u001b[1;34m(candidate_params, cv, more_results)\u001b[0m\n\u001b[0;32m    837\u001b[0m \u001b[38;5;28;01mif\u001b[39;00m \u001b[38;5;28mself\u001b[39m\u001b[38;5;241m.\u001b[39mverbose \u001b[38;5;241m>\u001b[39m \u001b[38;5;241m0\u001b[39m:\n\u001b[0;32m    838\u001b[0m     \u001b[38;5;28mprint\u001b[39m(\n\u001b[0;32m    839\u001b[0m         \u001b[38;5;124m\"\u001b[39m\u001b[38;5;124mFitting \u001b[39m\u001b[38;5;132;01m{0}\u001b[39;00m\u001b[38;5;124m folds for each of \u001b[39m\u001b[38;5;132;01m{1}\u001b[39;00m\u001b[38;5;124m candidates,\u001b[39m\u001b[38;5;124m\"\u001b[39m\n\u001b[0;32m    840\u001b[0m         \u001b[38;5;124m\"\u001b[39m\u001b[38;5;124m totalling \u001b[39m\u001b[38;5;132;01m{2}\u001b[39;00m\u001b[38;5;124m fits\u001b[39m\u001b[38;5;124m\"\u001b[39m\u001b[38;5;241m.\u001b[39mformat(\n\u001b[0;32m    841\u001b[0m             n_splits, n_candidates, n_candidates \u001b[38;5;241m*\u001b[39m n_splits\n\u001b[0;32m    842\u001b[0m         )\n\u001b[0;32m    843\u001b[0m     )\n\u001b[1;32m--> 845\u001b[0m out \u001b[38;5;241m=\u001b[39m \u001b[43mparallel\u001b[49m\u001b[43m(\u001b[49m\n\u001b[0;32m    846\u001b[0m \u001b[43m    \u001b[49m\u001b[43mdelayed\u001b[49m\u001b[43m(\u001b[49m\u001b[43m_fit_and_score\u001b[49m\u001b[43m)\u001b[49m\u001b[43m(\u001b[49m\n\u001b[0;32m    847\u001b[0m \u001b[43m        \u001b[49m\u001b[43mclone\u001b[49m\u001b[43m(\u001b[49m\u001b[43mbase_estimator\u001b[49m\u001b[43m)\u001b[49m\u001b[43m,\u001b[49m\n\u001b[0;32m    848\u001b[0m \u001b[43m        \u001b[49m\u001b[43mX\u001b[49m\u001b[43m,\u001b[49m\n\u001b[0;32m    849\u001b[0m \u001b[43m        \u001b[49m\u001b[43my\u001b[49m\u001b[43m,\u001b[49m\n\u001b[0;32m    850\u001b[0m \u001b[43m        \u001b[49m\u001b[43mtrain\u001b[49m\u001b[38;5;241;43m=\u001b[39;49m\u001b[43mtrain\u001b[49m\u001b[43m,\u001b[49m\n\u001b[0;32m    851\u001b[0m \u001b[43m        \u001b[49m\u001b[43mtest\u001b[49m\u001b[38;5;241;43m=\u001b[39;49m\u001b[43mtest\u001b[49m\u001b[43m,\u001b[49m\n\u001b[0;32m    852\u001b[0m \u001b[43m        \u001b[49m\u001b[43mparameters\u001b[49m\u001b[38;5;241;43m=\u001b[39;49m\u001b[43mparameters\u001b[49m\u001b[43m,\u001b[49m\n\u001b[0;32m    853\u001b[0m \u001b[43m        \u001b[49m\u001b[43msplit_progress\u001b[49m\u001b[38;5;241;43m=\u001b[39;49m\u001b[43m(\u001b[49m\u001b[43msplit_idx\u001b[49m\u001b[43m,\u001b[49m\u001b[43m \u001b[49m\u001b[43mn_splits\u001b[49m\u001b[43m)\u001b[49m\u001b[43m,\u001b[49m\n\u001b[0;32m    854\u001b[0m \u001b[43m        \u001b[49m\u001b[43mcandidate_progress\u001b[49m\u001b[38;5;241;43m=\u001b[39;49m\u001b[43m(\u001b[49m\u001b[43mcand_idx\u001b[49m\u001b[43m,\u001b[49m\u001b[43m \u001b[49m\u001b[43mn_candidates\u001b[49m\u001b[43m)\u001b[49m\u001b[43m,\u001b[49m\n\u001b[0;32m    855\u001b[0m \u001b[43m        \u001b[49m\u001b[38;5;241;43m*\u001b[39;49m\u001b[38;5;241;43m*\u001b[39;49m\u001b[43mfit_and_score_kwargs\u001b[49m\u001b[43m,\u001b[49m\n\u001b[0;32m    856\u001b[0m \u001b[43m    \u001b[49m\u001b[43m)\u001b[49m\n\u001b[0;32m    857\u001b[0m \u001b[43m    \u001b[49m\u001b[38;5;28;43;01mfor\u001b[39;49;00m\u001b[43m \u001b[49m\u001b[43m(\u001b[49m\u001b[43mcand_idx\u001b[49m\u001b[43m,\u001b[49m\u001b[43m \u001b[49m\u001b[43mparameters\u001b[49m\u001b[43m)\u001b[49m\u001b[43m,\u001b[49m\u001b[43m \u001b[49m\u001b[43m(\u001b[49m\u001b[43msplit_idx\u001b[49m\u001b[43m,\u001b[49m\u001b[43m \u001b[49m\u001b[43m(\u001b[49m\u001b[43mtrain\u001b[49m\u001b[43m,\u001b[49m\u001b[43m \u001b[49m\u001b[43mtest\u001b[49m\u001b[43m)\u001b[49m\u001b[43m)\u001b[49m\u001b[43m \u001b[49m\u001b[38;5;129;43;01min\u001b[39;49;00m\u001b[43m \u001b[49m\u001b[43mproduct\u001b[49m\u001b[43m(\u001b[49m\n\u001b[0;32m    858\u001b[0m \u001b[43m        \u001b[49m\u001b[38;5;28;43menumerate\u001b[39;49m\u001b[43m(\u001b[49m\u001b[43mcandidate_params\u001b[49m\u001b[43m)\u001b[49m\u001b[43m,\u001b[49m\u001b[43m \u001b[49m\u001b[38;5;28;43menumerate\u001b[39;49m\u001b[43m(\u001b[49m\u001b[43mcv\u001b[49m\u001b[38;5;241;43m.\u001b[39;49m\u001b[43msplit\u001b[49m\u001b[43m(\u001b[49m\u001b[43mX\u001b[49m\u001b[43m,\u001b[49m\u001b[43m \u001b[49m\u001b[43my\u001b[49m\u001b[43m,\u001b[49m\u001b[43m \u001b[49m\u001b[43mgroups\u001b[49m\u001b[43m)\u001b[49m\u001b[43m)\u001b[49m\n\u001b[0;32m    859\u001b[0m \u001b[43m    \u001b[49m\u001b[43m)\u001b[49m\n\u001b[0;32m    860\u001b[0m \u001b[43m\u001b[49m\u001b[43m)\u001b[49m\n\u001b[0;32m    862\u001b[0m \u001b[38;5;28;01mif\u001b[39;00m \u001b[38;5;28mlen\u001b[39m(out) \u001b[38;5;241m<\u001b[39m \u001b[38;5;241m1\u001b[39m:\n\u001b[0;32m    863\u001b[0m     \u001b[38;5;28;01mraise\u001b[39;00m \u001b[38;5;167;01mValueError\u001b[39;00m(\n\u001b[0;32m    864\u001b[0m         \u001b[38;5;124m\"\u001b[39m\u001b[38;5;124mNo fits were performed. \u001b[39m\u001b[38;5;124m\"\u001b[39m\n\u001b[0;32m    865\u001b[0m         \u001b[38;5;124m\"\u001b[39m\u001b[38;5;124mWas the CV iterator empty? \u001b[39m\u001b[38;5;124m\"\u001b[39m\n\u001b[0;32m    866\u001b[0m         \u001b[38;5;124m\"\u001b[39m\u001b[38;5;124mWere there no candidates?\u001b[39m\u001b[38;5;124m\"\u001b[39m\n\u001b[0;32m    867\u001b[0m     )\n",
      "File \u001b[1;32mc:\\Users\\fmojt\\Documents\\school\\IAU\\.virenv\\iau\\Lib\\site-packages\\sklearn\\utils\\parallel.py:65\u001b[0m, in \u001b[0;36mParallel.__call__\u001b[1;34m(self, iterable)\u001b[0m\n\u001b[0;32m     60\u001b[0m config \u001b[38;5;241m=\u001b[39m get_config()\n\u001b[0;32m     61\u001b[0m iterable_with_config \u001b[38;5;241m=\u001b[39m (\n\u001b[0;32m     62\u001b[0m     (_with_config(delayed_func, config), args, kwargs)\n\u001b[0;32m     63\u001b[0m     \u001b[38;5;28;01mfor\u001b[39;00m delayed_func, args, kwargs \u001b[38;5;129;01min\u001b[39;00m iterable\n\u001b[0;32m     64\u001b[0m )\n\u001b[1;32m---> 65\u001b[0m \u001b[38;5;28;01mreturn\u001b[39;00m \u001b[38;5;28;43msuper\u001b[39;49m\u001b[43m(\u001b[49m\u001b[43m)\u001b[49m\u001b[38;5;241;43m.\u001b[39;49m\u001b[38;5;21;43m__call__\u001b[39;49m\u001b[43m(\u001b[49m\u001b[43miterable_with_config\u001b[49m\u001b[43m)\u001b[49m\n",
      "File \u001b[1;32mc:\\Users\\fmojt\\Documents\\school\\IAU\\.virenv\\iau\\Lib\\site-packages\\joblib\\parallel.py:1863\u001b[0m, in \u001b[0;36mParallel.__call__\u001b[1;34m(self, iterable)\u001b[0m\n\u001b[0;32m   1861\u001b[0m     output \u001b[38;5;241m=\u001b[39m \u001b[38;5;28mself\u001b[39m\u001b[38;5;241m.\u001b[39m_get_sequential_output(iterable)\n\u001b[0;32m   1862\u001b[0m     \u001b[38;5;28mnext\u001b[39m(output)\n\u001b[1;32m-> 1863\u001b[0m     \u001b[38;5;28;01mreturn\u001b[39;00m output \u001b[38;5;28;01mif\u001b[39;00m \u001b[38;5;28mself\u001b[39m\u001b[38;5;241m.\u001b[39mreturn_generator \u001b[38;5;28;01melse\u001b[39;00m \u001b[38;5;28;43mlist\u001b[39;49m\u001b[43m(\u001b[49m\u001b[43moutput\u001b[49m\u001b[43m)\u001b[49m\n\u001b[0;32m   1865\u001b[0m \u001b[38;5;66;03m# Let's create an ID that uniquely identifies the current call. If the\u001b[39;00m\n\u001b[0;32m   1866\u001b[0m \u001b[38;5;66;03m# call is interrupted early and that the same instance is immediately\u001b[39;00m\n\u001b[0;32m   1867\u001b[0m \u001b[38;5;66;03m# re-used, this id will be used to prevent workers that were\u001b[39;00m\n\u001b[0;32m   1868\u001b[0m \u001b[38;5;66;03m# concurrently finalizing a task from the previous call to run the\u001b[39;00m\n\u001b[0;32m   1869\u001b[0m \u001b[38;5;66;03m# callback.\u001b[39;00m\n\u001b[0;32m   1870\u001b[0m \u001b[38;5;28;01mwith\u001b[39;00m \u001b[38;5;28mself\u001b[39m\u001b[38;5;241m.\u001b[39m_lock:\n",
      "File \u001b[1;32mc:\\Users\\fmojt\\Documents\\school\\IAU\\.virenv\\iau\\Lib\\site-packages\\joblib\\parallel.py:1792\u001b[0m, in \u001b[0;36mParallel._get_sequential_output\u001b[1;34m(self, iterable)\u001b[0m\n\u001b[0;32m   1790\u001b[0m \u001b[38;5;28mself\u001b[39m\u001b[38;5;241m.\u001b[39mn_dispatched_batches \u001b[38;5;241m+\u001b[39m\u001b[38;5;241m=\u001b[39m \u001b[38;5;241m1\u001b[39m\n\u001b[0;32m   1791\u001b[0m \u001b[38;5;28mself\u001b[39m\u001b[38;5;241m.\u001b[39mn_dispatched_tasks \u001b[38;5;241m+\u001b[39m\u001b[38;5;241m=\u001b[39m \u001b[38;5;241m1\u001b[39m\n\u001b[1;32m-> 1792\u001b[0m res \u001b[38;5;241m=\u001b[39m \u001b[43mfunc\u001b[49m\u001b[43m(\u001b[49m\u001b[38;5;241;43m*\u001b[39;49m\u001b[43margs\u001b[49m\u001b[43m,\u001b[49m\u001b[43m \u001b[49m\u001b[38;5;241;43m*\u001b[39;49m\u001b[38;5;241;43m*\u001b[39;49m\u001b[43mkwargs\u001b[49m\u001b[43m)\u001b[49m\n\u001b[0;32m   1793\u001b[0m \u001b[38;5;28mself\u001b[39m\u001b[38;5;241m.\u001b[39mn_completed_tasks \u001b[38;5;241m+\u001b[39m\u001b[38;5;241m=\u001b[39m \u001b[38;5;241m1\u001b[39m\n\u001b[0;32m   1794\u001b[0m \u001b[38;5;28mself\u001b[39m\u001b[38;5;241m.\u001b[39mprint_progress()\n",
      "File \u001b[1;32mc:\\Users\\fmojt\\Documents\\school\\IAU\\.virenv\\iau\\Lib\\site-packages\\sklearn\\utils\\parallel.py:127\u001b[0m, in \u001b[0;36m_FuncWrapper.__call__\u001b[1;34m(self, *args, **kwargs)\u001b[0m\n\u001b[0;32m    125\u001b[0m     config \u001b[38;5;241m=\u001b[39m {}\n\u001b[0;32m    126\u001b[0m \u001b[38;5;28;01mwith\u001b[39;00m config_context(\u001b[38;5;241m*\u001b[39m\u001b[38;5;241m*\u001b[39mconfig):\n\u001b[1;32m--> 127\u001b[0m     \u001b[38;5;28;01mreturn\u001b[39;00m \u001b[38;5;28;43mself\u001b[39;49m\u001b[38;5;241;43m.\u001b[39;49m\u001b[43mfunction\u001b[49m\u001b[43m(\u001b[49m\u001b[38;5;241;43m*\u001b[39;49m\u001b[43margs\u001b[49m\u001b[43m,\u001b[49m\u001b[43m \u001b[49m\u001b[38;5;241;43m*\u001b[39;49m\u001b[38;5;241;43m*\u001b[39;49m\u001b[43mkwargs\u001b[49m\u001b[43m)\u001b[49m\n",
      "File \u001b[1;32mc:\\Users\\fmojt\\Documents\\school\\IAU\\.virenv\\iau\\Lib\\site-packages\\sklearn\\model_selection\\_validation.py:729\u001b[0m, in \u001b[0;36m_fit_and_score\u001b[1;34m(estimator, X, y, scorer, train, test, verbose, parameters, fit_params, return_train_score, return_parameters, return_n_test_samples, return_times, return_estimator, split_progress, candidate_progress, error_score)\u001b[0m\n\u001b[0;32m    727\u001b[0m         estimator\u001b[38;5;241m.\u001b[39mfit(X_train, \u001b[38;5;241m*\u001b[39m\u001b[38;5;241m*\u001b[39mfit_params)\n\u001b[0;32m    728\u001b[0m     \u001b[38;5;28;01melse\u001b[39;00m:\n\u001b[1;32m--> 729\u001b[0m         \u001b[43mestimator\u001b[49m\u001b[38;5;241;43m.\u001b[39;49m\u001b[43mfit\u001b[49m\u001b[43m(\u001b[49m\u001b[43mX_train\u001b[49m\u001b[43m,\u001b[49m\u001b[43m \u001b[49m\u001b[43my_train\u001b[49m\u001b[43m,\u001b[49m\u001b[43m \u001b[49m\u001b[38;5;241;43m*\u001b[39;49m\u001b[38;5;241;43m*\u001b[39;49m\u001b[43mfit_params\u001b[49m\u001b[43m)\u001b[49m\n\u001b[0;32m    731\u001b[0m \u001b[38;5;28;01mexcept\u001b[39;00m \u001b[38;5;167;01mException\u001b[39;00m:\n\u001b[0;32m    732\u001b[0m     \u001b[38;5;66;03m# Note fit time as time until error\u001b[39;00m\n\u001b[0;32m    733\u001b[0m     fit_time \u001b[38;5;241m=\u001b[39m time\u001b[38;5;241m.\u001b[39mtime() \u001b[38;5;241m-\u001b[39m start_time\n",
      "File \u001b[1;32mc:\\Users\\fmojt\\Documents\\school\\IAU\\.virenv\\iau\\Lib\\site-packages\\sklearn\\base.py:1152\u001b[0m, in \u001b[0;36m_fit_context.<locals>.decorator.<locals>.wrapper\u001b[1;34m(estimator, *args, **kwargs)\u001b[0m\n\u001b[0;32m   1145\u001b[0m     estimator\u001b[38;5;241m.\u001b[39m_validate_params()\n\u001b[0;32m   1147\u001b[0m \u001b[38;5;28;01mwith\u001b[39;00m config_context(\n\u001b[0;32m   1148\u001b[0m     skip_parameter_validation\u001b[38;5;241m=\u001b[39m(\n\u001b[0;32m   1149\u001b[0m         prefer_skip_nested_validation \u001b[38;5;129;01mor\u001b[39;00m global_skip_validation\n\u001b[0;32m   1150\u001b[0m     )\n\u001b[0;32m   1151\u001b[0m ):\n\u001b[1;32m-> 1152\u001b[0m     \u001b[38;5;28;01mreturn\u001b[39;00m \u001b[43mfit_method\u001b[49m\u001b[43m(\u001b[49m\u001b[43mestimator\u001b[49m\u001b[43m,\u001b[49m\u001b[43m \u001b[49m\u001b[38;5;241;43m*\u001b[39;49m\u001b[43margs\u001b[49m\u001b[43m,\u001b[49m\u001b[43m \u001b[49m\u001b[38;5;241;43m*\u001b[39;49m\u001b[38;5;241;43m*\u001b[39;49m\u001b[43mkwargs\u001b[49m\u001b[43m)\u001b[49m\n",
      "File \u001b[1;32mc:\\Users\\fmojt\\Documents\\school\\IAU\\.virenv\\iau\\Lib\\site-packages\\sklearn\\ensemble\\_forest.py:456\u001b[0m, in \u001b[0;36mBaseForest.fit\u001b[1;34m(self, X, y, sample_weight)\u001b[0m\n\u001b[0;32m    445\u001b[0m trees \u001b[38;5;241m=\u001b[39m [\n\u001b[0;32m    446\u001b[0m     \u001b[38;5;28mself\u001b[39m\u001b[38;5;241m.\u001b[39m_make_estimator(append\u001b[38;5;241m=\u001b[39m\u001b[38;5;28;01mFalse\u001b[39;00m, random_state\u001b[38;5;241m=\u001b[39mrandom_state)\n\u001b[0;32m    447\u001b[0m     \u001b[38;5;28;01mfor\u001b[39;00m i \u001b[38;5;129;01min\u001b[39;00m \u001b[38;5;28mrange\u001b[39m(n_more_estimators)\n\u001b[0;32m    448\u001b[0m ]\n\u001b[0;32m    450\u001b[0m \u001b[38;5;66;03m# Parallel loop: we prefer the threading backend as the Cython code\u001b[39;00m\n\u001b[0;32m    451\u001b[0m \u001b[38;5;66;03m# for fitting the trees is internally releasing the Python GIL\u001b[39;00m\n\u001b[0;32m    452\u001b[0m \u001b[38;5;66;03m# making threading more efficient than multiprocessing in\u001b[39;00m\n\u001b[0;32m    453\u001b[0m \u001b[38;5;66;03m# that case. However, for joblib 0.12+ we respect any\u001b[39;00m\n\u001b[0;32m    454\u001b[0m \u001b[38;5;66;03m# parallel_backend contexts set at a higher level,\u001b[39;00m\n\u001b[0;32m    455\u001b[0m \u001b[38;5;66;03m# since correctness does not rely on using threads.\u001b[39;00m\n\u001b[1;32m--> 456\u001b[0m trees \u001b[38;5;241m=\u001b[39m \u001b[43mParallel\u001b[49m\u001b[43m(\u001b[49m\n\u001b[0;32m    457\u001b[0m \u001b[43m    \u001b[49m\u001b[43mn_jobs\u001b[49m\u001b[38;5;241;43m=\u001b[39;49m\u001b[38;5;28;43mself\u001b[39;49m\u001b[38;5;241;43m.\u001b[39;49m\u001b[43mn_jobs\u001b[49m\u001b[43m,\u001b[49m\n\u001b[0;32m    458\u001b[0m \u001b[43m    \u001b[49m\u001b[43mverbose\u001b[49m\u001b[38;5;241;43m=\u001b[39;49m\u001b[38;5;28;43mself\u001b[39;49m\u001b[38;5;241;43m.\u001b[39;49m\u001b[43mverbose\u001b[49m\u001b[43m,\u001b[49m\n\u001b[0;32m    459\u001b[0m \u001b[43m    \u001b[49m\u001b[43mprefer\u001b[49m\u001b[38;5;241;43m=\u001b[39;49m\u001b[38;5;124;43m\"\u001b[39;49m\u001b[38;5;124;43mthreads\u001b[39;49m\u001b[38;5;124;43m\"\u001b[39;49m\u001b[43m,\u001b[49m\n\u001b[0;32m    460\u001b[0m \u001b[43m\u001b[49m\u001b[43m)\u001b[49m\u001b[43m(\u001b[49m\n\u001b[0;32m    461\u001b[0m \u001b[43m    \u001b[49m\u001b[43mdelayed\u001b[49m\u001b[43m(\u001b[49m\u001b[43m_parallel_build_trees\u001b[49m\u001b[43m)\u001b[49m\u001b[43m(\u001b[49m\n\u001b[0;32m    462\u001b[0m \u001b[43m        \u001b[49m\u001b[43mt\u001b[49m\u001b[43m,\u001b[49m\n\u001b[0;32m    463\u001b[0m \u001b[43m        \u001b[49m\u001b[38;5;28;43mself\u001b[39;49m\u001b[38;5;241;43m.\u001b[39;49m\u001b[43mbootstrap\u001b[49m\u001b[43m,\u001b[49m\n\u001b[0;32m    464\u001b[0m \u001b[43m        \u001b[49m\u001b[43mX\u001b[49m\u001b[43m,\u001b[49m\n\u001b[0;32m    465\u001b[0m \u001b[43m        \u001b[49m\u001b[43my\u001b[49m\u001b[43m,\u001b[49m\n\u001b[0;32m    466\u001b[0m \u001b[43m        \u001b[49m\u001b[43msample_weight\u001b[49m\u001b[43m,\u001b[49m\n\u001b[0;32m    467\u001b[0m \u001b[43m        \u001b[49m\u001b[43mi\u001b[49m\u001b[43m,\u001b[49m\n\u001b[0;32m    468\u001b[0m \u001b[43m        \u001b[49m\u001b[38;5;28;43mlen\u001b[39;49m\u001b[43m(\u001b[49m\u001b[43mtrees\u001b[49m\u001b[43m)\u001b[49m\u001b[43m,\u001b[49m\n\u001b[0;32m    469\u001b[0m \u001b[43m        \u001b[49m\u001b[43mverbose\u001b[49m\u001b[38;5;241;43m=\u001b[39;49m\u001b[38;5;28;43mself\u001b[39;49m\u001b[38;5;241;43m.\u001b[39;49m\u001b[43mverbose\u001b[49m\u001b[43m,\u001b[49m\n\u001b[0;32m    470\u001b[0m \u001b[43m        \u001b[49m\u001b[43mclass_weight\u001b[49m\u001b[38;5;241;43m=\u001b[39;49m\u001b[38;5;28;43mself\u001b[39;49m\u001b[38;5;241;43m.\u001b[39;49m\u001b[43mclass_weight\u001b[49m\u001b[43m,\u001b[49m\n\u001b[0;32m    471\u001b[0m \u001b[43m        \u001b[49m\u001b[43mn_samples_bootstrap\u001b[49m\u001b[38;5;241;43m=\u001b[39;49m\u001b[43mn_samples_bootstrap\u001b[49m\u001b[43m,\u001b[49m\n\u001b[0;32m    472\u001b[0m \u001b[43m    \u001b[49m\u001b[43m)\u001b[49m\n\u001b[0;32m    473\u001b[0m \u001b[43m    \u001b[49m\u001b[38;5;28;43;01mfor\u001b[39;49;00m\u001b[43m \u001b[49m\u001b[43mi\u001b[49m\u001b[43m,\u001b[49m\u001b[43m \u001b[49m\u001b[43mt\u001b[49m\u001b[43m \u001b[49m\u001b[38;5;129;43;01min\u001b[39;49;00m\u001b[43m \u001b[49m\u001b[38;5;28;43menumerate\u001b[39;49m\u001b[43m(\u001b[49m\u001b[43mtrees\u001b[49m\u001b[43m)\u001b[49m\n\u001b[0;32m    474\u001b[0m \u001b[43m\u001b[49m\u001b[43m)\u001b[49m\n\u001b[0;32m    476\u001b[0m \u001b[38;5;66;03m# Collect newly grown trees\u001b[39;00m\n\u001b[0;32m    477\u001b[0m \u001b[38;5;28mself\u001b[39m\u001b[38;5;241m.\u001b[39mestimators_\u001b[38;5;241m.\u001b[39mextend(trees)\n",
      "File \u001b[1;32mc:\\Users\\fmojt\\Documents\\school\\IAU\\.virenv\\iau\\Lib\\site-packages\\sklearn\\utils\\parallel.py:65\u001b[0m, in \u001b[0;36mParallel.__call__\u001b[1;34m(self, iterable)\u001b[0m\n\u001b[0;32m     60\u001b[0m config \u001b[38;5;241m=\u001b[39m get_config()\n\u001b[0;32m     61\u001b[0m iterable_with_config \u001b[38;5;241m=\u001b[39m (\n\u001b[0;32m     62\u001b[0m     (_with_config(delayed_func, config), args, kwargs)\n\u001b[0;32m     63\u001b[0m     \u001b[38;5;28;01mfor\u001b[39;00m delayed_func, args, kwargs \u001b[38;5;129;01min\u001b[39;00m iterable\n\u001b[0;32m     64\u001b[0m )\n\u001b[1;32m---> 65\u001b[0m \u001b[38;5;28;01mreturn\u001b[39;00m \u001b[38;5;28;43msuper\u001b[39;49m\u001b[43m(\u001b[49m\u001b[43m)\u001b[49m\u001b[38;5;241;43m.\u001b[39;49m\u001b[38;5;21;43m__call__\u001b[39;49m\u001b[43m(\u001b[49m\u001b[43miterable_with_config\u001b[49m\u001b[43m)\u001b[49m\n",
      "File \u001b[1;32mc:\\Users\\fmojt\\Documents\\school\\IAU\\.virenv\\iau\\Lib\\site-packages\\joblib\\parallel.py:1863\u001b[0m, in \u001b[0;36mParallel.__call__\u001b[1;34m(self, iterable)\u001b[0m\n\u001b[0;32m   1861\u001b[0m     output \u001b[38;5;241m=\u001b[39m \u001b[38;5;28mself\u001b[39m\u001b[38;5;241m.\u001b[39m_get_sequential_output(iterable)\n\u001b[0;32m   1862\u001b[0m     \u001b[38;5;28mnext\u001b[39m(output)\n\u001b[1;32m-> 1863\u001b[0m     \u001b[38;5;28;01mreturn\u001b[39;00m output \u001b[38;5;28;01mif\u001b[39;00m \u001b[38;5;28mself\u001b[39m\u001b[38;5;241m.\u001b[39mreturn_generator \u001b[38;5;28;01melse\u001b[39;00m \u001b[38;5;28mlist\u001b[39m(output)\n\u001b[0;32m   1865\u001b[0m \u001b[38;5;66;03m# Let's create an ID that uniquely identifies the current call. If the\u001b[39;00m\n\u001b[0;32m   1866\u001b[0m \u001b[38;5;66;03m# call is interrupted early and that the same instance is immediately\u001b[39;00m\n\u001b[0;32m   1867\u001b[0m \u001b[38;5;66;03m# re-used, this id will be used to prevent workers that were\u001b[39;00m\n\u001b[0;32m   1868\u001b[0m \u001b[38;5;66;03m# concurrently finalizing a task from the previous call to run the\u001b[39;00m\n\u001b[0;32m   1869\u001b[0m \u001b[38;5;66;03m# callback.\u001b[39;00m\n\u001b[0;32m   1870\u001b[0m \u001b[38;5;28;01mwith\u001b[39;00m \u001b[38;5;28mself\u001b[39m\u001b[38;5;241m.\u001b[39m_lock:\n",
      "File \u001b[1;32mc:\\Users\\fmojt\\Documents\\school\\IAU\\.virenv\\iau\\Lib\\site-packages\\joblib\\parallel.py:1792\u001b[0m, in \u001b[0;36mParallel._get_sequential_output\u001b[1;34m(self, iterable)\u001b[0m\n\u001b[0;32m   1790\u001b[0m \u001b[38;5;28mself\u001b[39m\u001b[38;5;241m.\u001b[39mn_dispatched_batches \u001b[38;5;241m+\u001b[39m\u001b[38;5;241m=\u001b[39m \u001b[38;5;241m1\u001b[39m\n\u001b[0;32m   1791\u001b[0m \u001b[38;5;28mself\u001b[39m\u001b[38;5;241m.\u001b[39mn_dispatched_tasks \u001b[38;5;241m+\u001b[39m\u001b[38;5;241m=\u001b[39m \u001b[38;5;241m1\u001b[39m\n\u001b[1;32m-> 1792\u001b[0m res \u001b[38;5;241m=\u001b[39m \u001b[43mfunc\u001b[49m\u001b[43m(\u001b[49m\u001b[38;5;241;43m*\u001b[39;49m\u001b[43margs\u001b[49m\u001b[43m,\u001b[49m\u001b[43m \u001b[49m\u001b[38;5;241;43m*\u001b[39;49m\u001b[38;5;241;43m*\u001b[39;49m\u001b[43mkwargs\u001b[49m\u001b[43m)\u001b[49m\n\u001b[0;32m   1793\u001b[0m \u001b[38;5;28mself\u001b[39m\u001b[38;5;241m.\u001b[39mn_completed_tasks \u001b[38;5;241m+\u001b[39m\u001b[38;5;241m=\u001b[39m \u001b[38;5;241m1\u001b[39m\n\u001b[0;32m   1794\u001b[0m \u001b[38;5;28mself\u001b[39m\u001b[38;5;241m.\u001b[39mprint_progress()\n",
      "File \u001b[1;32mc:\\Users\\fmojt\\Documents\\school\\IAU\\.virenv\\iau\\Lib\\site-packages\\sklearn\\utils\\parallel.py:127\u001b[0m, in \u001b[0;36m_FuncWrapper.__call__\u001b[1;34m(self, *args, **kwargs)\u001b[0m\n\u001b[0;32m    125\u001b[0m     config \u001b[38;5;241m=\u001b[39m {}\n\u001b[0;32m    126\u001b[0m \u001b[38;5;28;01mwith\u001b[39;00m config_context(\u001b[38;5;241m*\u001b[39m\u001b[38;5;241m*\u001b[39mconfig):\n\u001b[1;32m--> 127\u001b[0m     \u001b[38;5;28;01mreturn\u001b[39;00m \u001b[38;5;28;43mself\u001b[39;49m\u001b[38;5;241;43m.\u001b[39;49m\u001b[43mfunction\u001b[49m\u001b[43m(\u001b[49m\u001b[38;5;241;43m*\u001b[39;49m\u001b[43margs\u001b[49m\u001b[43m,\u001b[49m\u001b[43m \u001b[49m\u001b[38;5;241;43m*\u001b[39;49m\u001b[38;5;241;43m*\u001b[39;49m\u001b[43mkwargs\u001b[49m\u001b[43m)\u001b[49m\n",
      "File \u001b[1;32mc:\\Users\\fmojt\\Documents\\school\\IAU\\.virenv\\iau\\Lib\\site-packages\\sklearn\\ensemble\\_forest.py:188\u001b[0m, in \u001b[0;36m_parallel_build_trees\u001b[1;34m(tree, bootstrap, X, y, sample_weight, tree_idx, n_trees, verbose, class_weight, n_samples_bootstrap)\u001b[0m\n\u001b[0;32m    185\u001b[0m     \u001b[38;5;28;01melif\u001b[39;00m class_weight \u001b[38;5;241m==\u001b[39m \u001b[38;5;124m\"\u001b[39m\u001b[38;5;124mbalanced_subsample\u001b[39m\u001b[38;5;124m\"\u001b[39m:\n\u001b[0;32m    186\u001b[0m         curr_sample_weight \u001b[38;5;241m*\u001b[39m\u001b[38;5;241m=\u001b[39m compute_sample_weight(\u001b[38;5;124m\"\u001b[39m\u001b[38;5;124mbalanced\u001b[39m\u001b[38;5;124m\"\u001b[39m, y, indices\u001b[38;5;241m=\u001b[39mindices)\n\u001b[1;32m--> 188\u001b[0m     \u001b[43mtree\u001b[49m\u001b[38;5;241;43m.\u001b[39;49m\u001b[43mfit\u001b[49m\u001b[43m(\u001b[49m\u001b[43mX\u001b[49m\u001b[43m,\u001b[49m\u001b[43m \u001b[49m\u001b[43my\u001b[49m\u001b[43m,\u001b[49m\u001b[43m \u001b[49m\u001b[43msample_weight\u001b[49m\u001b[38;5;241;43m=\u001b[39;49m\u001b[43mcurr_sample_weight\u001b[49m\u001b[43m,\u001b[49m\u001b[43m \u001b[49m\u001b[43mcheck_input\u001b[49m\u001b[38;5;241;43m=\u001b[39;49m\u001b[38;5;28;43;01mFalse\u001b[39;49;00m\u001b[43m)\u001b[49m\n\u001b[0;32m    189\u001b[0m \u001b[38;5;28;01melse\u001b[39;00m:\n\u001b[0;32m    190\u001b[0m     tree\u001b[38;5;241m.\u001b[39mfit(X, y, sample_weight\u001b[38;5;241m=\u001b[39msample_weight, check_input\u001b[38;5;241m=\u001b[39m\u001b[38;5;28;01mFalse\u001b[39;00m)\n",
      "File \u001b[1;32mc:\\Users\\fmojt\\Documents\\school\\IAU\\.virenv\\iau\\Lib\\site-packages\\sklearn\\base.py:1152\u001b[0m, in \u001b[0;36m_fit_context.<locals>.decorator.<locals>.wrapper\u001b[1;34m(estimator, *args, **kwargs)\u001b[0m\n\u001b[0;32m   1145\u001b[0m     estimator\u001b[38;5;241m.\u001b[39m_validate_params()\n\u001b[0;32m   1147\u001b[0m \u001b[38;5;28;01mwith\u001b[39;00m config_context(\n\u001b[0;32m   1148\u001b[0m     skip_parameter_validation\u001b[38;5;241m=\u001b[39m(\n\u001b[0;32m   1149\u001b[0m         prefer_skip_nested_validation \u001b[38;5;129;01mor\u001b[39;00m global_skip_validation\n\u001b[0;32m   1150\u001b[0m     )\n\u001b[0;32m   1151\u001b[0m ):\n\u001b[1;32m-> 1152\u001b[0m     \u001b[38;5;28;01mreturn\u001b[39;00m \u001b[43mfit_method\u001b[49m\u001b[43m(\u001b[49m\u001b[43mestimator\u001b[49m\u001b[43m,\u001b[49m\u001b[43m \u001b[49m\u001b[38;5;241;43m*\u001b[39;49m\u001b[43margs\u001b[49m\u001b[43m,\u001b[49m\u001b[43m \u001b[49m\u001b[38;5;241;43m*\u001b[39;49m\u001b[38;5;241;43m*\u001b[39;49m\u001b[43mkwargs\u001b[49m\u001b[43m)\u001b[49m\n",
      "File \u001b[1;32mc:\\Users\\fmojt\\Documents\\school\\IAU\\.virenv\\iau\\Lib\\site-packages\\sklearn\\tree\\_classes.py:959\u001b[0m, in \u001b[0;36mDecisionTreeClassifier.fit\u001b[1;34m(self, X, y, sample_weight, check_input)\u001b[0m\n\u001b[0;32m    928\u001b[0m \u001b[38;5;129m@_fit_context\u001b[39m(prefer_skip_nested_validation\u001b[38;5;241m=\u001b[39m\u001b[38;5;28;01mTrue\u001b[39;00m)\n\u001b[0;32m    929\u001b[0m \u001b[38;5;28;01mdef\u001b[39;00m \u001b[38;5;21mfit\u001b[39m(\u001b[38;5;28mself\u001b[39m, X, y, sample_weight\u001b[38;5;241m=\u001b[39m\u001b[38;5;28;01mNone\u001b[39;00m, check_input\u001b[38;5;241m=\u001b[39m\u001b[38;5;28;01mTrue\u001b[39;00m):\n\u001b[0;32m    930\u001b[0m \u001b[38;5;250m    \u001b[39m\u001b[38;5;124;03m\"\"\"Build a decision tree classifier from the training set (X, y).\u001b[39;00m\n\u001b[0;32m    931\u001b[0m \n\u001b[0;32m    932\u001b[0m \u001b[38;5;124;03m    Parameters\u001b[39;00m\n\u001b[1;32m   (...)\u001b[0m\n\u001b[0;32m    956\u001b[0m \u001b[38;5;124;03m        Fitted estimator.\u001b[39;00m\n\u001b[0;32m    957\u001b[0m \u001b[38;5;124;03m    \"\"\"\u001b[39;00m\n\u001b[1;32m--> 959\u001b[0m     \u001b[38;5;28;43msuper\u001b[39;49m\u001b[43m(\u001b[49m\u001b[43m)\u001b[49m\u001b[38;5;241;43m.\u001b[39;49m\u001b[43m_fit\u001b[49m\u001b[43m(\u001b[49m\n\u001b[0;32m    960\u001b[0m \u001b[43m        \u001b[49m\u001b[43mX\u001b[49m\u001b[43m,\u001b[49m\n\u001b[0;32m    961\u001b[0m \u001b[43m        \u001b[49m\u001b[43my\u001b[49m\u001b[43m,\u001b[49m\n\u001b[0;32m    962\u001b[0m \u001b[43m        \u001b[49m\u001b[43msample_weight\u001b[49m\u001b[38;5;241;43m=\u001b[39;49m\u001b[43msample_weight\u001b[49m\u001b[43m,\u001b[49m\n\u001b[0;32m    963\u001b[0m \u001b[43m        \u001b[49m\u001b[43mcheck_input\u001b[49m\u001b[38;5;241;43m=\u001b[39;49m\u001b[43mcheck_input\u001b[49m\u001b[43m,\u001b[49m\n\u001b[0;32m    964\u001b[0m \u001b[43m    \u001b[49m\u001b[43m)\u001b[49m\n\u001b[0;32m    965\u001b[0m     \u001b[38;5;28;01mreturn\u001b[39;00m \u001b[38;5;28mself\u001b[39m\n",
      "File \u001b[1;32mc:\\Users\\fmojt\\Documents\\school\\IAU\\.virenv\\iau\\Lib\\site-packages\\sklearn\\tree\\_classes.py:284\u001b[0m, in \u001b[0;36mBaseDecisionTree._fit\u001b[1;34m(self, X, y, sample_weight, check_input, missing_values_in_feature_mask)\u001b[0m\n\u001b[0;32m    281\u001b[0m \u001b[38;5;28mself\u001b[39m\u001b[38;5;241m.\u001b[39mn_outputs_ \u001b[38;5;241m=\u001b[39m y\u001b[38;5;241m.\u001b[39mshape[\u001b[38;5;241m1\u001b[39m]\n\u001b[0;32m    283\u001b[0m \u001b[38;5;28;01mif\u001b[39;00m is_classification:\n\u001b[1;32m--> 284\u001b[0m     \u001b[43mcheck_classification_targets\u001b[49m\u001b[43m(\u001b[49m\u001b[43my\u001b[49m\u001b[43m)\u001b[49m\n\u001b[0;32m    285\u001b[0m     y \u001b[38;5;241m=\u001b[39m np\u001b[38;5;241m.\u001b[39mcopy(y)\n\u001b[0;32m    287\u001b[0m     \u001b[38;5;28mself\u001b[39m\u001b[38;5;241m.\u001b[39mclasses_ \u001b[38;5;241m=\u001b[39m []\n",
      "File \u001b[1;32mc:\\Users\\fmojt\\Documents\\school\\IAU\\.virenv\\iau\\Lib\\site-packages\\sklearn\\utils\\multiclass.py:208\u001b[0m, in \u001b[0;36mcheck_classification_targets\u001b[1;34m(y)\u001b[0m\n\u001b[0;32m    196\u001b[0m \u001b[38;5;28;01mdef\u001b[39;00m \u001b[38;5;21mcheck_classification_targets\u001b[39m(y):\n\u001b[0;32m    197\u001b[0m \u001b[38;5;250m    \u001b[39m\u001b[38;5;124;03m\"\"\"Ensure that target y is of a non-regression type.\u001b[39;00m\n\u001b[0;32m    198\u001b[0m \n\u001b[0;32m    199\u001b[0m \u001b[38;5;124;03m    Only the following target types (as defined in type_of_target) are allowed:\u001b[39;00m\n\u001b[1;32m   (...)\u001b[0m\n\u001b[0;32m    206\u001b[0m \u001b[38;5;124;03m        Target values.\u001b[39;00m\n\u001b[0;32m    207\u001b[0m \u001b[38;5;124;03m    \"\"\"\u001b[39;00m\n\u001b[1;32m--> 208\u001b[0m     y_type \u001b[38;5;241m=\u001b[39m \u001b[43mtype_of_target\u001b[49m\u001b[43m(\u001b[49m\u001b[43my\u001b[49m\u001b[43m,\u001b[49m\u001b[43m \u001b[49m\u001b[43minput_name\u001b[49m\u001b[38;5;241;43m=\u001b[39;49m\u001b[38;5;124;43m\"\u001b[39;49m\u001b[38;5;124;43my\u001b[39;49m\u001b[38;5;124;43m\"\u001b[39;49m\u001b[43m)\u001b[49m\n\u001b[0;32m    209\u001b[0m     \u001b[38;5;28;01mif\u001b[39;00m y_type \u001b[38;5;129;01mnot\u001b[39;00m \u001b[38;5;129;01min\u001b[39;00m [\n\u001b[0;32m    210\u001b[0m         \u001b[38;5;124m\"\u001b[39m\u001b[38;5;124mbinary\u001b[39m\u001b[38;5;124m\"\u001b[39m,\n\u001b[0;32m    211\u001b[0m         \u001b[38;5;124m\"\u001b[39m\u001b[38;5;124mmulticlass\u001b[39m\u001b[38;5;124m\"\u001b[39m,\n\u001b[1;32m   (...)\u001b[0m\n\u001b[0;32m    214\u001b[0m         \u001b[38;5;124m\"\u001b[39m\u001b[38;5;124mmultilabel-sequences\u001b[39m\u001b[38;5;124m\"\u001b[39m,\n\u001b[0;32m    215\u001b[0m     ]:\n\u001b[0;32m    216\u001b[0m         \u001b[38;5;28;01mraise\u001b[39;00m \u001b[38;5;167;01mValueError\u001b[39;00m(\n\u001b[0;32m    217\u001b[0m             \u001b[38;5;124mf\u001b[39m\u001b[38;5;124m\"\u001b[39m\u001b[38;5;124mUnknown label type: \u001b[39m\u001b[38;5;132;01m{\u001b[39;00my_type\u001b[38;5;132;01m}\u001b[39;00m\u001b[38;5;124m. Maybe you are trying to fit a \u001b[39m\u001b[38;5;124m\"\u001b[39m\n\u001b[0;32m    218\u001b[0m             \u001b[38;5;124m\"\u001b[39m\u001b[38;5;124mclassifier, which expects discrete classes on a \u001b[39m\u001b[38;5;124m\"\u001b[39m\n\u001b[0;32m    219\u001b[0m             \u001b[38;5;124m\"\u001b[39m\u001b[38;5;124mregression target with continuous values.\u001b[39m\u001b[38;5;124m\"\u001b[39m\n\u001b[0;32m    220\u001b[0m         )\n",
      "File \u001b[1;32mc:\\Users\\fmojt\\Documents\\school\\IAU\\.virenv\\iau\\Lib\\site-packages\\sklearn\\utils\\multiclass.py:388\u001b[0m, in \u001b[0;36mtype_of_target\u001b[1;34m(y, input_name)\u001b[0m\n\u001b[0;32m    386\u001b[0m \u001b[38;5;66;03m# Check multiclass\u001b[39;00m\n\u001b[0;32m    387\u001b[0m first_row \u001b[38;5;241m=\u001b[39m y[\u001b[38;5;241m0\u001b[39m] \u001b[38;5;28;01mif\u001b[39;00m \u001b[38;5;129;01mnot\u001b[39;00m issparse(y) \u001b[38;5;28;01melse\u001b[39;00m y\u001b[38;5;241m.\u001b[39mgetrow(\u001b[38;5;241m0\u001b[39m)\u001b[38;5;241m.\u001b[39mdata\n\u001b[1;32m--> 388\u001b[0m \u001b[38;5;28;01mif\u001b[39;00m \u001b[43mxp\u001b[49m\u001b[38;5;241;43m.\u001b[39;49m\u001b[43munique_values\u001b[49m\u001b[43m(\u001b[49m\u001b[43my\u001b[49m\u001b[43m)\u001b[49m\u001b[38;5;241m.\u001b[39mshape[\u001b[38;5;241m0\u001b[39m] \u001b[38;5;241m>\u001b[39m \u001b[38;5;241m2\u001b[39m \u001b[38;5;129;01mor\u001b[39;00m (y\u001b[38;5;241m.\u001b[39mndim \u001b[38;5;241m==\u001b[39m \u001b[38;5;241m2\u001b[39m \u001b[38;5;129;01mand\u001b[39;00m \u001b[38;5;28mlen\u001b[39m(first_row) \u001b[38;5;241m>\u001b[39m \u001b[38;5;241m1\u001b[39m):\n\u001b[0;32m    389\u001b[0m     \u001b[38;5;66;03m# [1, 2, 3] or [[1., 2., 3]] or [[1, 2]]\u001b[39;00m\n\u001b[0;32m    390\u001b[0m     \u001b[38;5;28;01mreturn\u001b[39;00m \u001b[38;5;124m\"\u001b[39m\u001b[38;5;124mmulticlass\u001b[39m\u001b[38;5;124m\"\u001b[39m \u001b[38;5;241m+\u001b[39m suffix\n\u001b[0;32m    391\u001b[0m \u001b[38;5;28;01melse\u001b[39;00m:\n",
      "File \u001b[1;32mc:\\Users\\fmojt\\Documents\\school\\IAU\\.virenv\\iau\\Lib\\site-packages\\sklearn\\utils\\_array_api.py:262\u001b[0m, in \u001b[0;36m_NumPyAPIWrapper.unique_values\u001b[1;34m(self, x)\u001b[0m\n\u001b[0;32m    261\u001b[0m \u001b[38;5;28;01mdef\u001b[39;00m \u001b[38;5;21munique_values\u001b[39m(\u001b[38;5;28mself\u001b[39m, x):\n\u001b[1;32m--> 262\u001b[0m     \u001b[38;5;28;01mreturn\u001b[39;00m \u001b[43mnumpy\u001b[49m\u001b[38;5;241;43m.\u001b[39;49m\u001b[43munique\u001b[49m\u001b[43m(\u001b[49m\u001b[43mx\u001b[49m\u001b[43m)\u001b[49m\n",
      "File \u001b[1;32mc:\\Users\\fmojt\\Documents\\school\\IAU\\.virenv\\iau\\Lib\\site-packages\\numpy\\lib\\arraysetops.py:274\u001b[0m, in \u001b[0;36munique\u001b[1;34m(ar, return_index, return_inverse, return_counts, axis, equal_nan)\u001b[0m\n\u001b[0;32m    272\u001b[0m ar \u001b[38;5;241m=\u001b[39m np\u001b[38;5;241m.\u001b[39masanyarray(ar)\n\u001b[0;32m    273\u001b[0m \u001b[38;5;28;01mif\u001b[39;00m axis \u001b[38;5;129;01mis\u001b[39;00m \u001b[38;5;28;01mNone\u001b[39;00m:\n\u001b[1;32m--> 274\u001b[0m     ret \u001b[38;5;241m=\u001b[39m \u001b[43m_unique1d\u001b[49m\u001b[43m(\u001b[49m\u001b[43mar\u001b[49m\u001b[43m,\u001b[49m\u001b[43m \u001b[49m\u001b[43mreturn_index\u001b[49m\u001b[43m,\u001b[49m\u001b[43m \u001b[49m\u001b[43mreturn_inverse\u001b[49m\u001b[43m,\u001b[49m\u001b[43m \u001b[49m\u001b[43mreturn_counts\u001b[49m\u001b[43m,\u001b[49m\u001b[43m \u001b[49m\n\u001b[0;32m    275\u001b[0m \u001b[43m                    \u001b[49m\u001b[43mequal_nan\u001b[49m\u001b[38;5;241;43m=\u001b[39;49m\u001b[43mequal_nan\u001b[49m\u001b[43m)\u001b[49m\n\u001b[0;32m    276\u001b[0m     \u001b[38;5;28;01mreturn\u001b[39;00m _unpack_tuple(ret)\n\u001b[0;32m    278\u001b[0m \u001b[38;5;66;03m# axis was specified and not None\u001b[39;00m\n",
      "File \u001b[1;32mc:\\Users\\fmojt\\Documents\\school\\IAU\\.virenv\\iau\\Lib\\site-packages\\numpy\\lib\\arraysetops.py:328\u001b[0m, in \u001b[0;36m_unique1d\u001b[1;34m(ar, return_index, return_inverse, return_counts, equal_nan)\u001b[0m\n\u001b[0;32m    323\u001b[0m \u001b[38;5;28;01mdef\u001b[39;00m \u001b[38;5;21m_unique1d\u001b[39m(ar, return_index\u001b[38;5;241m=\u001b[39m\u001b[38;5;28;01mFalse\u001b[39;00m, return_inverse\u001b[38;5;241m=\u001b[39m\u001b[38;5;28;01mFalse\u001b[39;00m,\n\u001b[0;32m    324\u001b[0m               return_counts\u001b[38;5;241m=\u001b[39m\u001b[38;5;28;01mFalse\u001b[39;00m, \u001b[38;5;241m*\u001b[39m, equal_nan\u001b[38;5;241m=\u001b[39m\u001b[38;5;28;01mTrue\u001b[39;00m):\n\u001b[0;32m    325\u001b[0m \u001b[38;5;250m    \u001b[39m\u001b[38;5;124;03m\"\"\"\u001b[39;00m\n\u001b[0;32m    326\u001b[0m \u001b[38;5;124;03m    Find the unique elements of an array, ignoring shape.\u001b[39;00m\n\u001b[0;32m    327\u001b[0m \u001b[38;5;124;03m    \"\"\"\u001b[39;00m\n\u001b[1;32m--> 328\u001b[0m     ar \u001b[38;5;241m=\u001b[39m np\u001b[38;5;241m.\u001b[39masanyarray(ar)\u001b[38;5;241m.\u001b[39mflatten()\n\u001b[0;32m    330\u001b[0m     optional_indices \u001b[38;5;241m=\u001b[39m return_index \u001b[38;5;129;01mor\u001b[39;00m return_inverse\n\u001b[0;32m    332\u001b[0m     \u001b[38;5;28;01mif\u001b[39;00m optional_indices:\n",
      "\u001b[1;31mKeyboardInterrupt\u001b[0m: "
     ]
    }
   ],
   "source": [
    "param_grid = {\n",
    "    'n_estimators': [1, 3, 5],\n",
    "    'max_depth': [2, 5, 7],\n",
    "    'min_samples_split': [2, 5, 10],\n",
    "    'min_samples_leaf': [1, 2, 4],\n",
    "    'max_features': [10, 'sqrt', 'log2']\n",
    "}\n",
    "\n",
    "perform_tests(df=sess_df, feature_cols=features, target_col=target_col, param_grid=param_grid, num_samples=3, samples=1000, metric='accuracy')"
   ]
  },
  {
   "cell_type": "markdown",
   "metadata": {},
   "source": [
    "- Tento test sa na našom zariadení vykonával niečo nad __30 sekúnd__. Vykonali sme celkovo 3 vzorky a vidno, že presnosť trénovacieho datasetu je pri všetkych hodnotách zhruba rovnaká. Pri testovaní modelu na testovacom datasete, boli hodnoty tiež zhruba rovnaké. Možno teda prehlásiť, že model je __robustný__ a nie je náchylný na __overfitting__. Teraz môžme zvýšiť naše požiadavky na výkon a na presnosť. Nasledovný test by mal trvať dlhšie, zato výsledky by mali byť ešte lepšie."
   ]
  },
  {
   "cell_type": "code",
   "execution_count": null,
   "metadata": {},
   "outputs": [
    {
     "name": "stdout",
     "output_type": "stream",
     "text": [
      "\n",
      "Sample 1 - Best Hyperparameters: {'max_depth': 10, 'max_features': 'sqrt', 'min_samples_leaf': 4, 'min_samples_split': 2, 'n_estimators': 10}\n",
      "Sample 1 - Training Accuracy: 0.801\n",
      "Sample 1 - Test Accuracy: 0.77\n",
      "\n",
      "Sample 2 - Best Hyperparameters: {'max_depth': 10, 'max_features': 'sqrt', 'min_samples_leaf': 2, 'min_samples_split': 10, 'n_estimators': 7}\n",
      "Sample 2 - Training Accuracy: 0.817\n",
      "Sample 2 - Test Accuracy: 0.774\n",
      "\n",
      "Sample 3 - Best Hyperparameters: {'max_depth': 10, 'max_features': 'sqrt', 'min_samples_leaf': 4, 'min_samples_split': 10, 'n_estimators': 10}\n",
      "Sample 3 - Training Accuracy: 0.824\n",
      "Sample 3 - Test Accuracy: 0.792\n"
     ]
    }
   ],
   "source": [
    "param_grid = {\n",
    "    'n_estimators': [5, 7, 10],\n",
    "    'max_depth': [None, 10, 15],\n",
    "    'min_samples_split': [2, 5, 10],\n",
    "    'min_samples_leaf': [1, 2, 4],\n",
    "    'max_features': [10, 'sqrt', 'log2']\n",
    "}\n",
    "\n",
    "perform_tests(df=sess_df, feature_cols=features, target_col=target_col, param_grid=param_grid, num_samples=3, samples=1000, metric='accuracy')"
   ]
  },
  {
   "cell_type": "markdown",
   "metadata": {},
   "source": [
    "- Test dopadol, ako sme očakávali. __Čas vykonávania__ bol takmer __60 sekúnd__, zato vidíme, že presnosť nášho modelu bola na trénovacích vzorkách až o __10 percent__ vyššia, ako tomu bolo pri predchádzajúcom teste. Avšak keď sme model testovali na testovacích dátach, výsledky boli ešte nižšie, ako tomu boli pri predhádzajúcom teste. Takže __overfitting__ tohto modelu je vyšší ako prvom modeli."
   ]
  },
  {
   "cell_type": "markdown",
   "metadata": {},
   "source": [
    "## Vyhodnotenie vplyvu zvolenej stratégie riešenia na klasifikáciu\n",
    "\n",
    "### Stratégie riešenia chýbajúcich hodnôt a outlierov\n",
    "\n",
    "- Chýbajúce hodnoty bolo nutné nejakým spôsobom odstrániť, či nahradiť, inak by sme nemohli jednotlivé numerické stĺpce rozdeliť do kategórií. V našej pôvodnej analýze bol počet nešpecifikovaných hodnôt príliš veľký, aby sme si ich mohli dovoliť odstrániť, preto sme ich nahradzovali __najčastejšou hodnotou__. Teraz uskutočníme test, kde všetky takéto hodnoty odstránime a porovnáme výsledky.\n",
    "- Pre porovnávanie rozdielu medzi výsledkami (rules alebo accurracies) pri rôznych metrikách budeme používať funkciu *compare(rules_1, rules_2)*, ktorá dostane na vstupe dve pravidlá alebo accuracies a vráti rozdiel medzi *rules_2* a *rules_1*. Teda pri bežných pravidlách bude tento rozdiel buď 0 (žiadny rozdiel, rovnaké rozhodnutie pre kúpu alebo nekúpu) alebo 1 a pri accurracies bude buď záporný, ak presnosť klesne, nulový, ak sa nezmení alebo kladný, ak presnosť narastie."
   ]
  },
  {
   "cell_type": "code",
   "execution_count": null,
   "metadata": {},
   "outputs": [],
   "source": [
    "def compare(rules: Dict[str, int], rules_2: Dict[str, int]):\n",
    "    if len(rules) != len(rules_2):\n",
    "        raise ValueError(\"Rule sets must contain same amount of rules for successful comparison!\")\n",
    "    \n",
    "    differences = {}\n",
    "\n",
    "    for rule in rules:\n",
    "        differences[rule] = rules_2[rule] - rules[rule]\n",
    "    \n",
    "    return differences\n",
    "\n",
    "def process_and_compare(df1: pd.DataFrame, predictors: List[str], bins: int = None, rules_a = None, rules_p = None, rules_r = None, accuracies = None, precisions = None, recalls = None):\n",
    "\n",
    "    for predictor in predictors:\n",
    "        if predictor == 'browser_name':\n",
    "            continue\n",
    "        elif predictor == 'session_start':\n",
    "            timestamp_to_category(df1, col=predictor)\n",
    "        else:\n",
    "            num_to_category(df1, col=predictor, num_bins=bins)\n",
    "\n",
    "    freq_tables = frequency_tables(df=df1, target_column='ack', predictors=predictors)\n",
    "\n",
    "    rules_a_2, accuracies_2, metric = one_rule_alg(freq_tables=freq_tables, metric='accuracy')\n",
    "    rules_p_2, precisions_2, metric_2 = one_rule_alg(freq_tables=freq_tables, metric='precision')\n",
    "    rules_r_2, recalls_2, metric_3 = one_rule_alg(freq_tables=freq_tables, metric='recall')\n",
    "\n",
    "    if rules_a:\n",
    "        print(f\"{metric}, {compare(rules=rules_a, rules_2=rules_a_2)}\")\n",
    "\n",
    "    if rules_p:\n",
    "        print(f\"{metric_2}, {compare(rules=rules_p, rules_2=rules_p_2)}\")\n",
    "    \n",
    "    if rules_r:\n",
    "        print(f\"{metric_3}, {compare(rules=rules_r, rules_2=rules_r_2)}\")\n",
    "        \n",
    "    print(\"\")\n",
    "\n",
    "    if accuracies:\n",
    "        print(f\"{metric}, {compare(rules=accuracies, rules_2=accuracies_2)}\")\n",
    "    if precisions:\n",
    "        print(f\"{metric_2}, {compare(rules=precisions, rules_2=precisions_2)}\")\n",
    "    if recalls:\n",
    "        print(f\"{metric_3}, {compare(rules=recalls, rules_2=recalls_2)}\")"
   ]
  },
  {
   "cell_type": "markdown",
   "metadata": {},
   "source": [
    "- Budeme teda porovnávať pravidlá a hodnoty accuraccies namerané v časti __Rozhodnutie na základe viac atribútov__ najskôr s variantom, v ktorom odstránime všetky riadky s __chýbajúcimi hodnotami__ a potom s variantom, kde neodstránime __vychýlené hodnoty__."
   ]
  },
  {
   "cell_type": "code",
   "execution_count": null,
   "metadata": {},
   "outputs": [
    {
     "name": "stdout",
     "output_type": "stream",
     "text": [
      "{'used_metric': 'accuracy'}, {'browser_name': 0.0, 'pct_input': 0.0, 'wild_mouse_duration': 0.0, 'pct_scroll_move_duration': 0.0, 'pct_wild_mouse': 0.0, 'session_start': 0.0, 'pct_doubleclick': 0.0, 'pct_rage_click': 0.0, 'pct_click': 0.0, 'page_activity_duration': 0.0, 'pct_scrandom': 0.0, 'mouse_move_total_rel_distance': 0.0, 'pct_click_product_info': 0.0, 'scroll_move_total_rel_distance': 0.0, 'pct_mouse_click': 0.0, 'session_duration': 0.0, 'total_load_time': 0.0}\n",
      "{'used_metric': 'precision'}, {'browser_name': 0.0, 'pct_input': 0.0, 'wild_mouse_duration': 0.0, 'pct_scroll_move_duration': 0.0, 'pct_wild_mouse': 0.0, 'session_start': 0.0, 'pct_doubleclick': 0.0, 'pct_rage_click': 0.0, 'pct_click': 0.0, 'page_activity_duration': 0.0, 'pct_scrandom': 0.0, 'mouse_move_total_rel_distance': 0.0, 'pct_click_product_info': 0.0, 'scroll_move_total_rel_distance': 0.0, 'pct_mouse_click': 0.0, 'session_duration': 0.0, 'total_load_time': 0.0}\n",
      "{'used_metric': 'recall'}, {'browser_name': 0.0, 'pct_input': 0.0, 'wild_mouse_duration': 0.0, 'pct_scroll_move_duration': 0.0, 'pct_wild_mouse': 0.0, 'session_start': 0.0, 'pct_doubleclick': 0.0, 'pct_rage_click': 0.0, 'pct_click': 0.0, 'page_activity_duration': 0.0, 'pct_scrandom': 0.0, 'mouse_move_total_rel_distance': 0.0, 'pct_click_product_info': 0.0, 'scroll_move_total_rel_distance': 0.0, 'pct_mouse_click': 0.0, 'session_duration': 0.0, 'total_load_time': 0.0}\n",
      "\n",
      "{'used_metric': 'accuracy'}, {'browser_name': -0.0015089163237310688, 'pct_input': 0.0030864197530864335, 'wild_mouse_duration': 0.0037951531778691594, 'pct_scroll_move_duration': -0.0018061271147691293, 'pct_wild_mouse': -0.0031550068587105073, 'session_start': -0.0015089163237310688, 'pct_doubleclick': -0.0010973936899862924, 'pct_rage_click': -0.0024919981710105343, 'pct_click': -0.0018289894833104503, 'page_activity_duration': -0.0012574302697759832, 'pct_scrandom': -0.00743026977594885, 'mouse_move_total_rel_distance': 0.0014631915866483158, 'pct_click_product_info': -0.0030635573845450015, 'scroll_move_total_rel_distance': 0.001394604481024242, 'pct_mouse_click': -0.0015089163237310688, 'session_duration': -0.0012117055326932302, 'total_load_time': -0.0005944215820758991}\n",
      "{'used_metric': 'precision'}, {'browser_name': 0, 'pct_input': 0.0029071204018242813, 'wild_mouse_duration': 0.012886597938144284, 'pct_scroll_move_duration': -0.027395514780835906, 'pct_wild_mouse': -0.003940851846610971, 'session_start': 0, 'pct_doubleclick': 0.004148167240574541, 'pct_rage_click': -0.028763731528058556, 'pct_click': -0.0011909136264708353, 'page_activity_duration': -0.08039215686274503, 'pct_scrandom': -0.007621602328465205, 'mouse_move_total_rel_distance': 0.0032110557389679606, 'pct_click_product_info': -0.005808810686859456, 'scroll_move_total_rel_distance': 0.023999687123195224, 'pct_mouse_click': 0, 'session_duration': -0.011634941403227406, 'total_load_time': 1.5161290322580645}\n",
      "{'used_metric': 'recall'}, {'browser_name': 0.0, 'pct_input': 0.0008052820122340654, 'wild_mouse_duration': -0.06553507458491548, 'pct_scroll_move_duration': 0.01493813974642662, 'pct_wild_mouse': -0.01786031489705288, 'session_start': 0.0, 'pct_doubleclick': -0.004505143522942734, 'pct_rage_click': 0.013348323564131785, 'pct_click': -0.00115329384770263, 'page_activity_duration': 0.009938931843849492, 'pct_scrandom': -0.06724140574296184, 'mouse_move_total_rel_distance': -0.006978940429163472, 'pct_click_product_info': 0.005593127660553032, 'scroll_move_total_rel_distance': -0.16635640295784515, 'pct_mouse_click': 0.0, 'session_duration': 0.03835417486444914, 'total_load_time': 0.03229713362939039}\n"
     ]
    }
   ],
   "source": [
    "sess_train_df_copy = sess_df.copy()\n",
    "\n",
    "\n",
    "# Here we are dropping al NaN values\n",
    "for col in sess_train_df_copy.columns:\n",
    "    sess_train_df_copy.dropna(subset=[col], inplace=True)\n",
    "\n",
    "process_outliers(sess_train_df_copy)\n",
    "\n",
    "process_and_compare(df1=sess_train_df_copy, rules_a=rules_a, rules_p=rules_p, rules_r=rules_r,\n",
    "                    accuracies=accuracies, precisions=precisions, recalls=recalls, predictors=predictors)\n",
    "\n"
   ]
  },
  {
   "cell_type": "markdown",
   "metadata": {},
   "source": [
    "- Z výsledkov vidno, že vylúčenie všetkých NaN hodnôt nespôsobilo nejaký rozdiel v rozhodovaniach. Avšak v presnostiach isté rozdiely možno vidieť, i keď veľmi malé. Teraz môžme porovnať dané hodnoty s tými, pri ktorých by sme sa rozhodli neodstrániť outliery."
   ]
  },
  {
   "cell_type": "code",
   "execution_count": null,
   "metadata": {},
   "outputs": [
    {
     "name": "stdout",
     "output_type": "stream",
     "text": [
      "{'used_metric': 'accuracy'}, {'browser_name': 0.0, 'pct_input': 0.0, 'wild_mouse_duration': 0.0, 'pct_scroll_move_duration': 0.0, 'pct_wild_mouse': 0.0, 'session_start': 0.0, 'pct_doubleclick': 0.0, 'pct_rage_click': 0.0, 'pct_click': 0.0, 'page_activity_duration': 0.0, 'pct_scrandom': 0.0, 'mouse_move_total_rel_distance': 0.0, 'pct_click_product_info': 0.0, 'scroll_move_total_rel_distance': 0.0, 'pct_mouse_click': 0.0, 'session_duration': 0.0, 'total_load_time': 0.0}\n",
      "{'used_metric': 'precision'}, {'browser_name': 0.0, 'pct_input': 0.0, 'wild_mouse_duration': 0.0, 'pct_scroll_move_duration': 0.0, 'pct_wild_mouse': 0.0, 'session_start': 0.0, 'pct_doubleclick': 0.0, 'pct_rage_click': 0.0, 'pct_click': 0.0, 'page_activity_duration': 0.0, 'pct_scrandom': 0.0, 'mouse_move_total_rel_distance': 0.0, 'pct_click_product_info': 0.0, 'scroll_move_total_rel_distance': 0.0, 'pct_mouse_click': 0.0, 'session_duration': 0.0, 'total_load_time': 0.0}\n",
      "{'used_metric': 'recall'}, {'browser_name': 0.0, 'pct_input': 0.0, 'wild_mouse_duration': 0.0, 'pct_scroll_move_duration': 0.0, 'pct_wild_mouse': 0.0, 'session_start': 0.0, 'pct_doubleclick': 0.0, 'pct_rage_click': 0.0, 'pct_click': 0.0, 'page_activity_duration': 0.0, 'pct_scrandom': 0.0, 'mouse_move_total_rel_distance': 0.0, 'pct_click_product_info': 0.0, 'scroll_move_total_rel_distance': 0.0, 'pct_mouse_click': 0.0, 'session_duration': 0.0, 'total_load_time': 0.0}\n",
      "\n",
      "{'used_metric': 'accuracy'}, {'browser_name': -0.0015089163237310688, 'pct_input': 0.0030864197530864335, 'wild_mouse_duration': 0.0037951531778691594, 'pct_scroll_move_duration': -0.0018061271147691293, 'pct_wild_mouse': -0.0031550068587105073, 'session_start': -0.0015089163237310688, 'pct_doubleclick': -0.0010973936899862924, 'pct_rage_click': -0.0024919981710105343, 'pct_click': -0.0018289894833104503, 'page_activity_duration': -0.0012574302697759832, 'pct_scrandom': -0.00743026977594885, 'mouse_move_total_rel_distance': 0.0014631915866483158, 'pct_click_product_info': -0.0030635573845450015, 'scroll_move_total_rel_distance': 0.001394604481024242, 'pct_mouse_click': -0.0015089163237310688, 'session_duration': -0.0012117055326932302, 'total_load_time': -0.0005944215820758991}\n",
      "{'used_metric': 'precision'}, {'browser_name': 0, 'pct_input': 0.0029071204018242813, 'wild_mouse_duration': 0.012886597938144284, 'pct_scroll_move_duration': -0.027395514780835906, 'pct_wild_mouse': -0.003940851846610971, 'session_start': 0, 'pct_doubleclick': 0.004148167240574541, 'pct_rage_click': -0.028763731528058556, 'pct_click': -0.0011909136264708353, 'page_activity_duration': -0.08039215686274503, 'pct_scrandom': -0.007621602328465205, 'mouse_move_total_rel_distance': 0.0032110557389679606, 'pct_click_product_info': -0.005808810686859456, 'scroll_move_total_rel_distance': 0.023999687123195224, 'pct_mouse_click': 0, 'session_duration': -0.011634941403227406, 'total_load_time': 1.5161290322580645}\n",
      "{'used_metric': 'recall'}, {'browser_name': 0.0, 'pct_input': 0.0008052820122340654, 'wild_mouse_duration': -0.06553507458491548, 'pct_scroll_move_duration': 0.01493813974642662, 'pct_wild_mouse': -0.01786031489705288, 'session_start': 0.0, 'pct_doubleclick': -0.004505143522942734, 'pct_rage_click': 0.013348323564131785, 'pct_click': -0.00115329384770263, 'page_activity_duration': 0.009938931843849492, 'pct_scrandom': -0.06724140574296184, 'mouse_move_total_rel_distance': -0.006978940429163472, 'pct_click_product_info': 0.005593127660553032, 'scroll_move_total_rel_distance': -0.16635640295784515, 'pct_mouse_click': 0.0, 'session_duration': 0.03835417486444914, 'total_load_time': 0.03229713362939039}\n"
     ]
    }
   ],
   "source": [
    "sess_train_df_copy = sess_df.copy()\n",
    "\n",
    "#Here we process the NaNs as we did before but we omit the outliers\n",
    "process_missing_vals(sess_train_df_copy)\n",
    "\n",
    "process_and_compare(df1=sess_train_df_copy, rules_a=rules_a, rules_p=rules_p, rules_r=rules_r,\n",
    "                    accuracies=accuracies, precisions=precisions, recalls=recalls, predictors=predictors)"
   ]
  },
  {
   "cell_type": "markdown",
   "metadata": {},
   "source": [
    "- Opäť možno vidieť, že neodstránenie vychýlených hodnôt nemá veľký vplyv na rozhodovanie ani na presnosti. Je zrejmé, že dataset __sessions.csv__ neobsahuje také množstvo chýbajúcich alebo vychýlených hodnôt, aby to malo razantný vplyv na rozhodovanie nášho OneR algoritmu."
   ]
  },
  {
   "cell_type": "markdown",
   "metadata": {},
   "source": [
    "### Stratégie scaling a transformers"
   ]
  },
  {
   "cell_type": "markdown",
   "metadata": {},
   "source": [
    "- Teraz preskúmame techniky __scaling__ and __transformers__. Na scaling používame funkciu _scale()_, ktorá dostane ako parameter dataset a stĺpce, ktoré chce škálovať či normalizovať. Ak ide o normálne rozdelenie, funkcia stĺpec štandardizuje, inak použije _MinMaxScaler()_, aby ho vyškálovala do intervalu od (0 po 1)."
   ]
  },
  {
   "cell_type": "code",
   "execution_count": null,
   "metadata": {},
   "outputs": [],
   "source": [
    "def scale(df: pd.DataFrame, cols: [str]):\n",
    "    print(\"\")\n",
    "\n",
    "    for col in cols:\n",
    "        if not pd.to_numeric(df[col], errors='coerce').notna().all():\n",
    "            raise TypeError(f\"The column {col} must be entirely numeric!\")\n",
    "\n",
    "        # Decide which normality test to use based on sample size\n",
    "        if len(df) >= 5000:\n",
    "            _, p_value = kstest(df[col], 'norm')\n",
    "        else:\n",
    "            _, p_value = shapiro(df[col])\n",
    "\n",
    "        if p_value > 0.05:\n",
    "            print(f\"Col: {col} is normally distributed! Applying StandardScaler...\")\n",
    "            std_scaler = StandardScaler()\n",
    "            df[col] = std_scaler.fit_transform(df[[col]])\n",
    "        else:\n",
    "            print(f\"Col: {col} is not normally distributed! Applying MinMaxScaler...\")\n",
    "            min_max_scaler = MinMaxScaler()\n",
    "            df[col] = min_max_scaler.fit_transform(df[[col]])\n",
    "\n",
    "    print(\"\")\n"
   ]
  },
  {
   "cell_type": "code",
   "execution_count": null,
   "metadata": {},
   "outputs": [
    {
     "name": "stdout",
     "output_type": "stream",
     "text": [
      "\n",
      "Col: pct_input is not normally distributed! Applying MinMaxScaler...\n",
      "Col: wild_mouse_duration is not normally distributed! Applying MinMaxScaler...\n",
      "Col: pct_scroll_move_duration is not normally distributed! Applying MinMaxScaler...\n",
      "Col: pct_wild_mouse is not normally distributed! Applying MinMaxScaler...\n",
      "Col: pct_doubleclick is not normally distributed! Applying MinMaxScaler...\n",
      "Col: pct_rage_click is not normally distributed! Applying MinMaxScaler...\n",
      "Col: pct_click is not normally distributed! Applying MinMaxScaler...\n",
      "Col: page_activity_duration is not normally distributed! Applying MinMaxScaler...\n",
      "Col: pct_scrandom is not normally distributed! Applying MinMaxScaler...\n",
      "Col: mouse_move_total_rel_distance is not normally distributed! Applying MinMaxScaler...\n",
      "Col: pct_click_product_info is not normally distributed! Applying MinMaxScaler...\n",
      "Col: scroll_move_total_rel_distance is not normally distributed! Applying MinMaxScaler...\n",
      "Col: pct_mouse_click is not normally distributed! Applying MinMaxScaler...\n",
      "Col: session_duration is not normally distributed! Applying MinMaxScaler...\n",
      "Col: total_load_time is not normally distributed! Applying MinMaxScaler...\n",
      "\n",
      "{'used_metric': 'accuracy'}, {'browser_name': 0.0, 'pct_input': 0.0, 'wild_mouse_duration': 0.0, 'pct_scroll_move_duration': 0.0, 'pct_wild_mouse': 1.0, 'session_start': 0.0, 'pct_doubleclick': 0.0, 'pct_rage_click': 0.0, 'pct_click': 0.0, 'page_activity_duration': 1.0, 'pct_scrandom': 0.0, 'mouse_move_total_rel_distance': 1.0, 'pct_click_product_info': 1.0, 'scroll_move_total_rel_distance': 0.0, 'pct_mouse_click': 0.0, 'session_duration': 0.0, 'total_load_time': 0.0}\n",
      "{'used_metric': 'precision'}, {'browser_name': 0.0, 'pct_input': 0.0, 'wild_mouse_duration': 0.0, 'pct_scroll_move_duration': 0.0, 'pct_wild_mouse': 1.0, 'session_start': 0.0, 'pct_doubleclick': 0.0, 'pct_rage_click': 0.0, 'pct_click': 0.0, 'page_activity_duration': 1.0, 'pct_scrandom': 0.0, 'mouse_move_total_rel_distance': 1.0, 'pct_click_product_info': 1.0, 'scroll_move_total_rel_distance': 0.0, 'pct_mouse_click': 0.0, 'session_duration': 0.0, 'total_load_time': 0.0}\n",
      "{'used_metric': 'recall'}, {'browser_name': 0.0, 'pct_input': 0.0, 'wild_mouse_duration': 0.0, 'pct_scroll_move_duration': 0.0, 'pct_wild_mouse': 1.0, 'session_start': 0.0, 'pct_doubleclick': 0.0, 'pct_rage_click': 0.0, 'pct_click': 0.0, 'page_activity_duration': 1.0, 'pct_scrandom': 0.0, 'mouse_move_total_rel_distance': 1.0, 'pct_click_product_info': 1.0, 'scroll_move_total_rel_distance': 0.0, 'pct_mouse_click': 0.0, 'session_duration': 0.0, 'total_load_time': 0.0}\n",
      "\n",
      "{'used_metric': 'accuracy'}, {'browser_name': 0.0, 'pct_input': 0.046067672610882515, 'wild_mouse_duration': 0.0, 'pct_scroll_move_duration': -0.00045724737082764033, 'pct_wild_mouse': -0.005029721079103711, 'session_start': 0.0, 'pct_doubleclick': 0.0, 'pct_rage_click': -0.0032007315957932603, 'pct_click': -0.005944215820758991, 'page_activity_duration': -0.00011431184270693784, 'pct_scrandom': -0.013603109282121717, 'mouse_move_total_rel_distance': -0.00011431184270693784, 'pct_click_product_info': -0.011431184270690453, 'scroll_move_total_rel_distance': 0.00022862368541376465, 'pct_mouse_click': 0.0, 'session_duration': -0.028920896204846835, 'total_load_time': 0.0}\n",
      "{'used_metric': 'precision'}, {'browser_name': 0, 'pct_input': 0.03929443789713838, 'wild_mouse_duration': 0.0, 'pct_scroll_move_duration': 0.016855131213996177, 'pct_wild_mouse': 0.0035993937863096903, 'session_start': 0, 'pct_doubleclick': 0.0, 'pct_rage_click': -0.034242910647405034, 'pct_click': 0.059962466876272824, 'page_activity_duration': -1.6, 'pct_scrandom': -1.534373194685153, 'mouse_move_total_rel_distance': 0.007194594208153826, 'pct_click_product_info': -1.5338753387533877, 'scroll_move_total_rel_distance': 0.008654667986100262, 'pct_mouse_click': 0, 'session_duration': -0.054904907743496656, 'total_load_time': 0}\n",
      "{'used_metric': 'recall'}, {'browser_name': 0.0, 'pct_input': -0.0736708860759494, 'wild_mouse_duration': 0.0, 'pct_scroll_move_duration': -0.008860759493670885, 'pct_wild_mouse': -0.09088607594936708, 'session_start': 0.0, 'pct_doubleclick': 0.0, 'pct_rage_click': -0.02936708860759494, 'pct_click': -0.06987341772151895, 'page_activity_duration': -0.0007594936708860759, 'pct_scrandom': -0.23417721518987342, 'mouse_move_total_rel_distance': -0.05367088607594939, 'pct_click_product_info': -0.19949367088607595, 'scroll_move_total_rel_distance': -0.07797468354430381, 'pct_mouse_click': 0.0, 'session_duration': -0.2250632911392405, 'total_load_time': 0.0}\n"
     ]
    }
   ],
   "source": [
    "columns_to_scale = ['pct_input', 'wild_mouse_duration', 'pct_scroll_move_duration', 'pct_wild_mouse',\n",
    "              'pct_doubleclick', 'pct_rage_click', 'pct_click', 'page_activity_duration', 'pct_scrandom', 'mouse_move_total_rel_distance',\n",
    "              'pct_click_product_info', 'scroll_move_total_rel_distance', 'pct_mouse_click', 'session_duration', 'total_load_time']\n",
    "\n",
    "\n",
    "sess_train_df_copy = sess_train_df.copy()\n",
    "scale(sess_train_df_copy, cols=columns_to_scale)\n",
    "\n",
    "\n",
    "process_and_compare(df1=sess_train_df_copy, rules_a=rules_a, rules_p=rules_p, rules_r=rules_r,\n",
    "                  accuracies=accuracies, precisions=precisions, recalls=recalls, predictors=predictors, bins=10)"
   ]
  },
  {
   "cell_type": "markdown",
   "metadata": {},
   "source": [
    "- Tentokrát dochádzalo aj k zmenám v rozhodovaní, napríklad pri *pct_wild_mouse* či *pct_activity_duration*. Aj zmeny v presnostiach boli výraznejšie, napríklad *session_duration* to klesla hodnota presnosti pri metrike __Recall__ až o __22 percent__."
   ]
  },
  {
   "cell_type": "markdown",
   "metadata": {},
   "source": []
  },
  {
   "cell_type": "code",
   "execution_count": null,
   "metadata": {},
   "outputs": [
    {
     "name": "stdout",
     "output_type": "stream",
     "text": [
      "Col: pct_input is not normally distributed! Transforming...\n",
      "Col: wild_mouse_duration is not normally distributed! Transforming...\n",
      "Col: pct_scroll_move_duration is not normally distributed! Transforming...\n",
      "Col: pct_wild_mouse is not normally distributed! Transforming...\n",
      "Col: pct_doubleclick is not normally distributed! Transforming...\n",
      "Col: pct_rage_click is not normally distributed! Transforming...\n",
      "Col: pct_click is not normally distributed! Transforming...\n",
      "Col: page_activity_duration is not normally distributed! Transforming...\n",
      "Col: pct_scrandom is not normally distributed! Transforming...\n",
      "Col: mouse_move_total_rel_distance is not normally distributed! Transforming...\n",
      "Col: pct_click_product_info is not normally distributed! Transforming...\n",
      "Col: scroll_move_total_rel_distance is not normally distributed! Transforming...\n",
      "Col: pct_mouse_click is not normally distributed! Transforming...\n",
      "Col: session_duration is not normally distributed! Transforming...\n",
      "Col: total_load_time is not normally distributed! Transforming...\n",
      "\n",
      "Col: pct_scroll_move_duration was transformed into Gaussian!\n",
      "Col: pct_wild_mouse was transformed into Gaussian!\n",
      "Col: pct_rage_click was transformed into Gaussian!\n",
      "Col: pct_scrandom was transformed into Gaussian!\n",
      "Col: pct_click_product_info was transformed into Gaussian!\n",
      "Col: pct_mouse_click was transformed into Gaussian!\n",
      "Col: session_duration was transformed into Gaussian!\n",
      "\n",
      "{'used_metric': 'accuracy'}, {'browser_name': 0.0, 'pct_input': 0.0, 'wild_mouse_duration': 0.0, 'pct_scroll_move_duration': 0.0, 'pct_wild_mouse': 1.0, 'session_start': 0.0, 'pct_doubleclick': 0.0, 'pct_rage_click': 0.0, 'pct_click': 0.0, 'page_activity_duration': 1.0, 'pct_scrandom': 0.0, 'mouse_move_total_rel_distance': 1.0, 'pct_click_product_info': 1.0, 'scroll_move_total_rel_distance': 0.0, 'pct_mouse_click': 0.0, 'session_duration': 0.0, 'total_load_time': 0.0}\n",
      "{'used_metric': 'precision'}, {'browser_name': 0.0, 'pct_input': 0.0, 'wild_mouse_duration': 0.0, 'pct_scroll_move_duration': 0.0, 'pct_wild_mouse': 1.0, 'session_start': 0.0, 'pct_doubleclick': 0.0, 'pct_rage_click': 0.0, 'pct_click': 0.0, 'page_activity_duration': 1.0, 'pct_scrandom': 0.0, 'mouse_move_total_rel_distance': 1.0, 'pct_click_product_info': 1.0, 'scroll_move_total_rel_distance': 0.0, 'pct_mouse_click': 0.0, 'session_duration': 0.0, 'total_load_time': 0.0}\n",
      "{'used_metric': 'recall'}, {'browser_name': 0.0, 'pct_input': 0.0, 'wild_mouse_duration': 0.0, 'pct_scroll_move_duration': 0.0, 'pct_wild_mouse': 1.0, 'session_start': 0.0, 'pct_doubleclick': 0.0, 'pct_rage_click': 0.0, 'pct_click': 0.0, 'page_activity_duration': 1.0, 'pct_scrandom': 0.0, 'mouse_move_total_rel_distance': 1.0, 'pct_click_product_info': 1.0, 'scroll_move_total_rel_distance': 0.0, 'pct_mouse_click': 0.0, 'session_duration': 0.0, 'total_load_time': 0.0}\n",
      "\n",
      "{'used_metric': 'accuracy'}, {'browser_name': 0.0, 'pct_input': -0.05887059899405578, 'wild_mouse_duration': -0.034522176497485235, 'pct_scroll_move_duration': -0.0010288065843622185, 'pct_wild_mouse': -0.006858710562414272, 'session_start': 0.0, 'pct_doubleclick': -0.11145404663923175, 'pct_rage_click': -0.003543667123914074, 'pct_click': -0.0014860539551897478, 'page_activity_duration': -0.00011431184270693784, 'pct_scrandom': -0.013603109282121717, 'mouse_move_total_rel_distance': -0.06172839506172845, 'pct_click_product_info': -0.011431184270690453, 'scroll_move_total_rel_distance': -0.002057613168724326, 'pct_mouse_click': 0.0, 'session_duration': -0.02960676726108835, 'total_load_time': 0.0}\n",
      "{'used_metric': 'precision'}, {'browser_name': 0, 'pct_input': -1.5366235243919784, 'wild_mouse_duration': 0.026394072335518826, 'pct_scroll_move_duration': -1.5412844036697249, 'pct_wild_mouse': -1.5337837837837838, 'session_start': 0, 'pct_doubleclick': -0.25090895907427135, 'pct_rage_click': -1.5580524344569289, 'pct_click': 0.032577038596992014, 'page_activity_duration': -1.6, 'pct_scrandom': -1.534373194685153, 'mouse_move_total_rel_distance': -0.055276141365836695, 'pct_click_product_info': -1.5338753387533877, 'scroll_move_total_rel_distance': -0.0033134063413412518, 'pct_mouse_click': 0, 'session_duration': -1.5783424077434967, 'total_load_time': 0}\n",
      "{'used_metric': 'recall'}, {'browser_name': 0.0, 'pct_input': -0.9551898734177215, 'wild_mouse_duration': -0.3924050632911393, 'pct_scroll_move_duration': -0.014936708860759493, 'pct_wild_mouse': -0.12, 'session_start': 0.0, 'pct_doubleclick': 0.37367088607594934, 'pct_rage_click': -0.03772151898734177, 'pct_click': -0.035949367088607576, 'page_activity_duration': -0.0007594936708860759, 'pct_scrandom': -0.23417721518987342, 'mouse_move_total_rel_distance': 0.10177215189873423, 'pct_click_product_info': -0.19949367088607595, 'scroll_move_total_rel_distance': 0.016455696202531622, 'pct_mouse_click': 0.0, 'session_duration': -0.2420253164556962, 'total_load_time': 0.0}\n"
     ]
    }
   ],
   "source": [
    "columns_to_scale = ['pct_input', 'wild_mouse_duration', 'pct_scroll_move_duration', 'pct_wild_mouse',\n",
    "              'pct_doubleclick', 'pct_rage_click', 'pct_click', 'page_activity_duration', 'pct_scrandom', 'mouse_move_total_rel_distance',\n",
    "              'pct_click_product_info', 'scroll_move_total_rel_distance', 'pct_mouse_click', 'session_duration', 'total_load_time']\n",
    "\n",
    "\n",
    "sess_train_df_copy = sess_train_df.copy()\n",
    "\n",
    "transform(sess_train_df_copy, cols=columns_to_scale)\n",
    "print(\"\")\n",
    "\n",
    "for col in columns_to_scale:\n",
    "    if is_gaussian(df=sess_train_df_copy, col=col):\n",
    "        print(f\"Col: {col} was transformed into Gaussian!\")\n",
    "    \n",
    "print(\"\")\n",
    "\n",
    "\n",
    "process_and_compare(df1=sess_train_df_copy, rules_a=rules_a, rules_p=rules_p, rules_r=rules_r,\n",
    "                  accuracies=accuracies, precisions=precisions, recalls=recalls, predictors=predictors)\n",
    "\n"
   ]
  },
  {
   "cell_type": "markdown",
   "metadata": {},
   "source": [
    "- Naša funkcia _transform()_ využíva triedu __PowerTransformer__ a __Yeo-Johnsonovu metódu__ na to, aby transformovala rozdelenie na normálne, avšak nie vždy sa to podarí. Druhý zoznam ukazuje, pri ktorých atribútoch sa to podarilo. Z výsledkov vidno, že množina atribútov, pri ktorých došlo k zmene klasifikácie je podmnožinou tohto zoznamu."
   ]
  },
  {
   "cell_type": "code",
   "execution_count": null,
   "metadata": {},
   "outputs": [],
   "source": []
  }
 ],
 "metadata": {
  "kernelspec": {
   "display_name": "iau",
   "language": "python",
   "name": "python3"
  },
  "language_info": {
   "codemirror_mode": {
    "name": "ipython",
    "version": 3
   },
   "file_extension": ".py",
   "mimetype": "text/x-python",
   "name": "python",
   "nbconvert_exporter": "python",
   "pygments_lexer": "ipython3",
   "version": "3.11.5"
  }
 },
 "nbformat": 4,
 "nbformat_minor": 2
}
