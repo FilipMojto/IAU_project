{
 "cells": [
  {
   "cell_type": "markdown",
   "metadata": {},
   "source": [
    "# Strojové učenie\n",
    "\n"
   ]
  },
  {
   "cell_type": "markdown",
   "metadata": {},
   "source": [
    "#### Použité knižnice"
   ]
  },
  {
   "cell_type": "code",
   "execution_count": 1,
   "metadata": {},
   "outputs": [],
   "source": [
    "import pandas as pd\n",
    "from IDA_utils import *\n",
    "from scipy.stats import shapiro\n",
    "from typing import Literal\n",
    "from sklearn.preprocessing import StandardScaler, MinMaxScaler"
   ]
  },
  {
   "cell_type": "markdown",
   "metadata": {},
   "source": [
    "#### Predpríprava dát\n",
    "\n",
    "- Najskôr je nutné načítať zdrojové súbory do Pandas datasetov.\n",
    "- Ďalej je vhodné rozdeliť si dáta na __trénovací__ a __testovací dataset__ pomocou funcie *split_data()*. Ďalej budeme pracovať iba s trénovacími datasetmi."
   ]
  },
  {
   "cell_type": "code",
   "execution_count": 2,
   "metadata": {},
   "outputs": [],
   "source": [
    "PRODUCT_FILE_PATH = \"resources/product.csv\"\n",
    "USER_FILE_PATH = \"resources/user.csv\"\n",
    "SESSION_FILE_PATH = \"resources/session.csv\"\n",
    "\n",
    "prod_df = pd.read_csv(PRODUCT_FILE_PATH, delimiter='\\t')\n",
    "user_df = pd.read_csv(USER_FILE_PATH, delimiter='\\t')\n",
    "sess_df = pd.read_csv(SESSION_FILE_PATH, delimiter='\\t')\n",
    "\n",
    "prod_train_df, prod_test_df = split_data(prod_df, 0.8)\n",
    "user_train_df, user_test_df = split_data(user_df, 0.8)\n",
    "sess_train_df, sess_test_df = split_data(sess_df, 0.8)"
   ]
  },
  {
   "cell_type": "markdown",
   "metadata": {},
   "source": [
    "- Teraz sa môžme vysporiadať z nešpecifikovanými hodnotami a vychýlenými hodnotami. Budeme postupovať rovnako ako v minulej fáze, použijeme funkcie zo súboru __IDA_utils.py__."
   ]
  },
  {
   "cell_type": "code",
   "execution_count": 3,
   "metadata": {},
   "outputs": [
    {
     "name": "stdout",
     "output_type": "stream",
     "text": [
      "NaN count before - 19, after - 0\n",
      "NaN count before - 296, after - 0\n",
      "NaN count before - 1420, after - 0\n",
      "NaN count before - 102, after - 0\n",
      "NaN count before - 995, after - 0\n",
      "NaN count before - 902, after - 0\n",
      "NaN count before - 1224, after - 0\n",
      "NaN count before - 11, after - 0\n",
      "NaN count before - 10, after - 0\n",
      "NaN count before - 7, after - 0\n",
      "NaN count before - 11, after - 0\n",
      "NaN count before - 5, after - 0\n",
      "NaN count before - 9, after - 0\n",
      "NaN count before - 7, after - 0\n",
      "NaN count before - 7, after - 0\n",
      "NaN count before - 8, after - 0\n",
      "NaN count before - 10, after - 0\n",
      "NaN count before - 8, after - 0\n",
      "NaN count before - 10, after - 0\n",
      "NaN count before - 11, after - 0\n",
      "NaN count before - 9, after - 0\n",
      "NaN count before - 9, after - 0\n"
     ]
    }
   ],
   "source": [
    "process_missing_vals(prod_train_df)\n",
    "process_missing_vals(user_train_df)\n",
    "process_missing_vals(sess_train_df)\n",
    "\n",
    "process_outliers(prod_train_df)\n",
    "process_outliers(user_train_df)\n",
    "process_outliers(sess_train_df)"
   ]
  },
  {
   "cell_type": "markdown",
   "metadata": {},
   "source": [
    "## Jednoduchý klasifikátor na základe závislostí v dátach"
   ]
  },
  {
   "cell_type": "markdown",
   "metadata": {},
   "source": [
    "- V tejto časti implementujeme jednoduchý __OneR algoritmus__, ktorý nám s určitou presnosťou určí klasifikuje výsledok skúmaného atribútu pri jednotlivých prediktoroch. Celková funkcionalita je implementovaní pomocou nasledovných funkcií:\n",
    "    \n",
    "    a) *frequency_tables()*\n",
    "    \n",
    "    b) *one_rule_alg()*\n",
    "\n",
    "- Prvá z funkcí vracia pre jednotlivé prediktory __tabuľky frekvencií__ vo vzťahu so skúmaných atribútom. V podstate ide o zoskupenie všetkých unikátnych hodnôt a uvedenie ich počtov. Výsledok je vrátený ako mapa, kde kľúče sú názvy prediktorov a hodnoty samotné tabuľky. Druhá funkcia akceptuje ako parameter takúto mapu, kde pre každý prediktor určí pravidlo, či platí hodnota A alebo B a s akou presnosťou to možno určiť."
   ]
  },
  {
   "cell_type": "code",
   "execution_count": 4,
   "metadata": {},
   "outputs": [],
   "source": [
    "def frequency_tables(df: pd.DataFrame, target_column: str, predictors: tuple[str]):\n",
    "    if len(predictors) == 0:\n",
    "        raise ValueError(\"At least one predictor needed!\")\n",
    "\n",
    "    result = {}\n",
    "\n",
    "    for predictor in predictors:\n",
    "        freq_table = pd.crosstab(df[predictor], df[target_column])\n",
    "        result[predictor] = freq_table\n",
    "\n",
    "    return result\n",
    "\n",
    "\n",
    "def one_rule_alg(freq_tables: Dict[str, pd.DataFrame], metric: Literal['accuracy', 'precision', 'recall'] = 'accuracy'):\n",
    "    accuracies = {}\n",
    "    rules = {}\n",
    "\n",
    "    for table in freq_tables:\n",
    "        positive = [0, 0]\n",
    "        negative = [0, 0]\n",
    "\n",
    "        for index, row in freq_tables[table].iterrows():\n",
    "\n",
    "            row_vals = row.items()\n",
    "            row_vals = list(row_vals)      \n",
    "            if row_vals[0][1] > row_vals[1][1]:\n",
    "                rules[table] = freq_tables[table].columns[0]\n",
    "                positive[0] +=  row_vals[0][1]\n",
    "                positive[1] += row_vals[1][1]\n",
    "            else:\n",
    "                rules[table] = freq_tables[table].columns[1]\n",
    "                negative[0] +=  row_vals[0][1]\n",
    "                negative[1] += row_vals[1][1]\n",
    "        \n",
    "        try:\n",
    "            if metric == 'accuracy':\n",
    "                accuracies[table] = ((positive[0] + negative[1])/(positive[0] + positive[1] + negative[0] + negative[1]))\n",
    "            elif metric == 'precision':\n",
    "                accuracies[table] = ((positive[0])/(positive[0] + positive[1]))\n",
    "            elif metric == 'recall':\n",
    "                accuracies[table] = ((positive[0])/(positive[0] + negative[0]))\n",
    "        except ZeroDivisionError:\n",
    "            accuracies[table] = -1\n",
    "\n",
    "            \n",
    "    return rules, accuracies, {'used_metric': metric}\n"
   ]
  },
  {
   "cell_type": "markdown",
   "metadata": {},
   "source": [
    "- Teraz, keď máme algoritmus implementovaný, môžeme ho ísť otestovať na zvolenom testovacom atribúte a na prediktoroch. V prípade tohto algoritmu sú pravidlá binárne, platí buď hodnota A testoného atribútu alebo B. Preto sme sa rozhodli zvoliť si atribút __ack__ v datasete __sess_train_df__ a budeme skúmať s akou presnosťou by sa stroj rozhodol pre klasifikáciu ďalšieho sedenia na kúpu či nekúpu. Teraz aplikujeme algoritmus na všetky atribúty, o ktorých má zmysel uvažovať ako o možných prediktoroch - vylúčime __ID atribúty__.\n",
    "- Väčšina atribútov zo spimínaného datasetu je však numerická a nadobúda množstvo rôznych hodnôt. Prediktory by mali mať kategorické hodnoty, preto je nutné rozdeliť ich do niekokoľkých kategórií, a to dokáže nasledovná funkcia:"
   ]
  },
  {
   "cell_type": "code",
   "execution_count": 5,
   "metadata": {},
   "outputs": [],
   "source": [
    "def num_to_category(df: pd.DataFrame, col: str, num_bins: int = None):\n",
    "\n",
    "    if not num_bins:\n",
    "        num_bins = math.floor(df[col].max())        \n",
    "\n",
    "    df[col] = pd.cut(df[col], bins=num_bins, labels=False)\n",
    "    df.drop(col, axis=1)\n",
    "\n",
    "def timestamp_to_category(df: pd.DataFrame, col: str, mode: Literal['day', 'month', 'year'] = 'month'):\n",
    "    df[col] = pd.to_datetime(df[col])\n",
    "    # Extract month and create a new column 'month'\n",
    "    df[col] = df[col].dt.month"
   ]
  },
  {
   "cell_type": "markdown",
   "metadata": {},
   "source": [
    "- Táto funkcia kategorizuje dataset na základe počtu kategórií v atribúte num_bins. Ak táto hodnota nie je špecifikovaná, je nastavená na maximálnu hodnotu v datasete. Funkcia mení dataset priamo."
   ]
  },
  {
   "cell_type": "code",
   "execution_count": 6,
   "metadata": {},
   "outputs": [],
   "source": [
    "predictors = ('browser_name', 'pct_input', 'wild_mouse_duration', 'pct_scroll_move_duration', 'pct_wild_mouse', 'session_start',\n",
    "              'pct_doubleclick', 'pct_rage_click', 'pct_click', 'page_activity_duration', 'pct_scrandom', 'mouse_move_total_rel_distance',\n",
    "              'pct_click_product_info', 'scroll_move_total_rel_distance', 'pct_mouse_click', 'session_duration', 'total_load_time')\n",
    "\n",
    "sess_train_df_copy = sess_train_df.copy()\n",
    "\n",
    "for predictor in predictors:\n",
    "    if predictor == 'browser_name':\n",
    "        continue\n",
    "    elif predictor == 'session_start':\n",
    "        timestamp_to_category(sess_train_df_copy, col=predictor)\n",
    "    else:\n",
    "        num_to_category(sess_train_df_copy, col=predictor)"
   ]
  },
  {
   "cell_type": "markdown",
   "metadata": {},
   "source": [
    "### Rozhodnutie na základe jedného atribútu\n",
    "- Najskôr uskutočníme klasifikáciu našej predikovanej premennej __ack__ len na základe jedného prediktora. Klasifikácie budeme realizovať za použitia rôznych nasledovných metrík:\n",
    "\n",
    "    a) __accuracy__\n",
    "\n",
    "    b) __precision__\n",
    "    \n",
    "    c) __recall__\n",
    "\n",
    "\n",
    " Zvolme si pravdepodobný prediktor __pct_doubleclick__, ktorý by podľa nás mohol dosahovať vysokú hodnotu accurracy s hodnotou ACK=0."
   ]
  },
  {
   "cell_type": "code",
   "execution_count": 7,
   "metadata": {},
   "outputs": [
    {
     "name": "stdout",
     "output_type": "stream",
     "text": [
      "({'pct_doubleclick': 0.0}, {'pct_doubleclick': 0.689493540642506}, {'used_metric': 'accuracy'})\n",
      "({'pct_doubleclick': 0.0}, {'pct_doubleclick': 0.7717055971793741}, {'used_metric': 'precision'})\n",
      "({'pct_doubleclick': 0.0}, {'pct_doubleclick': 0.4434033932641175}, {'used_metric': 'recall'})\n"
     ]
    }
   ],
   "source": [
    "freq_table = frequency_tables(df=sess_train_df_copy, target_column='ack', predictors=('pct_doubleclick',))\n",
    "\n",
    "print(one_rule_alg(freq_tables=freq_table, metric='accuracy'))\n",
    "print(one_rule_alg(freq_tables=freq_table, metric='precision'))\n",
    "print(one_rule_alg(freq_tables=freq_table, metric='recall'))\n"
   ]
  },
  {
   "cell_type": "markdown",
   "metadata": {},
   "source": [
    "- Pre tento prípad sa teda z 44 až 77 percentnou presnosťou rozhodujeme, že sedenie bude zahŕňať kúpu produktu. Teraz zapojíme ostatné prediktory a rozhodneme sa na základe celkovej presnosti."
   ]
  },
  {
   "cell_type": "markdown",
   "metadata": {},
   "source": [
    "### Rozhodnutie na základe viac atribútov"
   ]
  },
  {
   "cell_type": "code",
   "execution_count": 8,
   "metadata": {},
   "outputs": [
    {
     "name": "stdout",
     "output_type": "stream",
     "text": [
      "{'browser_name': 1.0, 'pct_input': 1.0, 'wild_mouse_duration': 1.0, 'pct_scroll_move_duration': 1.0, 'pct_wild_mouse': 0.0, 'session_start': 1.0, 'pct_doubleclick': 0.0, 'pct_rage_click': 1.0, 'pct_click': 0.0, 'page_activity_duration': 0.0, 'pct_scrandom': 1.0, 'mouse_move_total_rel_distance': 0.0, 'pct_click_product_info': 0.0, 'scroll_move_total_rel_distance': 1.0, 'pct_mouse_click': 1.0, 'session_duration': 1.0, 'total_load_time': 1.0}\n",
      "{'browser_name': 0.5485309248885332, 'pct_input': 0.6076369040813994, 'wild_mouse_duration': 0.658168514919401, 'pct_scroll_move_duration': 0.549559849091117, 'pct_wild_mouse': 0.5553904195724249, 'session_start': 0.5485309248885332, 'pct_doubleclick': 0.689493540642506, 'pct_rage_click': 0.5520749971418772, 'pct_click': 0.6777180747684921, 'page_activity_duration': 0.5486452497999315, 'pct_scrandom': 0.5621355893449183, 'mouse_move_total_rel_distance': 0.6707442551732022, 'pct_click_product_info': 0.5599634160283525, 'scroll_move_total_rel_distance': 0.6367897564879387, 'pct_mouse_click': 0.5485309248885332, 'session_duration': 0.5781410769406654, 'total_load_time': 0.5485309248885332}\n",
      "\n",
      "{'browser_name': 1.0, 'pct_input': 1.0, 'wild_mouse_duration': 1.0, 'pct_scroll_move_duration': 1.0, 'pct_wild_mouse': 0.0, 'session_start': 1.0, 'pct_doubleclick': 0.0, 'pct_rage_click': 1.0, 'pct_click': 0.0, 'page_activity_duration': 0.0, 'pct_scrandom': 1.0, 'mouse_move_total_rel_distance': 0.0, 'pct_click_product_info': 0.0, 'scroll_move_total_rel_distance': 1.0, 'pct_mouse_click': 1.0, 'session_duration': 1.0, 'total_load_time': 1.0}\n",
      "{'browser_name': -1, 'pct_input': 0.5368181170773394, 'wild_mouse_duration': 0.582402474652002, 'pct_scroll_move_duration': 0.5412844036697247, 'pct_wild_mouse': 0.5337837837837838, 'session_start': -1, 'pct_doubleclick': 0.7717055971793741, 'pct_rage_click': 0.5580524344569289, 'pct_click': 0.7563520871143375, 'page_activity_duration': 0.6, 'pct_scrandom': 0.5343731946851531, 'mouse_move_total_rel_distance': 0.5923621911180231, 'pct_click_product_info': 0.5338753387533876, 'scroll_move_total_rel_distance': 0.5685369318181818, 'pct_mouse_click': -1, 'session_duration': 0.5783424077434967, 'total_load_time': -1}\n",
      "\n",
      "{'browser_name': 1.0, 'pct_input': 1.0, 'wild_mouse_duration': 1.0, 'pct_scroll_move_duration': 1.0, 'pct_wild_mouse': 0.0, 'session_start': 1.0, 'pct_doubleclick': 0.0, 'pct_rage_click': 1.0, 'pct_click': 0.0, 'page_activity_duration': 0.0, 'pct_scrandom': 1.0, 'mouse_move_total_rel_distance': 0.0, 'pct_click_product_info': 0.0, 'scroll_move_total_rel_distance': 1.0, 'pct_mouse_click': 1.0, 'session_duration': 1.0, 'total_load_time': 1.0}\n",
      "{'browser_name': 0.0, 'pct_input': 0.9544188402127121, 'wild_mouse_duration': 0.8581919473284376, 'pct_scroll_move_duration': 0.014940491263611041, 'pct_wild_mouse': 0.1200303874398582, 'session_start': 0.0, 'pct_doubleclick': 0.4434033932641175, 'pct_rage_click': 0.037731071157255, 'pct_click': 0.42213218536338315, 'page_activity_duration': 0.0007596859964547987, 'pct_scrandom': 0.23423651557356293, 'mouse_move_total_rel_distance': 0.8680678652823499, 'pct_click_product_info': 0.19954418840212712, 'scroll_move_total_rel_distance': 0.8108381868827551, 'pct_mouse_click': 0.0, 'session_duration': 0.24208660420359585, 'total_load_time': 0.0}\n"
     ]
    }
   ],
   "source": [
    "freq_tables = frequency_tables(df=sess_train_df_copy, target_column='ack', predictors=predictors)\n",
    "\n",
    "rules_a, accuracies, metric = one_rule_alg(freq_tables=freq_tables, metric='accuracy')\n",
    "rules_p, precisions, metric = one_rule_alg(freq_tables=freq_tables, metric='precision')\n",
    "rules_r, recalls, metric = one_rule_alg(freq_tables=freq_tables, metric='recall')\n",
    "\n",
    "print(rules_a)\n",
    "print(accuracies)\n",
    "print(\"\")\n",
    "\n",
    "print(rules_p)\n",
    "print(precisions)\n",
    "print(\"\")\n",
    "\n",
    "print(rules_r)\n",
    "print(recalls)"
   ]
  },
  {
   "cell_type": "markdown",
   "metadata": {},
   "source": [
    "- Z výsledkov vidno, že testovaná hodnota __ack__ by bola v 9 prípadoch z 15 klasifikovaná ako kúpa. Hodnota istoty sa pohybovala na úrovni od __0 percent__ (*pct_mouse_click* pri metrike recall) až po takmer __77__ percent pri prediktore _pct_doubleclick_ a metóde Precision. 0 percent pri Recall metóde znamená, že neboli namerané žiadne skutočne pozitívne hodnoty. Vidíme, že ten istý atribút pri metóde Precision spôsobil __delenie nulou__ (preto hodnota -1).\n",
    "- Nakoľko sú počet klasifikácií predikovaného atribútu ako kúpa aj ich presnosť väčšie, na základe viacerých atribútov sa __rozhodujeme sa opäť pre ACK=1__."
   ]
  },
  {
   "cell_type": "markdown",
   "metadata": {},
   "source": [
    "### Vyhodnotenie klasifikátora na základe dostupných metrík\n",
    "- Teraz vyhodnotíme náš algoritmus na základe nasledovných metrík:\n",
    "\n",
    "    a) __Accurracy__\n",
    "\n",
    "    b) __Precision__\n",
    "    \n",
    "    c) __Recall__\n",
    "\n",
    "- Prvú z nich sme implementovali v samotnom algoritme. "
   ]
  },
  {
   "cell_type": "markdown",
   "metadata": {},
   "source": [
    "## Trénovanie a vyhodnotenie klasifikátorov strojového učenia"
   ]
  },
  {
   "cell_type": "markdown",
   "metadata": {},
   "source": [
    "## Optimializácia alias hyperparameter tuning"
   ]
  },
  {
   "cell_type": "markdown",
   "metadata": {},
   "source": []
  },
  {
   "cell_type": "markdown",
   "metadata": {},
   "source": [
    "## Vyhodnotenie vplyvu zvolenej stratégie riešenia na klasifikáciu\n",
    "\n",
    "### Stratégie riešenia chýbajúcich hodnôt a outlierov\n",
    "\n",
    "- Chýbajúce hodnoty bolo nutné nejakým spôsobom odstrániť, či nahradiť, inak by sme nemohli jednotlivé numerické stĺpce rozdeliť do kategórií. V našej pôvodnej analýze bol počet nešpecifikovaných hodnôt príliš veľký, aby sme si ich mohli dovoliť odstrániť, preto sme ich nahradzovali __najčastejšou hodnotou__. Teraz uskutočníme test, kde všetky takéto hodnoty odstránime a porovnáme výsledky.\n",
    "- Pre porovnávanie rozdielu medzi výsledkami (rules alebo accurracies) pri rôznych metrikách budeme používať funkciu *compare(rules_1, rules_2)*, ktorá dostane na vstupe dve pravidlá alebo accuracies a vráti rozdiel medzi *rules_2* a *rules_1*. Teda pri bežných pravidlách bude tento rozdiel buď 0 (žiadny rozdiel, rovnaké rozhodnutie pre kúpu alebo nekúpu) alebo 1 a pri accurracies bude buď záporný, ak presnosť klesne, nulový, ak sa nezmení alebo kladný, ak presnosť narastie."
   ]
  },
  {
   "cell_type": "code",
   "execution_count": 9,
   "metadata": {},
   "outputs": [],
   "source": [
    "def compare(rules: Dict[str, int], rules_2: Dict[str, int]):\n",
    "    if len(rules) != len(rules_2):\n",
    "        raise ValueError(\"Rule sets must contain same amount of rules for successful comparison!\")\n",
    "    \n",
    "    differences = {}\n",
    "\n",
    "    for rule in rules:\n",
    "        differences[rule] = rules_2[rule] - rules[rule]\n",
    "    \n",
    "    return differences\n",
    "\n",
    "# This functions\n",
    "def process_and_compare(df1: pd.DataFrame, predictors: List[str], bins: int = None, rules_a = None, rules_p = None, rules_r = None, accuracies = None, precisions = None, recalls = None):\n",
    "\n",
    "    for predictor in predictors:\n",
    "        if predictor == 'browser_name':\n",
    "            continue\n",
    "        elif predictor == 'session_start':\n",
    "            timestamp_to_category(df1, col=predictor)\n",
    "        else:\n",
    "            num_to_category(df1, col=predictor, num_bins=bins)\n",
    "\n",
    "    freq_tables = frequency_tables(df=df1, target_column='ack', predictors=predictors)\n",
    "\n",
    "    rules_a_2, accuracies_2, metric = one_rule_alg(freq_tables=freq_tables, metric='accuracy')\n",
    "    rules_p_2, precisions_2, metric_2 = one_rule_alg(freq_tables=freq_tables, metric='precision')\n",
    "    rules_r_2, recalls_2, metric_3 = one_rule_alg(freq_tables=freq_tables, metric='recall')\n",
    "\n",
    "    if rules_a:\n",
    "        print(f\"{metric}, {compare(rules=rules_a, rules_2=rules_a_2)}\")\n",
    "\n",
    "    if rules_p:\n",
    "        print(f\"{metric_2}, {compare(rules=rules_p, rules_2=rules_p_2)}\")\n",
    "    \n",
    "    if rules_r:\n",
    "        print(f\"{metric_3}, {compare(rules=rules_r, rules_2=rules_r_2)}\")\n",
    "        \n",
    "    print(\"\")\n",
    "\n",
    "    if accuracies:\n",
    "        print(f\"{metric}, {compare(rules=accuracies, rules_2=accuracies_2)}\")\n",
    "    if precisions:\n",
    "        print(f\"{metric_2}, {compare(rules=precisions, rules_2=precisions_2)}\")\n",
    "    if recalls:\n",
    "        print(f\"{metric_3}, {compare(rules=recalls, rules_2=recalls_2)}\")"
   ]
  },
  {
   "cell_type": "markdown",
   "metadata": {},
   "source": [
    "- Budeme teda porovnávať pravidlá a hodnoty accuraccies namerané v časti __Rozhodnutie na základe viac atribútov__ najskôr s variantom, v ktorom odstránime všetky riadky s __chýbajúcimi hodnotami__ a potom s variantom, kde neodstránime __vychýlené hodnoty__."
   ]
  },
  {
   "cell_type": "code",
   "execution_count": 10,
   "metadata": {},
   "outputs": [
    {
     "name": "stdout",
     "output_type": "stream",
     "text": [
      "{'used_metric': 'accuracy'}, {'browser_name': 0.0, 'pct_input': 0.0, 'wild_mouse_duration': 0.0, 'pct_scroll_move_duration': 0.0, 'pct_wild_mouse': 0.0, 'session_start': 0.0, 'pct_doubleclick': 0.0, 'pct_rage_click': 0.0, 'pct_click': 0.0, 'page_activity_duration': 0.0, 'pct_scrandom': 0.0, 'mouse_move_total_rel_distance': 0.0, 'pct_click_product_info': 0.0, 'scroll_move_total_rel_distance': 0.0, 'pct_mouse_click': 0.0, 'session_duration': 0.0, 'total_load_time': 0.0}\n",
      "{'used_metric': 'precision'}, {'browser_name': 0.0, 'pct_input': 0.0, 'wild_mouse_duration': 0.0, 'pct_scroll_move_duration': 0.0, 'pct_wild_mouse': 0.0, 'session_start': 0.0, 'pct_doubleclick': 0.0, 'pct_rage_click': 0.0, 'pct_click': 0.0, 'page_activity_duration': 0.0, 'pct_scrandom': 0.0, 'mouse_move_total_rel_distance': 0.0, 'pct_click_product_info': 0.0, 'scroll_move_total_rel_distance': 0.0, 'pct_mouse_click': 0.0, 'session_duration': 0.0, 'total_load_time': 0.0}\n",
      "{'used_metric': 'recall'}, {'browser_name': 0.0, 'pct_input': 0.0, 'wild_mouse_duration': 0.0, 'pct_scroll_move_duration': 0.0, 'pct_wild_mouse': 0.0, 'session_start': 0.0, 'pct_doubleclick': 0.0, 'pct_rage_click': 0.0, 'pct_click': 0.0, 'page_activity_duration': 0.0, 'pct_scrandom': 0.0, 'mouse_move_total_rel_distance': 0.0, 'pct_click_product_info': 0.0, 'scroll_move_total_rel_distance': 0.0, 'pct_mouse_click': 0.0, 'session_duration': 0.0, 'total_load_time': 0.0}\n",
      "\n",
      "{'used_metric': 'accuracy'}, {'browser_name': -0.001571619904536803, 'pct_input': 0.0027883359734702795, 'wild_mouse_duration': 0.0038342285648239605, 'pct_scroll_move_duration': -0.0018689483137964702, 'pct_wild_mouse': -0.0032184945609936566, 'session_start': -0.001571619904536803, 'pct_doubleclick': -0.001061899124444765, 'pct_rage_click': -0.002555106881246272, 'pct_click': -0.0019064606852731147, 'page_activity_duration': -0.0013201469192730686, 'pct_scrandom': -0.007494528531017952, 'mouse_move_total_rel_distance': 0.0015008294175613557, 'pct_click_product_info': -0.00312756783447965, 'scroll_move_total_rel_distance': 0.0014361237132501925, 'pct_mouse_click': -0.001571619904536803, 'session_duration': -0.0012777939045428566, 'total_load_time': -0.0006571251628816333}\n",
      "{'used_metric': 'precision'}, {'browser_name': 0, 'pct_input': 0.002712527716463242, 'wild_mouse_duration': 0.012958350090266024, 'pct_scroll_move_duration': -0.027395514780835906, 'pct_wild_mouse': -0.003940851846610971, 'session_start': 0, 'pct_doubleclick': 0.004248737462081431, 'pct_rage_click': -0.028763731528058556, 'pct_click': -0.0011909136264708353, 'page_activity_duration': -0.08039215686274503, 'pct_scrandom': -0.007621602328465205, 'mouse_move_total_rel_distance': 0.00328148383310789, 'pct_click_product_info': -0.005808810686859456, 'scroll_move_total_rel_distance': 0.024076282732671928, 'pct_mouse_click': 0, 'session_duration': -0.011634941403227406, 'total_load_time': 1.5161290322580645}\n",
      "{'used_metric': 'recall'}, {'browser_name': 0.0, 'pct_input': 0.0015763152172435513, 'wild_mouse_duration': -0.06549917381208725, 'pct_scroll_move_duration': 0.014934357343575072, 'pct_wild_mouse': -0.017890702336911077, 'session_start': 0.0, 'pct_doubleclick': -0.004364232989591876, 'pct_rage_click': 0.01333877139421856, 'pct_click': -0.0012601627553895933, 'page_activity_duration': 0.00993873951828077, 'pct_scrandom': -0.06730070612665134, 'mouse_move_total_rel_distance': -0.006945539888728591, 'pct_click_product_info': 0.005542610144501858, 'scroll_move_total_rel_distance': -0.16630851389123313, 'pct_mouse_click': 0.0, 'session_duration': 0.03829288711654949, 'total_load_time': 0.03229713362939039}\n"
     ]
    }
   ],
   "source": [
    "sess_train_df_copy = sess_df.copy()\n",
    "\n",
    "\n",
    "# Here we are dropping al NaN values\n",
    "for col in sess_train_df_copy.columns:\n",
    "    sess_train_df_copy.dropna(subset=[col], inplace=True)\n",
    "\n",
    "process_outliers(sess_train_df_copy)\n",
    "\n",
    "process_and_compare(df1=sess_train_df_copy, rules_a=rules_a, rules_p=rules_p, rules_r=rules_r,\n",
    "                    accuracies=accuracies, precisions=precisions, recalls=recalls, predictors=predictors)\n",
    "\n"
   ]
  },
  {
   "cell_type": "markdown",
   "metadata": {},
   "source": [
    "- Z výsledkov vidno, že vylúčenie všetkých NaN hodnôt nespôsobilo nejaký rozdiel v rozhodovaniach. Avšak v presnostiach isté rozdiely možno vidieť, i keď veľmi malé. Teraz môžme porovnať dané hodnoty s tými, pri ktorých by sme sa rozhodli neodstrániť outliery."
   ]
  },
  {
   "cell_type": "code",
   "execution_count": 11,
   "metadata": {},
   "outputs": [
    {
     "name": "stdout",
     "output_type": "stream",
     "text": [
      "NaN count before - 11, after - 0\n",
      "NaN count before - 11, after - 0\n",
      "NaN count before - 11, after - 0\n",
      "NaN count before - 11, after - 0\n",
      "NaN count before - 11, after - 0\n",
      "NaN count before - 11, after - 0\n",
      "NaN count before - 11, after - 0\n",
      "NaN count before - 11, after - 0\n",
      "NaN count before - 10, after - 0\n",
      "NaN count before - 11, after - 0\n",
      "NaN count before - 11, after - 0\n",
      "NaN count before - 11, after - 0\n",
      "NaN count before - 11, after - 0\n",
      "NaN count before - 11, after - 0\n",
      "NaN count before - 11, after - 0\n",
      "{'used_metric': 'accuracy'}, {'browser_name': 0.0, 'pct_input': 0.0, 'wild_mouse_duration': 0.0, 'pct_scroll_move_duration': 0.0, 'pct_wild_mouse': 0.0, 'session_start': 0.0, 'pct_doubleclick': 0.0, 'pct_rage_click': 0.0, 'pct_click': 0.0, 'page_activity_duration': 0.0, 'pct_scrandom': 0.0, 'mouse_move_total_rel_distance': 0.0, 'pct_click_product_info': 0.0, 'scroll_move_total_rel_distance': 0.0, 'pct_mouse_click': 0.0, 'session_duration': 0.0, 'total_load_time': 0.0}\n",
      "{'used_metric': 'precision'}, {'browser_name': 0.0, 'pct_input': 0.0, 'wild_mouse_duration': 0.0, 'pct_scroll_move_duration': 0.0, 'pct_wild_mouse': 0.0, 'session_start': 0.0, 'pct_doubleclick': 0.0, 'pct_rage_click': 0.0, 'pct_click': 0.0, 'page_activity_duration': 0.0, 'pct_scrandom': 0.0, 'mouse_move_total_rel_distance': 0.0, 'pct_click_product_info': 0.0, 'scroll_move_total_rel_distance': 0.0, 'pct_mouse_click': 0.0, 'session_duration': 0.0, 'total_load_time': 0.0}\n",
      "{'used_metric': 'recall'}, {'browser_name': 0.0, 'pct_input': 0.0, 'wild_mouse_duration': 0.0, 'pct_scroll_move_duration': 0.0, 'pct_wild_mouse': 0.0, 'session_start': 0.0, 'pct_doubleclick': 0.0, 'pct_rage_click': 0.0, 'pct_click': 0.0, 'page_activity_duration': 0.0, 'pct_scrandom': 0.0, 'mouse_move_total_rel_distance': 0.0, 'pct_click_product_info': 0.0, 'scroll_move_total_rel_distance': 0.0, 'pct_mouse_click': 0.0, 'session_duration': 0.0, 'total_load_time': 0.0}\n",
      "\n",
      "{'used_metric': 'accuracy'}, {'browser_name': -0.001571619904536803, 'pct_input': 0.014036621295829721, 'wild_mouse_duration': 0.0038342285648239605, 'pct_scroll_move_duration': -0.0018689483137964702, 'pct_wild_mouse': -0.0032184945609936566, 'session_start': -0.001571619904536803, 'pct_doubleclick': -0.001061899124444765, 'pct_rage_click': -0.002555106881246272, 'pct_click': -0.0019064606852731147, 'page_activity_duration': -0.0013201469192730686, 'pct_scrandom': -0.007494528531017952, 'mouse_move_total_rel_distance': 0.0015008294175613557, 'pct_click_product_info': -0.00312756783447965, 'scroll_move_total_rel_distance': 0.0014361237132501925, 'pct_mouse_click': -0.001571619904536803, 'session_duration': -0.0012777939045428566, 'total_load_time': -0.0006571251628816333}\n",
      "{'used_metric': 'precision'}, {'browser_name': 0, 'pct_input': 0.010753793950959212, 'wild_mouse_duration': 0.012958350090266024, 'pct_scroll_move_duration': -0.027395514780835906, 'pct_wild_mouse': -0.003940851846610971, 'session_start': 0, 'pct_doubleclick': 0.004248737462081431, 'pct_rage_click': -0.028763731528058556, 'pct_click': -0.0011909136264708353, 'page_activity_duration': -0.08039215686274503, 'pct_scrandom': -0.007621602328465205, 'mouse_move_total_rel_distance': 0.00328148383310789, 'pct_click_product_info': -0.005808810686859456, 'scroll_move_total_rel_distance': 0.024076282732671928, 'pct_mouse_click': 0, 'session_duration': -0.011634941403227406, 'total_load_time': 1.5161290322580645}\n",
      "{'used_metric': 'recall'}, {'browser_name': 0.0, 'pct_input': -0.005286825679001961, 'wild_mouse_duration': -0.06549917381208725, 'pct_scroll_move_duration': 0.014934357343575072, 'pct_wild_mouse': -0.017890702336911077, 'session_start': 0.0, 'pct_doubleclick': -0.004364232989591876, 'pct_rage_click': 0.01333877139421856, 'pct_click': -0.0012601627553895933, 'page_activity_duration': 0.00993873951828077, 'pct_scrandom': -0.06730070612665134, 'mouse_move_total_rel_distance': -0.006945539888728591, 'pct_click_product_info': 0.005542610144501858, 'scroll_move_total_rel_distance': -0.16630851389123313, 'pct_mouse_click': 0.0, 'session_duration': 0.03829288711654949, 'total_load_time': 0.03229713362939039}\n"
     ]
    }
   ],
   "source": [
    "sess_train_df_copy = sess_df.copy()\n",
    "\n",
    "#Here we process the NaNs as we did before but we omit the outliers\n",
    "process_missing_vals(sess_train_df_copy)\n",
    "\n",
    "process_and_compare(df1=sess_train_df_copy, rules_a=rules_a, rules_p=rules_p, rules_r=rules_r,\n",
    "                    accuracies=accuracies, precisions=precisions, recalls=recalls, predictors=predictors)"
   ]
  },
  {
   "cell_type": "markdown",
   "metadata": {},
   "source": [
    "- Opäť možno vidieť, že neodstránenie vychýlených hodnôt nemá veľký vplyv na rozhodovanie ani na presnosti. Je zrejmé, že dataset __sessions.csv__ neobsahuje také množstvo chýbajúcich alebo vychýlených hodnôt, aby to malo razantný vplyv na rozhodovanie nášho OneR algoritmu."
   ]
  },
  {
   "cell_type": "markdown",
   "metadata": {},
   "source": [
    "### Stratégie scaling a transformers"
   ]
  },
  {
   "cell_type": "markdown",
   "metadata": {},
   "source": [
    "- Teraz preskúmame techniky __scaling__ and __transformers__. Na scaling používame funkciu _scale()_, ktorá dostane ako parameter dataset a stĺpce, ktoré chce škálovať či normalizovať. Ak ide o normálne rozdelenie, funkcia stĺpec štandardizuje, inak použije _MinMaxScaler()_, aby ho vyškálovala do intervalu od (0 po 1)."
   ]
  },
  {
   "cell_type": "code",
   "execution_count": 12,
   "metadata": {},
   "outputs": [],
   "source": [
    "def scale(df: pd.DataFrame, cols: [str]):\n",
    "    print(\"\")\n",
    "\n",
    "    for col in cols:\n",
    "        if not pd.to_numeric(df[col], errors='coerce').notna().all():\n",
    "            raise TypeError(f\"The column {col} must be entirely numeric!\")\n",
    "\n",
    "        # Decide which normality test to use based on sample size\n",
    "        if len(df) >= 5000:\n",
    "            _, p_value = kstest(df[col], 'norm')\n",
    "        else:\n",
    "            _, p_value = shapiro(df[col])\n",
    "\n",
    "        if p_value > 0.05:\n",
    "            print(f\"Col: {col} is normally distributed! Applying StandardScaler...\")\n",
    "            std_scaler = StandardScaler()\n",
    "            df[col] = std_scaler.fit_transform(df[[col]])\n",
    "        else:\n",
    "            print(f\"Col: {col} is not normally distributed! Applying MinMaxScaler...\")\n",
    "            min_max_scaler = MinMaxScaler()\n",
    "            df[col] = min_max_scaler.fit_transform(df[[col]])\n",
    "\n",
    "    print(\"\")\n"
   ]
  },
  {
   "cell_type": "code",
   "execution_count": 13,
   "metadata": {},
   "outputs": [
    {
     "name": "stdout",
     "output_type": "stream",
     "text": [
      "\n",
      "Col: pct_input is not normally distributed! Applying MinMaxScaler...\n",
      "Col: wild_mouse_duration is not normally distributed! Applying MinMaxScaler...\n",
      "Col: pct_scroll_move_duration is not normally distributed! Applying MinMaxScaler...\n",
      "Col: pct_wild_mouse is not normally distributed! Applying MinMaxScaler...\n",
      "Col: pct_doubleclick is not normally distributed! Applying MinMaxScaler...\n",
      "Col: pct_rage_click is not normally distributed! Applying MinMaxScaler...\n",
      "Col: pct_click is not normally distributed! Applying MinMaxScaler...\n",
      "Col: page_activity_duration is not normally distributed! Applying MinMaxScaler...\n",
      "Col: pct_scrandom is not normally distributed! Applying MinMaxScaler...\n",
      "Col: mouse_move_total_rel_distance is not normally distributed! Applying MinMaxScaler...\n",
      "Col: pct_click_product_info is not normally distributed! Applying MinMaxScaler...\n",
      "Col: scroll_move_total_rel_distance is not normally distributed! Applying MinMaxScaler...\n",
      "Col: pct_mouse_click is not normally distributed! Applying MinMaxScaler...\n",
      "Col: session_duration is not normally distributed! Applying MinMaxScaler...\n",
      "Col: total_load_time is not normally distributed! Applying MinMaxScaler...\n",
      "\n"
     ]
    },
    {
     "name": "stdout",
     "output_type": "stream",
     "text": [
      "{'used_metric': 'accuracy'}, {'browser_name': 0.0, 'pct_input': 0.0, 'wild_mouse_duration': 0.0, 'pct_scroll_move_duration': 0.0, 'pct_wild_mouse': 1.0, 'session_start': 0.0, 'pct_doubleclick': 0.0, 'pct_rage_click': 0.0, 'pct_click': 0.0, 'page_activity_duration': 1.0, 'pct_scrandom': 0.0, 'mouse_move_total_rel_distance': 1.0, 'pct_click_product_info': 1.0, 'scroll_move_total_rel_distance': 0.0, 'pct_mouse_click': 0.0, 'session_duration': 0.0, 'total_load_time': 0.0}\n",
      "{'used_metric': 'precision'}, {'browser_name': 0.0, 'pct_input': 0.0, 'wild_mouse_duration': 0.0, 'pct_scroll_move_duration': 0.0, 'pct_wild_mouse': 1.0, 'session_start': 0.0, 'pct_doubleclick': 0.0, 'pct_rage_click': 0.0, 'pct_click': 0.0, 'page_activity_duration': 1.0, 'pct_scrandom': 0.0, 'mouse_move_total_rel_distance': 1.0, 'pct_click_product_info': 1.0, 'scroll_move_total_rel_distance': 0.0, 'pct_mouse_click': 0.0, 'session_duration': 0.0, 'total_load_time': 0.0}\n",
      "{'used_metric': 'recall'}, {'browser_name': 0.0, 'pct_input': 0.0, 'wild_mouse_duration': 0.0, 'pct_scroll_move_duration': 0.0, 'pct_wild_mouse': 1.0, 'session_start': 0.0, 'pct_doubleclick': 0.0, 'pct_rage_click': 0.0, 'pct_click': 0.0, 'page_activity_duration': 1.0, 'pct_scrandom': 0.0, 'mouse_move_total_rel_distance': 1.0, 'pct_click_product_info': 1.0, 'scroll_move_total_rel_distance': 0.0, 'pct_mouse_click': 0.0, 'session_duration': 0.0, 'total_load_time': 0.0}\n",
      "\n",
      "{'used_metric': 'accuracy'}, {'browser_name': 0.0, 'pct_input': 0.04584428947067565, 'wild_mouse_duration': 0.0, 'pct_scroll_move_duration': -0.00045729964559282354, 'pct_wild_mouse': -0.005030296101520504, 'session_start': 0.0, 'pct_doubleclick': 0.0, 'pct_rage_click': -0.0032010975191494317, 'pct_click': -0.005944895392706151, 'page_activity_duration': -0.00011432491139828915, 'pct_scrandom': -0.013604664456385085, 'mouse_move_total_rel_distance': -0.00011432491139817813, 'pct_click_product_info': -0.011432491139819367, 'scroll_move_total_rel_distance': 0.0003429747341946454, 'pct_mouse_click': 0.0, 'session_duration': -0.028924202583743064, 'total_load_time': 0.0}\n",
      "{'used_metric': 'precision'}, {'browser_name': 0, 'pct_input': 0.03922562049721334, 'wild_mouse_duration': 0.0, 'pct_scroll_move_duration': 0.016855131213996177, 'pct_wild_mouse': 0.0035993937863096903, 'session_start': 0, 'pct_doubleclick': 0.0, 'pct_rage_click': -0.034242910647405034, 'pct_click': 0.059962466876272824, 'page_activity_duration': -1.6, 'pct_scrandom': -1.534373194685153, 'mouse_move_total_rel_distance': 0.007190381588911943, 'pct_click_product_info': -1.5338753387533877, 'scroll_move_total_rel_distance': 0.008731263595576966, 'pct_mouse_click': 0, 'session_duration': -0.054904907743496656, 'total_load_time': 0}\n",
      "{'used_metric': 'recall'}, {'browser_name': 0.0, 'pct_input': -0.07394277032160035, 'wild_mouse_duration': 0.0, 'pct_scroll_move_duration': -0.008863003291972652, 'pct_wild_mouse': -0.09090909090909091, 'session_start': 0.0, 'pct_doubleclick': 0.0, 'pct_rage_click': -0.029374525196252214, 'pct_click': -0.06989111167384149, 'page_activity_duration': -0.0007596859964547987, 'pct_scrandom': -0.23423651557356293, 'mouse_move_total_rel_distance': -0.05368447708280577, 'pct_click_product_info': -0.19954418840212712, 'scroll_move_total_rel_distance': -0.07774120030387432, 'pct_mouse_click': 0.0, 'session_duration': -0.22512028361610534, 'total_load_time': 0.0}\n"
     ]
    }
   ],
   "source": [
    "columns_to_scale = ['pct_input', 'wild_mouse_duration', 'pct_scroll_move_duration', 'pct_wild_mouse',\n",
    "              'pct_doubleclick', 'pct_rage_click', 'pct_click', 'page_activity_duration', 'pct_scrandom', 'mouse_move_total_rel_distance',\n",
    "              'pct_click_product_info', 'scroll_move_total_rel_distance', 'pct_mouse_click', 'session_duration', 'total_load_time']\n",
    "\n",
    "\n",
    "sess_train_df_copy = sess_train_df.copy()\n",
    "scale(sess_train_df_copy, cols=columns_to_scale)\n",
    "\n",
    "\n",
    "process_and_compare(df1=sess_train_df_copy, rules_a=rules_a, rules_p=rules_p, rules_r=rules_r,\n",
    "                  accuracies=accuracies, precisions=precisions, recalls=recalls, predictors=predictors, bins=10)"
   ]
  },
  {
   "cell_type": "markdown",
   "metadata": {},
   "source": [
    "- Tentokrát dochádzalo aj k zmenám v rozhodovaní, napríklad pri *pct_wild_mouse* či *pct_activity_duration*. Aj zmeny v presnostiach boli výraznejšie, napríklad *session_duration* to klesla hodnota presnosti pri metrike __Recall__ až o __22 percent__."
   ]
  },
  {
   "cell_type": "markdown",
   "metadata": {},
   "source": []
  },
  {
   "cell_type": "code",
   "execution_count": 28,
   "metadata": {},
   "outputs": [
    {
     "name": "stdout",
     "output_type": "stream",
     "text": [
      "Col: pct_input is not normally distributed! Transforming...\n",
      "Col: wild_mouse_duration is not normally distributed! Transforming...\n",
      "Col: pct_scroll_move_duration is not normally distributed! Transforming...\n",
      "Col: pct_wild_mouse is not normally distributed! Transforming...\n",
      "Col: pct_doubleclick is not normally distributed! Transforming...\n",
      "Col: pct_rage_click is not normally distributed! Transforming...\n",
      "Col: pct_click is not normally distributed! Transforming...\n",
      "Col: page_activity_duration is not normally distributed! Transforming...\n",
      "Col: pct_scrandom is not normally distributed! Transforming...\n",
      "Col: mouse_move_total_rel_distance is not normally distributed! Transforming...\n",
      "Col: pct_click_product_info is not normally distributed! Transforming...\n",
      "Col: scroll_move_total_rel_distance is not normally distributed! Transforming...\n",
      "Col: pct_mouse_click is not normally distributed! Transforming...\n",
      "Col: session_duration is not normally distributed! Transforming...\n",
      "Col: total_load_time is not normally distributed! Transforming...\n",
      "\n",
      "Col: pct_scroll_move_duration was transformed into Gaussian!\n",
      "Col: pct_wild_mouse was transformed into Gaussian!\n",
      "Col: pct_rage_click was transformed into Gaussian!\n",
      "Col: pct_scrandom was transformed into Gaussian!\n",
      "Col: pct_click_product_info was transformed into Gaussian!\n",
      "Col: pct_mouse_click was transformed into Gaussian!\n",
      "Col: session_duration was transformed into Gaussian!\n",
      "\n",
      "{'used_metric': 'accuracy'}, {'browser_name': 0.0, 'pct_input': 0.0, 'wild_mouse_duration': 0.0, 'pct_scroll_move_duration': 0.0, 'pct_wild_mouse': 1.0, 'session_start': 0.0, 'pct_doubleclick': 0.0, 'pct_rage_click': 0.0, 'pct_click': 0.0, 'page_activity_duration': 1.0, 'pct_scrandom': 0.0, 'mouse_move_total_rel_distance': 1.0, 'pct_click_product_info': 1.0, 'scroll_move_total_rel_distance': 0.0, 'pct_mouse_click': 0.0, 'session_duration': 0.0, 'total_load_time': 0.0}\n",
      "{'used_metric': 'precision'}, {'browser_name': 0.0, 'pct_input': 0.0, 'wild_mouse_duration': 0.0, 'pct_scroll_move_duration': 0.0, 'pct_wild_mouse': 1.0, 'session_start': 0.0, 'pct_doubleclick': 0.0, 'pct_rage_click': 0.0, 'pct_click': 0.0, 'page_activity_duration': 1.0, 'pct_scrandom': 0.0, 'mouse_move_total_rel_distance': 1.0, 'pct_click_product_info': 1.0, 'scroll_move_total_rel_distance': 0.0, 'pct_mouse_click': 0.0, 'session_duration': 0.0, 'total_load_time': 0.0}\n",
      "{'used_metric': 'recall'}, {'browser_name': 0.0, 'pct_input': 0.0, 'wild_mouse_duration': 0.0, 'pct_scroll_move_duration': 0.0, 'pct_wild_mouse': 1.0, 'session_start': 0.0, 'pct_doubleclick': 0.0, 'pct_rage_click': 0.0, 'pct_click': 0.0, 'page_activity_duration': 1.0, 'pct_scrandom': 0.0, 'mouse_move_total_rel_distance': 1.0, 'pct_click_product_info': 1.0, 'scroll_move_total_rel_distance': 0.0, 'pct_mouse_click': 0.0, 'session_duration': 0.0, 'total_load_time': 0.0}\n",
      "\n",
      "{'used_metric': 'accuracy'}, {'browser_name': 0.0, 'pct_input': -0.0591059791928662, 'wild_mouse_duration': -0.03441179833085639, 'pct_scroll_move_duration': -0.0010289242025838252, 'pct_wild_mouse': -0.006859494683891687, 'session_start': 0.0, 'pct_doubleclick': -0.11146678861323878, 'pct_rage_click': -0.003544072253344077, 'pct_click': -0.0014862238481765377, 'page_activity_duration': -0.00011432491139828915, 'pct_scrandom': -0.013604664456385085, 'mouse_move_total_rel_distance': -0.06173545215502463, 'pct_click_product_info': -0.011432491139819367, 'scroll_move_total_rel_distance': -0.0020578484051674284, 'pct_mouse_click': 0.0, 'session_duration': -0.029610152052132244, 'total_load_time': 0.0}\n",
      "{'used_metric': 'precision'}, {'browser_name': 0, 'pct_input': -1.5368181170773394, 'wild_mouse_duration': 0.026465824487640566, 'pct_scroll_move_duration': -1.5412844036697249, 'pct_wild_mouse': -1.5337837837837838, 'session_start': 0, 'pct_doubleclick': -0.25088571338337673, 'pct_rage_click': -1.5580524344569289, 'pct_click': 0.032577038596992014, 'page_activity_duration': -1.6, 'pct_scrandom': -1.534373194685153, 'mouse_move_total_rel_distance': -0.055270619108487296, 'pct_click_product_info': -1.5338753387533877, 'scroll_move_total_rel_distance': -0.0033120183233721345, 'pct_mouse_click': 0, 'session_duration': -1.5783424077434967, 'total_load_time': 0}\n",
      "{'used_metric': 'recall'}, {'browser_name': 0.0, 'pct_input': -0.9544188402127121, 'wild_mouse_duration': -0.3922512028361611, 'pct_scroll_move_duration': -0.014940491263611041, 'pct_wild_mouse': -0.1200303874398582, 'session_start': 0.0, 'pct_doubleclick': 0.373765510255761, 'pct_rage_click': -0.037731071157255, 'pct_click': -0.03595847049886047, 'page_activity_duration': -0.0007596859964547987, 'pct_scrandom': -0.23423651557356293, 'mouse_move_total_rel_distance': 0.1017979235249431, 'pct_click_product_info': -0.19954418840212712, 'scroll_move_total_rel_distance': 0.016459863256520713, 'pct_mouse_click': 0.0, 'session_duration': -0.24208660420359585, 'total_load_time': 0.0}\n"
     ]
    }
   ],
   "source": [
    "columns_to_scale = ['pct_input', 'wild_mouse_duration', 'pct_scroll_move_duration', 'pct_wild_mouse',\n",
    "              'pct_doubleclick', 'pct_rage_click', 'pct_click', 'page_activity_duration', 'pct_scrandom', 'mouse_move_total_rel_distance',\n",
    "              'pct_click_product_info', 'scroll_move_total_rel_distance', 'pct_mouse_click', 'session_duration', 'total_load_time']\n",
    "\n",
    "\n",
    "sess_train_df_copy = sess_train_df.copy()\n",
    "\n",
    "transform(sess_train_df_copy, cols=columns_to_scale)\n",
    "print(\"\")\n",
    "\n",
    "for col in columns_to_scale:\n",
    "    if is_gaussian(df=sess_train_df_copy, col=col):\n",
    "        print(f\"Col: {col} was transformed into Gaussian!\")\n",
    "    \n",
    "print(\"\")\n",
    "\n",
    "\n",
    "process_and_compare(df1=sess_train_df_copy, rules_a=rules_a, rules_p=rules_p, rules_r=rules_r,\n",
    "                  accuracies=accuracies, precisions=precisions, recalls=recalls, predictors=predictors)\n",
    "\n"
   ]
  },
  {
   "cell_type": "markdown",
   "metadata": {},
   "source": [
    "- Naša funkcia _transform()_ využíva triedu __PowerTransformer__ a __Yeo-Johnsonovu metódu__ na to, aby transformovala rozdelenie na normálne, avšak nie vždy sa to podarí. Druhý zoznam ukazuje, pri ktorých atribútoch sa to podarilo. Z výsledkov vidno, že množina atribútov, pri ktorých došlo k zmene klasifikácie je podmnožinou tohto zoznamu."
   ]
  },
  {
   "cell_type": "code",
   "execution_count": null,
   "metadata": {},
   "outputs": [],
   "source": []
  }
 ],
 "metadata": {
  "kernelspec": {
   "display_name": "iau",
   "language": "python",
   "name": "python3"
  },
  "language_info": {
   "codemirror_mode": {
    "name": "ipython",
    "version": 3
   },
   "file_extension": ".py",
   "mimetype": "text/x-python",
   "name": "python",
   "nbconvert_exporter": "python",
   "pygments_lexer": "ipython3",
   "version": "3.11.5"
  }
 },
 "nbformat": 4,
 "nbformat_minor": 2
}
